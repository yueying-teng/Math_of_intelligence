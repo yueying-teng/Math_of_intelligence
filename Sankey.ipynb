{
 "cells": [
  {
   "cell_type": "code",
   "execution_count": 5,
   "metadata": {},
   "outputs": [],
   "source": [
    "import pandas as pd\n",
    "import numpy as np\n",
    "import csv \n",
    "import re\n",
    "\n",
    "# display cdell without truncation \n",
    "pd.set_option('display.max_colwidth', -1)\n",
    "\n",
    "import plotly.plotly as py\n",
    "import plotly \n",
    "\n"
   ]
  },
  {
   "cell_type": "markdown",
   "metadata": {},
   "source": [
    "https://plot.ly/~alishobeiri/1257/plotly-sankey-diagrams/"
   ]
  },
  {
   "cell_type": "code",
   "execution_count": 3,
   "metadata": {},
   "outputs": [
    {
     "data": {
      "text/html": [
       "<iframe id=\"igraph\" scrolling=\"no\" style=\"border:none;\" seamless=\"seamless\" src=\"https://plot.ly/~yyyy.teng/138.embed\" height=\"872px\" width=\"1050px\"></iframe>"
      ],
      "text/plain": [
       "<plotly.tools.PlotlyDisplay object>"
      ]
     },
     "execution_count": 3,
     "metadata": {},
     "output_type": "execute_result"
    }
   ],
   "source": [
    "data = dict( type = 'sankey', node = dict(pad = 15, thickness = 20, line = dict(color = \"black\", width = 0.5),\n",
    "      label = ['S1-Q1','S2-Q1','S2-Q2', 'S3-Q1', 'S3-Q2', 'S4-Q1', 'S4-Q2','S5-Q1', 'S5-Q2', 'S5-Q3', 'S6-Q1', 'S6-Q2',\n",
    "               'Solved', 'Unsolved'],\n",
    "                                          \n",
    "      color = ['pink', 'pink', 'pink', 'pink', 'pink', 'pink', 'pink', 'pink', 'pink', 'pink', 'pink', 'pink',\n",
    "               'blue', 'red']\n",
    "    ),\n",
    "          # 12: solved; 13: unsolved  \n",
    "    link = dict(\n",
    "      source = [0, 0, 0, 1, 1, 2, 2, 2, 3, 3, 4, 4, 5, 5, 5, 6, 6, 6, 7, 7, 7, 8, 8, 9, 9, 10, 11],\n",
    "      target = [1, 2, 12, 3, 12, 3, 4, 12, 5, 12, 6, 12, 7, 9, 12, 8, 9, 12, 10, 10, 12, 10, 12, 11, 12, 13, 13],\n",
    "      value = [161, 453, 86, 150, 11, 120, 270, 63, 262, 8, 250, 20, 100, 102, 60, 22, 155, 73, 10, 20, 70, 6, 16, 100, 157, 16, 120]\n",
    "  ))\n",
    "\n",
    "layout =  dict(title = \"Qestion Flow\", height = 872, width = 1050,\n",
    "    font = dict(size = 10)\n",
    ")\n",
    "\n",
    "fig = dict(data = [data], layout = layout)\n",
    "py.iplot(fig, validate = False)"
   ]
  },
  {
   "cell_type": "code",
   "execution_count": null,
   "metadata": {},
   "outputs": [],
   "source": []
  }
 ],
 "metadata": {
  "kernelspec": {
   "display_name": "Python [default]",
   "language": "python",
   "name": "python3"
  },
  "language_info": {
   "codemirror_mode": {
    "name": "ipython",
    "version": 3
   },
   "file_extension": ".py",
   "mimetype": "text/x-python",
   "name": "python",
   "nbconvert_exporter": "python",
   "pygments_lexer": "ipython3",
   "version": "3.6.4"
  }
 },
 "nbformat": 4,
 "nbformat_minor": 2
}
