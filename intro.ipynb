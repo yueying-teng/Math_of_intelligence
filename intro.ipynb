{
 "cells": [
  {
   "cell_type": "markdown",
   "metadata": {},
   "source": [
    "I’ currently working on the prediction of Market capitalization of companies in different stock exchanges using Machine learning techniques.\n",
    "If you have any questions that I can be of use, please let me know. I’d love to help and understand the tasks you are working on. \n",
    "\n",
    "お疲れ様\n",
    "\n",
    "私は現在、機械学習技術を使って様々な証券取引所にある企業の時価総額の予測に取り組んでいます。 私が使用できる疑問がある場合は、私に知らせてください。私はあなたが取り組んでいる仕事を助け理解したいと思っています。\n",
    "\n",
    "頑張ります。\n",
    "\n",
    "お願いします\n"
   ]
  }
 ],
 "metadata": {
  "kernelspec": {
   "display_name": "Python 3",
   "language": "python",
   "name": "python3"
  },
  "language_info": {
   "codemirror_mode": {
    "name": "ipython",
    "version": 3
   },
   "file_extension": ".py",
   "mimetype": "text/x-python",
   "name": "python",
   "nbconvert_exporter": "python",
   "pygments_lexer": "ipython3",
   "version": "3.5.2"
  }
 },
 "nbformat": 4,
 "nbformat_minor": 2
}
