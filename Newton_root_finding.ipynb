{
 "cells": [
  {
   "cell_type": "code",
   "execution_count": 2,
   "metadata": {
    "collapsed": true
   },
   "outputs": [],
   "source": [
    "from scipy.optimize import newton\n",
    "from sklearn.utils.testing import assert_almost_equal"
   ]
  },
  {
   "cell_type": "code",
   "execution_count": 57,
   "metadata": {},
   "outputs": [],
   "source": [
    "# the function \n",
    "def f(x):\n",
    "    return 6*x**5-5*x**4-4*x**3+3*x**2\n",
    "\n",
    "def df(x):\n",
    "    return 30*x**4-20*x**3-12*x**2+6*x\n",
    "\n",
    "# for root point f(r) = 0, evaluation of the current iteration abs(f(x0) - f(r)), i.e. abs(f(x0) - 0)\n",
    "# stopping criteria evaluation \n",
    "def dx(f, x):\n",
    "    return abs(0-f(x))"
   ]
  },
  {
   "cell_type": "code",
   "execution_count": 58,
   "metadata": {
    "collapsed": true
   },
   "outputs": [],
   "source": [
    "# start from some reasonable guess of the root x0\n",
    "def newtons_method(f, df, x0, e, print_res=False):\n",
    "    ite = [x0]\n",
    "    delta = dx(f, x0)\n",
    "    while delta > e:\n",
    "        x1 = x0 - f(x0)/df(x0)\n",
    "        ite.append(x1)\n",
    "        x0 = x1\n",
    "        delta = dx(f, x0)\n",
    "    if print_res:\n",
    "        print ('Root is at: ', x0)\n",
    "        print ('f(x) at root is: ', f(x0))\n",
    "        print ('Root finding process ', ite)\n",
    "    return x0, ite"
   ]
  },
  {
   "cell_type": "code",
   "execution_count": 10,
   "metadata": {
    "collapsed": true
   },
   "outputs": [],
   "source": [
    "def test_with_scipy(f, df, x0s, e):\n",
    "    for x0 in x0s:\n",
    "        my_newton = newtons_method(f, df, x0, e)\n",
    "        scipy_newton = newton(f, x0, df, tol=e)\n",
    "        assert_almost_equal(my_newton, scipy_newton, decimal=5)\n",
    "        print ('Tests passed.')"
   ]
  },
  {
   "cell_type": "code",
   "execution_count": 13,
   "metadata": {
    "scrolled": true
   },
   "outputs": [
    {
     "name": "stdout",
     "output_type": "stream",
     "text": [
      "Tests passed.\n",
      "Tests passed.\n",
      "Tests passed.\n",
      "Root is at:  0\n",
      "f(x) at root is:  0\n",
      "Root is at:  0.6286669787778999\n",
      "f(x) at root is:  -1.8043344596208044e-12\n",
      "Root is at:  1\n",
      "f(x) at root is:  0\n"
     ]
    },
    {
     "name": "stderr",
     "output_type": "stream",
     "text": [
      "C:\\Users\\1098071\\AppData\\Local\\Continuum\\Anaconda3\\lib\\site-packages\\scipy\\optimize\\zeros.py:142: RuntimeWarning: derivative was zero.\n",
      "  warnings.warn(msg, RuntimeWarning)\n"
     ]
    }
   ],
   "source": [
    "if __name__ == '__main__':\n",
    "    # run test\n",
    "    x0s = [0, 0.5, 1]    \n",
    "    test_with_scipy(f, df, x0s, 1e-5)\n",
    "        \n",
    "    for x0 in x0s:\n",
    "        newtons_method(f, df, x0, 1e-10, True)"
   ]
  },
  {
   "cell_type": "code",
   "execution_count": null,
   "metadata": {
    "collapsed": true
   },
   "outputs": [],
   "source": []
  },
  {
   "cell_type": "code",
   "execution_count": null,
   "metadata": {
    "collapsed": true
   },
   "outputs": [],
   "source": []
  },
  {
   "cell_type": "code",
   "execution_count": 60,
   "metadata": {},
   "outputs": [
    {
     "name": "stdout",
     "output_type": "stream",
     "text": [
      "Root is at:  0\n",
      "f(x) at root is:  0\n",
      "Root finding process  [0]\n",
      "Root is at:  0.6286680781673306\n",
      "f(x) at root is:  -1.3785387997788945e-06\n",
      "Root finding process  [0.5, 0.7, 0.6296335078534031, 0.6286680781673306]\n",
      "Root is at:  1\n",
      "f(x) at root is:  0\n",
      "Root finding process  [1]\n"
     ]
    }
   ],
   "source": [
    "x0s = [0, 0.5, 1]   \n",
    "root = [ ]\n",
    "for x0 in x0s:\n",
    "    newtons_method(f, df, x0, e = 1e-5, print_res= True)\n",
    "    root.append(newtons_method(f, df, x0, e = 1e-5, print_res= False)[0])"
   ]
  },
  {
   "cell_type": "code",
   "execution_count": 61,
   "metadata": {},
   "outputs": [
    {
     "data": {
      "text/plain": [
       "[0, 0.6286680781673306, 1]"
      ]
     },
     "execution_count": 61,
     "metadata": {},
     "output_type": "execute_result"
    }
   ],
   "source": [
    "root"
   ]
  },
  {
   "cell_type": "code",
   "execution_count": 31,
   "metadata": {},
   "outputs": [],
   "source": [
    "import matplotlib.pyplot as plt \n",
    "% matplotlib inline\n",
    "import numpy as np"
   ]
  },
  {
   "cell_type": "code",
   "execution_count": 66,
   "metadata": {},
   "outputs": [
    {
     "data": {
      "image/png": "[encoded data removed]",
      "text/plain": [
       "<matplotlib.figure.Figure at 0xaa104a8>"
      ]
     },
     "metadata": {},
     "output_type": "display_data"
    }
   ],
   "source": [
    "# f(x) = 6*x**5 - 5*x**4 - 4*x**3 + 3*x**2\n",
    "# df(x) = 30*x**4 - 20*x**3 - 12*x**2 + 6*x\n",
    "# roots to f(x) are stored in root \n",
    "\n",
    "xval = np.arange(-1.5, 1.5, .01) #  Grid of 0.01 spacing from -2 to 2\n",
    "yval = f(xval) # evaluate the function at xval \n",
    "\n",
    "fig = plt.figure(figsize = (7,7))\n",
    "plt.plot(xval, yval) # Create line plot with yvals against xvals\n",
    "plt.plot(xval, np.zeros(len(xval)), color = 'red')\n",
    "plt.scatter(x = root, y = np.zeros(len(root)), color = 'green')\n",
    "plt.show()"
   ]
  }
 ],
 "metadata": {
  "kernelspec": {
   "display_name": "Python 3",
   "language": "python",
   "name": "python3"
  },
  "language_info": {
   "codemirror_mode": {
    "name": "ipython",
    "version": 3
   },
   "file_extension": ".py",
   "mimetype": "text/x-python",
   "name": "python",
   "nbconvert_exporter": "python",
   "pygments_lexer": "ipython3",
   "version": "3.6.1"
  }
 },
 "nbformat": 4,
 "nbformat_minor": 2
}
