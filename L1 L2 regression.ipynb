{
 "cells": [
  {
   "cell_type": "code",
   "execution_count": 12,
   "metadata": {
    "collapsed": true
   },
   "outputs": [],
   "source": [
    "import numpy as np\n",
    "import pandas as pd\n",
    "import matplotlib.pyplot as plt\n",
    "import seaborn as sns\n",
    "\n",
    "%matplotlib inline"
   ]
  },
  {
   "cell_type": "code",
   "execution_count": 37,
   "metadata": {},
   "outputs": [
    {
     "data": {
      "text/html": [
       "<div>\n",
       "<style>\n",
       "    .dataframe thead tr:only-child th {\n",
       "        text-align: right;\n",
       "    }\n",
       "\n",
       "    .dataframe thead th {\n",
       "        text-align: left;\n",
       "    }\n",
       "\n",
       "    .dataframe tbody tr th {\n",
       "        vertical-align: top;\n",
       "    }\n",
       "</style>\n",
       "<table border=\"1\" class=\"dataframe\">\n",
       "  <thead>\n",
       "    <tr style=\"text-align: right;\">\n",
       "      <th></th>\n",
       "      <th>dt</th>\n",
       "      <th>AverageTemperature</th>\n",
       "      <th>AverageTemperatureUncertainty</th>\n",
       "      <th>City</th>\n",
       "      <th>Country</th>\n",
       "      <th>Latitude</th>\n",
       "      <th>Longitude</th>\n",
       "    </tr>\n",
       "  </thead>\n",
       "  <tbody>\n",
       "    <tr>\n",
       "      <th>0</th>\n",
       "      <td>1849-01-01</td>\n",
       "      <td>26.704</td>\n",
       "      <td>1.435</td>\n",
       "      <td>Abidjan</td>\n",
       "      <td>Côte D'Ivoire</td>\n",
       "      <td>5.63N</td>\n",
       "      <td>3.23W</td>\n",
       "    </tr>\n",
       "    <tr>\n",
       "      <th>1</th>\n",
       "      <td>1849-02-01</td>\n",
       "      <td>27.434</td>\n",
       "      <td>1.362</td>\n",
       "      <td>Abidjan</td>\n",
       "      <td>Côte D'Ivoire</td>\n",
       "      <td>5.63N</td>\n",
       "      <td>3.23W</td>\n",
       "    </tr>\n",
       "    <tr>\n",
       "      <th>2</th>\n",
       "      <td>1849-03-01</td>\n",
       "      <td>28.101</td>\n",
       "      <td>1.612</td>\n",
       "      <td>Abidjan</td>\n",
       "      <td>Côte D'Ivoire</td>\n",
       "      <td>5.63N</td>\n",
       "      <td>3.23W</td>\n",
       "    </tr>\n",
       "    <tr>\n",
       "      <th>3</th>\n",
       "      <td>1849-04-01</td>\n",
       "      <td>26.140</td>\n",
       "      <td>1.387</td>\n",
       "      <td>Abidjan</td>\n",
       "      <td>Côte D'Ivoire</td>\n",
       "      <td>5.63N</td>\n",
       "      <td>3.23W</td>\n",
       "    </tr>\n",
       "    <tr>\n",
       "      <th>4</th>\n",
       "      <td>1849-05-01</td>\n",
       "      <td>25.427</td>\n",
       "      <td>1.200</td>\n",
       "      <td>Abidjan</td>\n",
       "      <td>Côte D'Ivoire</td>\n",
       "      <td>5.63N</td>\n",
       "      <td>3.23W</td>\n",
       "    </tr>\n",
       "  </tbody>\n",
       "</table>\n",
       "</div>"
      ],
      "text/plain": [
       "           dt  AverageTemperature  AverageTemperatureUncertainty     City  \\\n",
       "0  1849-01-01              26.704                          1.435  Abidjan   \n",
       "1  1849-02-01              27.434                          1.362  Abidjan   \n",
       "2  1849-03-01              28.101                          1.612  Abidjan   \n",
       "3  1849-04-01              26.140                          1.387  Abidjan   \n",
       "4  1849-05-01              25.427                          1.200  Abidjan   \n",
       "\n",
       "         Country Latitude Longitude  \n",
       "0  Côte D'Ivoire    5.63N     3.23W  \n",
       "1  Côte D'Ivoire    5.63N     3.23W  \n",
       "2  Côte D'Ivoire    5.63N     3.23W  \n",
       "3  Côte D'Ivoire    5.63N     3.23W  \n",
       "4  Côte D'Ivoire    5.63N     3.23W  "
      ]
     },
     "execution_count": 37,
     "metadata": {},
     "output_type": "execute_result"
    }
   ],
   "source": [
    "data = pd.read_csv('GlobalLandTemperaturesByMajorCity.csv')\n",
    "data.head()"
   ]
  },
  {
   "cell_type": "code",
   "execution_count": 11,
   "metadata": {},
   "outputs": [],
   "source": [
    "# return unique values from an numpy array \n",
    "# np.unique(data['City'].values)"
   ]
  },
  {
   "cell_type": "code",
   "execution_count": 38,
   "metadata": {
    "collapsed": true
   },
   "outputs": [],
   "source": [
    "# Extrating year and month from data\n",
    "# pd.to_datetime converts arguement to datetime \n",
    "# DatetimeIndex creates timestamp objects - split to date time format and generate datetime format \n",
    "\n",
    "# type(data['month'].iloc[0])\n",
    "\n",
    "# year month columns are created to be filled with numpy inte64 values, while city column has str values \n",
    "data['year'] = pd.DatetimeIndex(pd.to_datetime(data['dt'])).year\n",
    "data['month'] = pd.DatetimeIndex(pd.to_datetime(data['dt'])).month"
   ]
  },
  {
   "cell_type": "code",
   "execution_count": 42,
   "metadata": {},
   "outputs": [
    {
     "data": {
      "text/html": [
       "<div>\n",
       "<style>\n",
       "    .dataframe thead tr:only-child th {\n",
       "        text-align: right;\n",
       "    }\n",
       "\n",
       "    .dataframe thead th {\n",
       "        text-align: left;\n",
       "    }\n",
       "\n",
       "    .dataframe tbody tr th {\n",
       "        vertical-align: top;\n",
       "    }\n",
       "</style>\n",
       "<table border=\"1\" class=\"dataframe\">\n",
       "  <thead>\n",
       "    <tr style=\"text-align: right;\">\n",
       "      <th></th>\n",
       "      <th>dt</th>\n",
       "      <th>AverageTemperature</th>\n",
       "      <th>AverageTemperatureUncertainty</th>\n",
       "      <th>City</th>\n",
       "      <th>Country</th>\n",
       "      <th>Latitude</th>\n",
       "      <th>Longitude</th>\n",
       "      <th>year</th>\n",
       "      <th>month</th>\n",
       "    </tr>\n",
       "  </thead>\n",
       "  <tbody>\n",
       "    <tr>\n",
       "      <th>131855</th>\n",
       "      <td>1849-10-01</td>\n",
       "      <td>16.549</td>\n",
       "      <td>2.177</td>\n",
       "      <td>Los Angeles</td>\n",
       "      <td>United States</td>\n",
       "      <td>34.56N</td>\n",
       "      <td>118.70W</td>\n",
       "      <td>1849</td>\n",
       "      <td>10</td>\n",
       "    </tr>\n",
       "    <tr>\n",
       "      <th>131867</th>\n",
       "      <td>1850-10-01</td>\n",
       "      <td>17.577</td>\n",
       "      <td>1.318</td>\n",
       "      <td>Los Angeles</td>\n",
       "      <td>United States</td>\n",
       "      <td>34.56N</td>\n",
       "      <td>118.70W</td>\n",
       "      <td>1850</td>\n",
       "      <td>10</td>\n",
       "    </tr>\n",
       "    <tr>\n",
       "      <th>131879</th>\n",
       "      <td>1851-10-01</td>\n",
       "      <td>16.963</td>\n",
       "      <td>2.856</td>\n",
       "      <td>Los Angeles</td>\n",
       "      <td>United States</td>\n",
       "      <td>34.56N</td>\n",
       "      <td>118.70W</td>\n",
       "      <td>1851</td>\n",
       "      <td>10</td>\n",
       "    </tr>\n",
       "    <tr>\n",
       "      <th>131891</th>\n",
       "      <td>1852-10-01</td>\n",
       "      <td>15.792</td>\n",
       "      <td>1.630</td>\n",
       "      <td>Los Angeles</td>\n",
       "      <td>United States</td>\n",
       "      <td>34.56N</td>\n",
       "      <td>118.70W</td>\n",
       "      <td>1852</td>\n",
       "      <td>10</td>\n",
       "    </tr>\n",
       "    <tr>\n",
       "      <th>131903</th>\n",
       "      <td>1853-10-01</td>\n",
       "      <td>17.851</td>\n",
       "      <td>3.069</td>\n",
       "      <td>Los Angeles</td>\n",
       "      <td>United States</td>\n",
       "      <td>34.56N</td>\n",
       "      <td>118.70W</td>\n",
       "      <td>1853</td>\n",
       "      <td>10</td>\n",
       "    </tr>\n",
       "  </tbody>\n",
       "</table>\n",
       "</div>"
      ],
      "text/plain": [
       "                dt  AverageTemperature  AverageTemperatureUncertainty  \\\n",
       "131855  1849-10-01              16.549                          2.177   \n",
       "131867  1850-10-01              17.577                          1.318   \n",
       "131879  1851-10-01              16.963                          2.856   \n",
       "131891  1852-10-01              15.792                          1.630   \n",
       "131903  1853-10-01              17.851                          3.069   \n",
       "\n",
       "               City        Country Latitude Longitude  year  month  \n",
       "131855  Los Angeles  United States   34.56N   118.70W  1849     10  \n",
       "131867  Los Angeles  United States   34.56N   118.70W  1850     10  \n",
       "131879  Los Angeles  United States   34.56N   118.70W  1851     10  \n",
       "131891  Los Angeles  United States   34.56N   118.70W  1852     10  \n",
       "131903  Los Angeles  United States   34.56N   118.70W  1853     10  "
      ]
     },
     "execution_count": 42,
     "metadata": {},
     "output_type": "execute_result"
    }
   ],
   "source": [
    "# only consider Los Angeles in October across years \n",
    "data = data[data['City'] == 'Los Angeles']\n",
    "data = data[data['month'] == 10]\n",
    "data.head()"
   ]
  },
  {
   "cell_type": "code",
   "execution_count": 49,
   "metadata": {},
   "outputs": [
    {
     "data": {
      "image/png": "[encoded data removed]",
      "text/plain": [
       "<matplotlib.figure.Figure at 0xd586be0>"
      ]
     },
     "metadata": {},
     "output_type": "display_data"
    }
   ],
   "source": [
    "# a linear trend can be seen from the plot \n",
    "figure = plt.figure(figsize = (10,5))\n",
    "plt.scatter(x = data['year'], y = data['AverageTemperature'])\n",
    "plt.ylabel('temperature')\n",
    "plt.xlabel('year')\n",
    "plt.show()"
   ]
  },
  {
   "cell_type": "markdown",
   "metadata": {},
   "source": [
    "#### simple linear regression, regularization and gradient descent "
   ]
  },
  {
   "cell_type": "markdown",
   "metadata": {},
   "source": [
    "Regularization is like adding a penalty term with regularization term lambda to the cost function and gradinet descent follows as usual.\n",
    "The goal is to find the weights that minimizes the regularized cost function \n",
    "\n",
    "$$\n",
    "E(m,b) =  \\frac{1}{2N} \\sum_{i=1}^n\\big(y_i - (m x_i + b )\\big)^2\n",
    "$$\n",
    "\n",
    "Regularization is a very important technique in machine learning to prevent overfitting and ensure that the model generalizes well to new data. Generally, there are two forms of regularization - L1 and L2. \n",
    "\n",
    "####  With L1 Regularization:\n",
    "\n",
    "$$\n",
    "E(m,b) =  \\frac{1}{2N} \\big(\\sum_{i=1}^n\\big(y_i - (m x_i + b )\\big)^2 + \\lambda \\parallel m \\parallel\\big)\n",
    "$$\n",
    "\n",
    "$$\n",
    "\\frac{d}{db} = \\frac{1}{N} \\sum_{i=1}^n -\\big(y_i - (m x_i + b )\\big)\n",
    "$$\n",
    "\n",
    "$$\n",
    "\\frac{d}{dm} = \\frac{\\lambda}{2N} + \\frac{1}{N} \\sum_{i=1}^n -x_i\\big(y_i - (m x_i + b )\\big)\n",
    "$$\n",
    "\n",
    "\n",
    "#### With L2 Regularization:\n",
    "\n",
    "$$\n",
    "E(m,b) =  \\frac{1}{2N} \\big(\\sum_{i=1}^n\\big(y_i - (m x_i + b )\\big)^2 + \\lambda \\parallel m \\parallel^2\\big)\n",
    "$$\n",
    "\n",
    "$$\n",
    "\\frac{d}{db} = \\frac{1}{N} \\sum_{i=1}^n -\\big(y_i - (m x_i + b )\\big)\n",
    "$$\n",
    "\n",
    "$$\n",
    "\\frac{d}{dm} = \\frac{\\lambda}{N} m + \\frac{1}{N} \\sum_{i=1}^n -x_i\\big(y_i - (m x_i + b )\\big)\n",
    "$$\n",
    "\n",
    "\n",
    "The partial derivative with respect to the intercept b does not vary with regularization."
   ]
  },
  {
   "cell_type": "code",
   "execution_count": null,
   "metadata": {
    "collapsed": true
   },
   "outputs": [],
   "source": []
  },
  {
   "cell_type": "code",
   "execution_count": null,
   "metadata": {
    "collapsed": true
   },
   "outputs": [],
   "source": []
  },
  {
   "cell_type": "code",
   "execution_count": null,
   "metadata": {
    "collapsed": true
   },
   "outputs": [],
   "source": []
  },
  {
   "cell_type": "code",
   "execution_count": null,
   "metadata": {
    "collapsed": true
   },
   "outputs": [],
   "source": []
  },
  {
   "cell_type": "code",
   "execution_count": null,
   "metadata": {
    "collapsed": true
   },
   "outputs": [],
   "source": []
  }
 ],
 "metadata": {
  "kernelspec": {
   "display_name": "Python 3",
   "language": "python",
   "name": "python3"
  },
  "language_info": {
   "codemirror_mode": {
    "name": "ipython",
    "version": 3
   },
   "file_extension": ".py",
   "mimetype": "text/x-python",
   "name": "python",
   "nbconvert_exporter": "python",
   "pygments_lexer": "ipython3",
   "version": "3.6.1"
  }
 },
 "nbformat": 4,
 "nbformat_minor": 2
}
