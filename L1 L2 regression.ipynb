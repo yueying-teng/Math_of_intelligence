{
 "cells": [
  {
   "cell_type": "code",
   "execution_count": 12,
   "metadata": {
    "collapsed": true
   },
   "outputs": [],
   "source": [
    "import numpy as np\n",
    "import pandas as pd\n",
    "import matplotlib.pyplot as plt\n",
    "import seaborn as sns\n",
    "\n",
    "%matplotlib inline"
   ]
  },
  {
   "cell_type": "code",
   "execution_count": 37,
   "metadata": {},
   "outputs": [
    {
     "data": {
      "text/html": [
       "<div>\n",
       "<style>\n",
       "    .dataframe thead tr:only-child th {\n",
       "        text-align: right;\n",
       "    }\n",
       "\n",
       "    .dataframe thead th {\n",
       "        text-align: left;\n",
       "    }\n",
       "\n",
       "    .dataframe tbody tr th {\n",
       "        vertical-align: top;\n",
       "    }\n",
       "</style>\n",
       "<table border=\"1\" class=\"dataframe\">\n",
       "  <thead>\n",
       "    <tr style=\"text-align: right;\">\n",
       "      <th></th>\n",
       "      <th>dt</th>\n",
       "      <th>AverageTemperature</th>\n",
       "      <th>AverageTemperatureUncertainty</th>\n",
       "      <th>City</th>\n",
       "      <th>Country</th>\n",
       "      <th>Latitude</th>\n",
       "      <th>Longitude</th>\n",
       "    </tr>\n",
       "  </thead>\n",
       "  <tbody>\n",
       "    <tr>\n",
       "      <th>0</th>\n",
       "      <td>1849-01-01</td>\n",
       "      <td>26.704</td>\n",
       "      <td>1.435</td>\n",
       "      <td>Abidjan</td>\n",
       "      <td>Côte D'Ivoire</td>\n",
       "      <td>5.63N</td>\n",
       "      <td>3.23W</td>\n",
       "    </tr>\n",
       "    <tr>\n",
       "      <th>1</th>\n",
       "      <td>1849-02-01</td>\n",
       "      <td>27.434</td>\n",
       "      <td>1.362</td>\n",
       "      <td>Abidjan</td>\n",
       "      <td>Côte D'Ivoire</td>\n",
       "      <td>5.63N</td>\n",
       "      <td>3.23W</td>\n",
       "    </tr>\n",
       "    <tr>\n",
       "      <th>2</th>\n",
       "      <td>1849-03-01</td>\n",
       "      <td>28.101</td>\n",
       "      <td>1.612</td>\n",
       "      <td>Abidjan</td>\n",
       "      <td>Côte D'Ivoire</td>\n",
       "      <td>5.63N</td>\n",
       "      <td>3.23W</td>\n",
       "    </tr>\n",
       "    <tr>\n",
       "      <th>3</th>\n",
       "      <td>1849-04-01</td>\n",
       "      <td>26.140</td>\n",
       "      <td>1.387</td>\n",
       "      <td>Abidjan</td>\n",
       "      <td>Côte D'Ivoire</td>\n",
       "      <td>5.63N</td>\n",
       "      <td>3.23W</td>\n",
       "    </tr>\n",
       "    <tr>\n",
       "      <th>4</th>\n",
       "      <td>1849-05-01</td>\n",
       "      <td>25.427</td>\n",
       "      <td>1.200</td>\n",
       "      <td>Abidjan</td>\n",
       "      <td>Côte D'Ivoire</td>\n",
       "      <td>5.63N</td>\n",
       "      <td>3.23W</td>\n",
       "    </tr>\n",
       "  </tbody>\n",
       "</table>\n",
       "</div>"
      ],
      "text/plain": [
       "           dt  AverageTemperature  AverageTemperatureUncertainty     City  \\\n",
       "0  1849-01-01              26.704                          1.435  Abidjan   \n",
       "1  1849-02-01              27.434                          1.362  Abidjan   \n",
       "2  1849-03-01              28.101                          1.612  Abidjan   \n",
       "3  1849-04-01              26.140                          1.387  Abidjan   \n",
       "4  1849-05-01              25.427                          1.200  Abidjan   \n",
       "\n",
       "         Country Latitude Longitude  \n",
       "0  Côte D'Ivoire    5.63N     3.23W  \n",
       "1  Côte D'Ivoire    5.63N     3.23W  \n",
       "2  Côte D'Ivoire    5.63N     3.23W  \n",
       "3  Côte D'Ivoire    5.63N     3.23W  \n",
       "4  Côte D'Ivoire    5.63N     3.23W  "
      ]
     },
     "execution_count": 37,
     "metadata": {},
     "output_type": "execute_result"
    }
   ],
   "source": [
    "data = pd.read_csv('GlobalLandTemperaturesByMajorCity.csv')\n",
    "data.head()"
   ]
  },
  {
   "cell_type": "code",
   "execution_count": 11,
   "metadata": {},
   "outputs": [],
   "source": [
    "# return unique values from an numpy array \n",
    "# np.unique(data['City'].values)"
   ]
  },
  {
   "cell_type": "code",
   "execution_count": 38,
   "metadata": {
    "collapsed": true
   },
   "outputs": [],
   "source": [
    "# Extrating year and month from data\n",
    "# pd.to_datetime converts arguement to datetime \n",
    "# DatetimeIndex creates timestamp objects - split to date time format and generate datetime format \n",
    "\n",
    "# type(data['month'].iloc[0])\n",
    "\n",
    "# year month columns are created to be filled with numpy inte64 values, while city column has str values \n",
    "data['year'] = pd.DatetimeIndex(pd.to_datetime(data['dt'])).year\n",
    "data['month'] = pd.DatetimeIndex(pd.to_datetime(data['dt'])).month"
   ]
  },
  {
   "cell_type": "code",
   "execution_count": 42,
   "metadata": {},
   "outputs": [
    {
     "data": {
      "text/html": [
       "<div>\n",
       "<style>\n",
       "    .dataframe thead tr:only-child th {\n",
       "        text-align: right;\n",
       "    }\n",
       "\n",
       "    .dataframe thead th {\n",
       "        text-align: left;\n",
       "    }\n",
       "\n",
       "    .dataframe tbody tr th {\n",
       "        vertical-align: top;\n",
       "    }\n",
       "</style>\n",
       "<table border=\"1\" class=\"dataframe\">\n",
       "  <thead>\n",
       "    <tr style=\"text-align: right;\">\n",
       "      <th></th>\n",
       "      <th>dt</th>\n",
       "      <th>AverageTemperature</th>\n",
       "      <th>AverageTemperatureUncertainty</th>\n",
       "      <th>City</th>\n",
       "      <th>Country</th>\n",
       "      <th>Latitude</th>\n",
       "      <th>Longitude</th>\n",
       "      <th>year</th>\n",
       "      <th>month</th>\n",
       "    </tr>\n",
       "  </thead>\n",
       "  <tbody>\n",
       "    <tr>\n",
       "      <th>131855</th>\n",
       "      <td>1849-10-01</td>\n",
       "      <td>16.549</td>\n",
       "      <td>2.177</td>\n",
       "      <td>Los Angeles</td>\n",
       "      <td>United States</td>\n",
       "      <td>34.56N</td>\n",
       "      <td>118.70W</td>\n",
       "      <td>1849</td>\n",
       "      <td>10</td>\n",
       "    </tr>\n",
       "    <tr>\n",
       "      <th>131867</th>\n",
       "      <td>1850-10-01</td>\n",
       "      <td>17.577</td>\n",
       "      <td>1.318</td>\n",
       "      <td>Los Angeles</td>\n",
       "      <td>United States</td>\n",
       "      <td>34.56N</td>\n",
       "      <td>118.70W</td>\n",
       "      <td>1850</td>\n",
       "      <td>10</td>\n",
       "    </tr>\n",
       "    <tr>\n",
       "      <th>131879</th>\n",
       "      <td>1851-10-01</td>\n",
       "      <td>16.963</td>\n",
       "      <td>2.856</td>\n",
       "      <td>Los Angeles</td>\n",
       "      <td>United States</td>\n",
       "      <td>34.56N</td>\n",
       "      <td>118.70W</td>\n",
       "      <td>1851</td>\n",
       "      <td>10</td>\n",
       "    </tr>\n",
       "    <tr>\n",
       "      <th>131891</th>\n",
       "      <td>1852-10-01</td>\n",
       "      <td>15.792</td>\n",
       "      <td>1.630</td>\n",
       "      <td>Los Angeles</td>\n",
       "      <td>United States</td>\n",
       "      <td>34.56N</td>\n",
       "      <td>118.70W</td>\n",
       "      <td>1852</td>\n",
       "      <td>10</td>\n",
       "    </tr>\n",
       "    <tr>\n",
       "      <th>131903</th>\n",
       "      <td>1853-10-01</td>\n",
       "      <td>17.851</td>\n",
       "      <td>3.069</td>\n",
       "      <td>Los Angeles</td>\n",
       "      <td>United States</td>\n",
       "      <td>34.56N</td>\n",
       "      <td>118.70W</td>\n",
       "      <td>1853</td>\n",
       "      <td>10</td>\n",
       "    </tr>\n",
       "  </tbody>\n",
       "</table>\n",
       "</div>"
      ],
      "text/plain": [
       "                dt  AverageTemperature  AverageTemperatureUncertainty  \\\n",
       "131855  1849-10-01              16.549                          2.177   \n",
       "131867  1850-10-01              17.577                          1.318   \n",
       "131879  1851-10-01              16.963                          2.856   \n",
       "131891  1852-10-01              15.792                          1.630   \n",
       "131903  1853-10-01              17.851                          3.069   \n",
       "\n",
       "               City        Country Latitude Longitude  year  month  \n",
       "131855  Los Angeles  United States   34.56N   118.70W  1849     10  \n",
       "131867  Los Angeles  United States   34.56N   118.70W  1850     10  \n",
       "131879  Los Angeles  United States   34.56N   118.70W  1851     10  \n",
       "131891  Los Angeles  United States   34.56N   118.70W  1852     10  \n",
       "131903  Los Angeles  United States   34.56N   118.70W  1853     10  "
      ]
     },
     "execution_count": 42,
     "metadata": {},
     "output_type": "execute_result"
    }
   ],
   "source": [
    "# only consider Los Angeles in October across years \n",
    "data = data[data['City'] == 'Los Angeles']\n",
    "data = data[data['month'] == 10]\n",
    "data.head()"
   ]
  },
  {
   "cell_type": "code",
   "execution_count": 49,
   "metadata": {},
   "outputs": [
    {
     "data": {
      "image/png": "[encoded data removed]",
      "text/plain": [
       "<matplotlib.figure.Figure at 0xd586be0>"
      ]
     },
     "metadata": {},
     "output_type": "display_data"
    }
   ],
   "source": [
    "# a linear trend can be seen from the plot \n",
    "figure = plt.figure(figsize = (10,5))\n",
    "plt.scatter(x = data['year'], y = data['AverageTemperature'])\n",
    "plt.ylabel('temperature')\n",
    "plt.xlabel('year')\n",
    "plt.show()"
   ]
  },
  {
   "cell_type": "markdown",
   "metadata": {},
   "source": [
    "### SIMPLE  linear regression, regularization and gradient descent "
   ]
  },
  {
   "cell_type": "markdown",
   "metadata": {},
   "source": [
    "Regularization is like adding a penalty term with regularization term lambda to the cost function and gradinet descent follows as usual.\n",
    "The goal is to find the weights that minimizes the regularized cost function \n",
    "\n",
    "$$\n",
    "E(m,b) =  \\frac{1}{2N} \\sum_{i=1}^n\\big(y_i - (m x_i + b )\\big)^2\n",
    "$$\n",
    "\n",
    "Regularization is a very important technique in machine learning to prevent overfitting and ensure that the model generalizes well to new data. Generally, there are two forms of regularization - L1 and L2. \n",
    "\n",
    "####  With L1 Regularization:\n",
    "\n",
    "$$\n",
    "E(m,b) =  \\frac{1}{2N} \\big(\\sum_{i=1}^n\\big(y_i - (m x_i + b )\\big)^2 + \\lambda \\parallel m \\parallel\\big)\n",
    "$$\n",
    "\n",
    "$$\n",
    "\\frac{d}{db} = \\frac{1}{N} \\sum_{i=1}^n -\\big(y_i - (m x_i + b )\\big)\n",
    "$$\n",
    "\n",
    "$$\n",
    "\\frac{d}{dm} = \\frac{\\lambda}{2N} + \\frac{1}{N} \\sum_{i=1}^n -x_i\\big(y_i - (m x_i + b )\\big)\n",
    "$$\n",
    "\n",
    "\n",
    "#### With L2 Regularization:\n",
    "\n",
    "$$\n",
    "E(m,b) =  \\frac{1}{2N} \\big(\\sum_{i=1}^n\\big(y_i - (m x_i + b )\\big)^2 + \\lambda \\parallel m \\parallel^2\\big)\n",
    "$$\n",
    "\n",
    "$$\n",
    "\\frac{d}{db} = \\frac{1}{N} \\sum_{i=1}^n -\\big(y_i - (m x_i + b )\\big)\n",
    "$$\n",
    "\n",
    "$$\n",
    "\\frac{d}{dm} = \\frac{\\lambda}{N} m + \\frac{1}{N} \\sum_{i=1}^n -x_i\\big(y_i - (m x_i + b )\\big)\n",
    "$$\n",
    "\n",
    "\n",
    "The partial derivative with respect to the intercept b does not vary with regularization."
   ]
  },
  {
   "cell_type": "code",
   "execution_count": 57,
   "metadata": {
    "collapsed": true
   },
   "outputs": [],
   "source": [
    "# as_matrix: Convert the data frame to its Numpy-array representation.\n",
    "points = data.as_matrix(['year', 'AverageTemperature'])"
   ]
  },
  {
   "cell_type": "code",
   "execution_count": 80,
   "metadata": {},
   "outputs": [],
   "source": [
    "# compute sum of squared error givne a line for all data points\n",
    "# points are x = data['year'], y = data['AverageTemperature']\n",
    "\n",
    "def compute_error_for_line_given_points(b, m, points):\n",
    "    totalError = 0\n",
    "    for i in range(0, len(points)):\n",
    "        y = points[:,1][i]\n",
    "        x = points[:,0][i]\n",
    "        totalError += (y - (m * x + b)) ** 2\n",
    "    # return mean squared error      \n",
    "    return totalError / float(len(points))"
   ]
  },
  {
   "cell_type": "code",
   "execution_count": 127,
   "metadata": {},
   "outputs": [],
   "source": [
    "# compute the gradient at each iteration step \n",
    "# lam as the srength of the penalty \n",
    "# regularizer as the choice of L1, L2 ...norm or no regularization at all\n",
    "\n",
    "def step_gradient(b_current, m_current, points, learningRate, lam, regularizer):\n",
    "    m_gradient = 0\n",
    "    b_gradient = 0\n",
    "\n",
    "    N = len(points)\n",
    "\n",
    "    for i in range(len(points)):\n",
    "        y = points[:,1][i]\n",
    "        x = points[:,0][i]\n",
    "        # gradient according to different regularization imposed \n",
    "        if regularizer == 'L1':\n",
    "            m_gradient += lam/(2 * N) - (x/N) * (y - (m_current * x + b_current))\n",
    "\n",
    "        elif regularizer == 'L2':\n",
    "            m_gradient += m_current * lam/N - (x/N) * (y - (m_current * x + b_current))\n",
    "        \n",
    "        else: # no regularization\n",
    "            m_gradient += -(x/N) * (y - (m_current * x + b_current))\n",
    "        \n",
    "        b_gradient += -(1/N) * (y - (m_current * x + b_current))\n",
    "        \n",
    "        # after looping over all the data points, update the coefficients \n",
    "        new_b = b_current - learningRate * b_gradient\n",
    "        new_m = m_current - learningRate * m_gradient\n",
    "\n",
    "    return new_b, new_m "
   ]
  },
  {
   "cell_type": "code",
   "execution_count": 128,
   "metadata": {},
   "outputs": [],
   "source": [
    "b_current = 0\n",
    "m_current = 0\n",
    "learningRate = 0.0001 \n",
    "lam = 0.01\n",
    "regularizer = 'L1'\n",
    "\n",
    "(b, m) = step_gradient(b_current, m_current, points, learningRate, lam, regularizer)"
   ]
  },
  {
   "cell_type": "code",
   "execution_count": 130,
   "metadata": {},
   "outputs": [
    {
     "data": {
      "text/plain": [
       "3.2788536067073171"
      ]
     },
     "execution_count": 130,
     "metadata": {},
     "output_type": "execute_result"
    }
   ],
   "source": [
    "m"
   ]
  },
  {
   "cell_type": "code",
   "execution_count": 188,
   "metadata": {
    "collapsed": true
   },
   "outputs": [],
   "source": [
    "# gradient descent optimization runner  \n",
    "def gradient_descent_runner(points, starting_b, starting_m, learningRate, num_iterations, lam, regularizer):\n",
    "    b = starting_b\n",
    "    m = starting_m\n",
    "    \n",
    "    b_list = [starting_b]\n",
    "    m_list = [starting_m]\n",
    "    for i in range(num_iterations):\n",
    "        new_b, new_m = step_gradient(b, m, points, learningRate, lam, regularizer)\n",
    "        b = new_b\n",
    "        m = new_m\n",
    "                        \n",
    "        b_list.append(new_b)\n",
    "        m_list.append(new_m)\n",
    "        \n",
    "        # Every 100 iterations, prints b and m and error\n",
    "        if i % 100 == 0:\n",
    "            print('Iteration {}, b:{}, m:{}, error:{}'.format(i, b, m, compute_error_for_line_given_points(b, m, points)))\n",
    "    return b_list, m_list"
   ]
  },
  {
   "cell_type": "code",
   "execution_count": 193,
   "metadata": {},
   "outputs": [],
   "source": [
    "# runner function with gradient descent related parameters\n",
    "def run(regularizer, learningRate, num_iterations, lam):\n",
    "    starting_b = 0\n",
    "    starting_m  = 0\n",
    "    b_list, m_list = gradient_descent_runner(points, starting_b, starting_m, learningRate, num_iterations, lam, regularizer)\n",
    "    \n",
    "    print ('After {} iterations, b = {}, m = {}, error = {}'.format(num_iterations, b_list[-1], m_list[-1], compute_error_for_line_given_points(b_list[-1], m_list[-1], points)))\n",
    "    \n",
    "    return b_list, m_list"
   ]
  },
  {
   "cell_type": "code",
   "execution_count": 210,
   "metadata": {},
   "outputs": [
    {
     "name": "stdout",
     "output_type": "stream",
     "text": [
      "Iteration 0, b:1.6974890243902432e-06, m:0.0032788536067073167, error:114.66922021674188\n",
      "Iteration 100, b:4.558132635971237e-06, m:0.008792678624670747, error:1.2969344149948159\n",
      "Iteration 200, b:4.564328644382075e-06, m:0.00879267862146314, error:1.2969344149871374\n",
      "Iteration 300, b:4.5705246527556734e-06, m:0.008792678618255534, error:1.2969344149794586\n",
      "Iteration 400, b:4.576720661092033e-06, m:0.008792678615047927, error:1.2969344149717805\n",
      "After 500 iterations, b = 4.582854709308345e-06, m = 0.008792678611872396, error = 1.29693441496418\n",
      "4.58285470931e-06 0.00879267861187\n",
      "Iteration 0, b:1.6974890243902432e-06, m:0.003253853606707318, error:115.69962354906068\n",
      "Iteration 100, b:5.830591196204104e-06, m:0.008725637166902842, error:1.3136946086406749\n",
      "Iteration 200, b:7.131009818388362e-06, m:0.00872563649369018, error:1.3136946070291962\n",
      "Iteration 300, b:8.431428432756832e-06, m:0.008725635820477522, error:1.3136946054177188\n",
      "Iteration 400, b:9.731847039309517e-06, m:0.008725635147264868, error:1.3136946038062456\n",
      "After 500 iterations, b = 1.1019261452097737e-05, m = 0.008725634480784346, error = 1.3136946022108869\n",
      "1.10192614521e-05 0.00872563448078\n",
      "Iteration 0, b:1.6974890243902432e-06, m:0.0032788536067073167, error:114.66922021674188\n",
      "Iteration 100, b:4.579896115606634e-06, m:0.008791499835056749, error:1.2969395965805244\n",
      "Iteration 200, b:4.608848439793993e-06, m:0.008791499820070454, error:1.2969395965446284\n",
      "Iteration 300, b:4.637800763768552e-06, m:0.008791499805084159, error:1.2969395965087336\n",
      "Iteration 400, b:4.666753087530309e-06, m:0.008791499790097862, error:1.296939596472838\n",
      "After 500 iterations, b = 4.695415887844834e-06, m = 0.00879149977526143, error = 1.2969395964373014\n",
      "4.69541588784e-06 0.00879149977526\n"
     ]
    }
   ],
   "source": [
    "# Hyperparameters\n",
    "learningRate = 0.0000001\n",
    "num_iterations = 500\n",
    "lam = 500\n",
    "# run(regularizer, learningRate, num_iterations, lam)\n",
    "\n",
    "b, m = run(' ', learningRate, num_iterations, lam)\n",
    "print (b[-1], m[-1])\n",
    "\n",
    "# b1, m1 = gradient_descent_runner(points, starting_b, starting_m, learningRate, num_iterations, lam, regularizer)\n",
    "b1, m1 = run('L1', learningRate, num_iterations, lam)\n",
    "\n",
    "print (b1[-1], m1[-1])\n",
    "\n",
    "# b2, m2 = gradient_descent_runner(points, starting_b, starting_m, learningRate, num_iterations, lam, regularizer)\n",
    "b2, m2 = run('L2', learningRate, num_iterations, lam)\n",
    "\n",
    "print (b2[-1], m2[-1])"
   ]
  },
  {
   "cell_type": "markdown",
   "metadata": {},
   "source": [
    "#### prediction with gradient descent result "
   ]
  },
  {
   "cell_type": "code",
   "execution_count": 203,
   "metadata": {
    "collapsed": true
   },
   "outputs": [],
   "source": [
    "# predict y given x\n",
    "\n",
    "def predict(b, m, years):\n",
    "    predicted_y = list()\n",
    "    for x in years:\n",
    "        y = m * x + b\n",
    "        predicted_y.append(y)\n",
    "    return predicted_y"
   ]
  },
  {
   "cell_type": "code",
   "execution_count": 214,
   "metadata": {},
   "outputs": [
    {
     "data": {
      "text/plain": [
       "[18.024995737193123, 18.464629667786742]"
      ]
     },
     "execution_count": 214,
     "metadata": {},
     "output_type": "execute_result"
    }
   ],
   "source": [
    "learningRate = 0.0000001\n",
    "num_iterations = 500\n",
    "lam = 500\n",
    "regularizer = 'L1'\n",
    "\n",
    "predict(b[-1], m[-1], [2050, 2100])"
   ]
  },
  {
   "cell_type": "markdown",
   "metadata": {},
   "source": [
    "#### visualization "
   ]
  },
  {
   "cell_type": "code",
   "execution_count": 213,
   "metadata": {},
   "outputs": [
    {
     "data": {
      "image/png": "[encoded data removed]",
      "text/plain": [
       "<matplotlib.figure.Figure at 0xaba39e8>"
      ]
     },
     "metadata": {},
     "output_type": "display_data"
    }
   ],
   "source": [
    "# fitted line under different regularization and training data points \n",
    "\n",
    "fig, ax = plt.subplots(figsize=(14, 7))\n",
    "ax.set_xlabel('Year')\n",
    "ax.set_ylabel('Av. Temp in October (Degrees Celcius)')\n",
    "\n",
    "plt.plot(points[:,0], predict(b1[-1], m1[-1], points[:,0]), label='L1')\n",
    "plt.plot(points[:,0], predict(b2[-1], m2[-1], points[:,0]), label='L2')\n",
    "plt.plot(points[:,0], predict(b[-1], m[-1], points[:,0]), label='No Regularization')\n",
    "\n",
    "plt.scatter(points[:,0], points[:,1])\n",
    "plt.legend()\n",
    "plt.show()\n",
    "\n",
    "# L2 and No Regularization fitted lines almost overlap"
   ]
  },
  {
   "cell_type": "code",
   "execution_count": null,
   "metadata": {
    "collapsed": true
   },
   "outputs": [],
   "source": []
  }
 ],
 "metadata": {
  "kernelspec": {
   "display_name": "Python 3",
   "language": "python",
   "name": "python3"
  },
  "language_info": {
   "codemirror_mode": {
    "name": "ipython",
    "version": 3
   },
   "file_extension": ".py",
   "mimetype": "text/x-python",
   "name": "python",
   "nbconvert_exporter": "python",
   "pygments_lexer": "ipython3",
   "version": "3.6.1"
  }
 },
 "nbformat": 4,
 "nbformat_minor": 2
}
