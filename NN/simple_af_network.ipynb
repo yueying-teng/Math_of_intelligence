{
 "cells": [
  {
   "cell_type": "code",
   "execution_count": 6,
   "metadata": {},
   "outputs": [],
   "source": [
    "#dependencies (matrix math) \n",
    "import numpy as np"
   ]
  },
  {
   "cell_type": "code",
   "execution_count": 11,
   "metadata": {},
   "outputs": [
    {
     "name": "stdout",
     "output_type": "stream",
     "text": [
      "[[0 0 1]\n",
      " [0 1 1]\n",
      " [1 0 1]\n",
      " [1 1 1]]\n",
      "[[0]\n",
      " [1]\n",
      " [1]\n",
      " [0]]\n"
     ]
    }
   ],
   "source": [
    "#input data\n",
    "input_data = np.array([[0,0,1],\n",
    "            [0,1,1],\n",
    "            [1,0,1],\n",
    "            [1,1,1]])\n",
    "                \n",
    "output_labels = np.array([[0],\n",
    "            [1],\n",
    "            [1],\n",
    "            [0]])\n",
    "\n",
    "print(input_data)\n",
    "\n",
    "print(output_labels)"
   ]
  },
  {
   "cell_type": "code",
   "execution_count": 3,
   "metadata": {
    "collapsed": true
   },
   "outputs": [],
   "source": [
    "# sigmoid function\n",
    "def activate(x,deriv=False):\n",
    "    if(deriv==True):\n",
    "        return x*(1-x)\n",
    "    return 1/(1+np.exp(-x))"
   ]
  },
  {
   "cell_type": "code",
   "execution_count": 4,
   "metadata": {},
   "outputs": [
    {
     "name": "stdout",
     "output_type": "stream",
     "text": [
      "[[ 0.9669811  -0.07721591  0.27788156 -0.63853965]\n",
      " [ 0.89198361  0.3382023  -0.87954823 -0.5897537 ]\n",
      " [-0.01433778  0.62998695  0.65592316 -0.86327232]]\n",
      "[[ 0.20353575]\n",
      " [-0.53497128]\n",
      " [ 0.34156555]\n",
      " [ 0.77542064]]\n"
     ]
    }
   ],
   "source": [
    "# 2 weight values\n",
    "synaptic_weight_0 = 2*np.random.random((3,4)) - 1\n",
    "synaptic_weight_1 = 2*np.random.random((4,1)) - 1\n",
    "\n",
    "print(synaptic_weight_0)\n",
    "print(synaptic_weight_1)"
   ]
  },
  {
   "cell_type": "code",
   "execution_count": 5,
   "metadata": {},
   "outputs": [
    {
     "name": "stdout",
     "output_type": "stream",
     "text": [
      "Error:0.500955913813\n"
     ]
    },
    {
     "ename": "NameError",
     "evalue": "name 'l2_error' is not defined",
     "output_type": "error",
     "traceback": [
      "\u001b[0;31m---------------------------------------------------------------------------\u001b[0m",
      "\u001b[0;31mNameError\u001b[0m                                 Traceback (most recent call last)",
      "\u001b[0;32m<ipython-input-5-90ce9af873df>\u001b[0m in \u001b[0;36m<module>\u001b[0;34m()\u001b[0m\n\u001b[1;32m     13\u001b[0m \u001b[0;34m\u001b[0m\u001b[0m\n\u001b[1;32m     14\u001b[0m     \u001b[0;31m#Use it to compute the gradient\u001b[0m\u001b[0;34m\u001b[0m\u001b[0;34m\u001b[0m\u001b[0m\n\u001b[0;32m---> 15\u001b[0;31m     \u001b[0mlayer2_gradient\u001b[0m \u001b[0;34m=\u001b[0m \u001b[0ml2_error\u001b[0m\u001b[0;34m*\u001b[0m\u001b[0mactivate\u001b[0m\u001b[0;34m(\u001b[0m\u001b[0mlayer2\u001b[0m\u001b[0;34m,\u001b[0m\u001b[0mderiv\u001b[0m\u001b[0;34m=\u001b[0m\u001b[0mTrue\u001b[0m\u001b[0;34m)\u001b[0m\u001b[0;34m\u001b[0m\u001b[0m\n\u001b[0m\u001b[1;32m     16\u001b[0m \u001b[0;34m\u001b[0m\u001b[0m\n\u001b[1;32m     17\u001b[0m     \u001b[0;31m#calculate error for layer 1\u001b[0m\u001b[0;34m\u001b[0m\u001b[0;34m\u001b[0m\u001b[0m\n",
      "\u001b[0;31mNameError\u001b[0m: name 'l2_error' is not defined"
     ]
    }
   ],
   "source": [
    "for j in xrange(60000):\n",
    "\n",
    "\t# Forward propagate through layers 0, 1, and 2\n",
    "    layer0 = input_data\n",
    "    layer1 = activate(np.dot(layer0,synaptic_weight_0))\n",
    "    layer2 = activate(np.dot(layer1,synaptic_weight_1))\n",
    "\n",
    "    #calculate error for layer 2\n",
    "    layer2_error = output_labels - layer2\n",
    "    \n",
    "    if (j% 10000) == 0:\n",
    "        print \"Error:\" + str(np.mean(np.abs(layer2_error)))\n",
    "        \n",
    "    #Use it to compute the gradient\n",
    "    layer2_gradient = l2_error*activate(layer2,deriv=True)\n",
    "\n",
    "    #calculate error for layer 1\n",
    "    layer1_error = layer2_gradient.dot(synaptic_weight_1.T)\n",
    "    \n",
    "    #Use it to compute its gradient\n",
    "    layer1_gradient = layer1_error * activate(layer1,deriv=True)\n",
    "    \n",
    "    #update the weights using the gradients\n",
    "    synaptic_weight_1 += layer1.T.dot(layer2_gradient)\n",
    "    synaptic_weight_0 += layer0.T.dot(layer1_gradient)\n"
   ]
  },
  {
   "cell_type": "code",
   "execution_count": 139,
   "metadata": {},
   "outputs": [
    {
     "name": "stdout",
     "output_type": "stream",
     "text": [
      "[ 0.99973427  0.98488354  0.01181281  0.96003643]\n"
     ]
    }
   ],
   "source": [
    "#testing\n",
    "print(activate(np.dot(array([0, 1, 1]), syn0)))"
   ]
  },
  {
   "cell_type": "code",
   "execution_count": null,
   "metadata": {
    "collapsed": true
   },
   "outputs": [],
   "source": []
  }
 ],
 "metadata": {
  "kernelspec": {
   "display_name": "Python 2",
   "language": "python",
   "name": "python2"
  },
  "language_info": {
   "codemirror_mode": {
    "name": "ipython",
    "version": 2
   },
   "file_extension": ".py",
   "mimetype": "text/x-python",
   "name": "python",
   "nbconvert_exporter": "python",
   "pygments_lexer": "ipython2",
   "version": "2.7.13"
  }
 },
 "nbformat": 4,
 "nbformat_minor": 2
}
