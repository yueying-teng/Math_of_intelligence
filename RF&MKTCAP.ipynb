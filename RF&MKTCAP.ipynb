{
 "cells": [
  {
   "cell_type": "markdown",
   "metadata": {},
   "source": [
    "###  GR MARKET"
   ]
  },
  {
   "cell_type": "code",
   "execution_count": 280,
   "metadata": {
    "collapsed": true
   },
   "outputs": [],
   "source": [
    "import numpy as np\n",
    "import pandas as pd\n",
    "\n",
    "import matplotlib.pyplot as plt\n",
    "import seaborn as sns\n",
    "%matplotlib inline "
   ]
  },
  {
   "cell_type": "code",
   "execution_count": 281,
   "metadata": {
    "collapsed": true
   },
   "outputs": [],
   "source": [
    "# filepath = 'C:\\\\Users\\\\1098071\\\\Documents\\\\RF\\\\'"
   ]
  },
  {
   "cell_type": "code",
   "execution_count": 282,
   "metadata": {},
   "outputs": [
    {
     "data": {
      "text/html": [
       "<div>\n",
       "<style>\n",
       "    .dataframe thead tr:only-child th {\n",
       "        text-align: right;\n",
       "    }\n",
       "\n",
       "    .dataframe thead th {\n",
       "        text-align: left;\n",
       "    }\n",
       "\n",
       "    .dataframe tbody tr th {\n",
       "        vertical-align: top;\n",
       "    }\n",
       "</style>\n",
       "<table border=\"1\" class=\"dataframe\">\n",
       "  <thead>\n",
       "    <tr style=\"text-align: right;\">\n",
       "      <th></th>\n",
       "      <th>ddate</th>\n",
       "      <th>security_code</th>\n",
       "      <th>時価総額</th>\n",
       "      <th>売上</th>\n",
       "      <th>営業利益</th>\n",
       "      <th>純利益</th>\n",
       "      <th>総資産</th>\n",
       "      <th>現金･現金同等物</th>\n",
       "      <th>有価証券</th>\n",
       "      <th>流動資産</th>\n",
       "      <th>...</th>\n",
       "      <th>営業資産</th>\n",
       "      <th>営業負債</th>\n",
       "      <th>有形固定</th>\n",
       "      <th>使用資産</th>\n",
       "      <th>ROIC</th>\n",
       "      <th>EY</th>\n",
       "      <th>MAGIC</th>\n",
       "      <th>ROIC2</th>\n",
       "      <th>EY2</th>\n",
       "      <th>MKTCAP</th>\n",
       "    </tr>\n",
       "  </thead>\n",
       "  <tbody>\n",
       "    <tr>\n",
       "      <th>0</th>\n",
       "      <td>2000</td>\n",
       "      <td>2HRA</td>\n",
       "      <td>0.000</td>\n",
       "      <td>43.9143</td>\n",
       "      <td>3.2794</td>\n",
       "      <td>3.2482</td>\n",
       "      <td>34.0403</td>\n",
       "      <td>4.4293</td>\n",
       "      <td>1.0819</td>\n",
       "      <td>17.3527</td>\n",
       "      <td>...</td>\n",
       "      <td>11.8415</td>\n",
       "      <td>-9.3213</td>\n",
       "      <td>14.6434</td>\n",
       "      <td>17.1636</td>\n",
       "      <td>0.191067</td>\n",
       "      <td>inf</td>\n",
       "      <td>inf</td>\n",
       "      <td>0.133741</td>\n",
       "      <td>-0.792145</td>\n",
       "      <td>0.000</td>\n",
       "    </tr>\n",
       "    <tr>\n",
       "      <th>1</th>\n",
       "      <td>2000</td>\n",
       "      <td>A1OS</td>\n",
       "      <td>0.000</td>\n",
       "      <td>40.9510</td>\n",
       "      <td>0.2350</td>\n",
       "      <td>-0.7530</td>\n",
       "      <td>44.2850</td>\n",
       "      <td>1.7340</td>\n",
       "      <td>4.4300</td>\n",
       "      <td>19.6690</td>\n",
       "      <td>...</td>\n",
       "      <td>13.5050</td>\n",
       "      <td>-12.8700</td>\n",
       "      <td>12.8810</td>\n",
       "      <td>13.5160</td>\n",
       "      <td>0.017387</td>\n",
       "      <td>inf</td>\n",
       "      <td>inf</td>\n",
       "      <td>0.008256</td>\n",
       "      <td>0.183450</td>\n",
       "      <td>0.000</td>\n",
       "    </tr>\n",
       "    <tr>\n",
       "      <th>2</th>\n",
       "      <td>2000</td>\n",
       "      <td>AAA</td>\n",
       "      <td>0.000</td>\n",
       "      <td>10.9207</td>\n",
       "      <td>3.0013</td>\n",
       "      <td>2.0257</td>\n",
       "      <td>83.9710</td>\n",
       "      <td>0.0793</td>\n",
       "      <td>0.0000</td>\n",
       "      <td>0.0000</td>\n",
       "      <td>...</td>\n",
       "      <td>-0.0793</td>\n",
       "      <td>8.0549</td>\n",
       "      <td>78.5441</td>\n",
       "      <td>86.5197</td>\n",
       "      <td>0.034689</td>\n",
       "      <td>inf</td>\n",
       "      <td>inf</td>\n",
       "      <td>0.035742</td>\n",
       "      <td>0.064360</td>\n",
       "      <td>0.000</td>\n",
       "    </tr>\n",
       "    <tr>\n",
       "      <th>3</th>\n",
       "      <td>2000</td>\n",
       "      <td>AAD</td>\n",
       "      <td>91.902</td>\n",
       "      <td>34.2833</td>\n",
       "      <td>4.7588</td>\n",
       "      <td>2.6313</td>\n",
       "      <td>24.5565</td>\n",
       "      <td>17.7117</td>\n",
       "      <td>0.0000</td>\n",
       "      <td>21.2303</td>\n",
       "      <td>...</td>\n",
       "      <td>3.5186</td>\n",
       "      <td>-5.9551</td>\n",
       "      <td>1.2367</td>\n",
       "      <td>-1.1998</td>\n",
       "      <td>-3.966328</td>\n",
       "      <td>0.051781</td>\n",
       "      <td>-3.517914</td>\n",
       "      <td>0.280107</td>\n",
       "      <td>0.064143</td>\n",
       "      <td>91.902</td>\n",
       "    </tr>\n",
       "    <tr>\n",
       "      <th>4</th>\n",
       "      <td>2000</td>\n",
       "      <td>AAH</td>\n",
       "      <td>0.000</td>\n",
       "      <td>379.5033</td>\n",
       "      <td>31.3202</td>\n",
       "      <td>14.7845</td>\n",
       "      <td>264.9924</td>\n",
       "      <td>20.2257</td>\n",
       "      <td>0.9137</td>\n",
       "      <td>158.0551</td>\n",
       "      <td>...</td>\n",
       "      <td>136.9157</td>\n",
       "      <td>-43.4373</td>\n",
       "      <td>43.3560</td>\n",
       "      <td>136.8344</td>\n",
       "      <td>0.228891</td>\n",
       "      <td>inf</td>\n",
       "      <td>inf</td>\n",
       "      <td>0.149144</td>\n",
       "      <td>0.396824</td>\n",
       "      <td>0.000</td>\n",
       "    </tr>\n",
       "  </tbody>\n",
       "</table>\n",
       "<p>5 rows × 76 columns</p>\n",
       "</div>"
      ],
      "text/plain": [
       "   ddate security_code    時価総額        売上     営業利益      純利益       総資産  \\\n",
       "0   2000          2HRA   0.000   43.9143   3.2794   3.2482   34.0403   \n",
       "1   2000          A1OS   0.000   40.9510   0.2350  -0.7530   44.2850   \n",
       "2   2000           AAA   0.000   10.9207   3.0013   2.0257   83.9710   \n",
       "3   2000           AAD  91.902   34.2833   4.7588   2.6313   24.5565   \n",
       "4   2000           AAH   0.000  379.5033  31.3202  14.7845  264.9924   \n",
       "\n",
       "   現金･現金同等物    有価証券      流動資産   ...        営業資産     営業負債     有形固定      使用資産  \\\n",
       "0    4.4293  1.0819   17.3527   ...     11.8415  -9.3213  14.6434   17.1636   \n",
       "1    1.7340  4.4300   19.6690   ...     13.5050 -12.8700  12.8810   13.5160   \n",
       "2    0.0793  0.0000    0.0000   ...     -0.0793   8.0549  78.5441   86.5197   \n",
       "3   17.7117  0.0000   21.2303   ...      3.5186  -5.9551   1.2367   -1.1998   \n",
       "4   20.2257  0.9137  158.0551   ...    136.9157 -43.4373  43.3560  136.8344   \n",
       "\n",
       "       ROIC        EY     MAGIC     ROIC2       EY2  MKTCAP  \n",
       "0  0.191067       inf       inf  0.133741 -0.792145   0.000  \n",
       "1  0.017387       inf       inf  0.008256  0.183450   0.000  \n",
       "2  0.034689       inf       inf  0.035742  0.064360   0.000  \n",
       "3 -3.966328  0.051781 -3.517914  0.280107  0.064143  91.902  \n",
       "4  0.228891       inf       inf  0.149144  0.396824   0.000  \n",
       "\n",
       "[5 rows x 76 columns]"
      ]
     },
     "execution_count": 282,
     "metadata": {},
     "output_type": "execute_result"
    }
   ],
   "source": [
    "df = pd.read_csv('MKTCAP.csv', encoding = 'cp932')\n",
    "df.head()"
   ]
  },
  {
   "cell_type": "code",
   "execution_count": 284,
   "metadata": {},
   "outputs": [
    {
     "data": {
      "text/plain": [
       "numpy.int64"
      ]
     },
     "execution_count": 284,
     "metadata": {},
     "output_type": "execute_result"
    }
   ],
   "source": [
    "# type(df['ddate'][0]) #  numpy.int64\n",
    "# type(d[9])     # int"
   ]
  },
  {
   "cell_type": "code",
   "execution_count": 318,
   "metadata": {
    "scrolled": false
   },
   "outputs": [
    {
     "name": "stdout",
     "output_type": "stream",
     "text": [
      "2000-01-01 00:00:00\n"
     ]
    }
   ],
   "source": [
    "# try to convert int time to datetime time \n",
    "# may not be used later \n",
    "import datetime\n",
    "\n",
    "d = []\n",
    "for i in range(len(df['ddate'])):\n",
    "    d.append(datetime.datetime.strptime(np.array_str(df['ddate'].values[i]), '%Y').year)\n",
    "    \n",
    "print (d[9])"
   ]
  },
  {
   "cell_type": "markdown",
   "metadata": {},
   "source": [
    "#### data prep"
   ]
  },
  {
   "cell_type": "code",
   "execution_count": 171,
   "metadata": {},
   "outputs": [
    {
     "data": {
      "text/plain": [
       "Index(['敷金及び保証金', '賞与引当金', '決算発表日', '剰余金の配当', '自己株式の消却', '新株の発行', '土地1',\n",
       "       '経常利益', '長期社債(当期返済分)'],\n",
       "      dtype='object')"
      ]
     },
     "execution_count": 171,
     "metadata": {},
     "output_type": "execute_result"
    }
   ],
   "source": [
    "# identify columns with all zero values \n",
    "zerocol = df.columns[(df == 0).all()]\n",
    "type(zerocol)\n",
    "zerocol"
   ]
  },
  {
   "cell_type": "code",
   "execution_count": 172,
   "metadata": {},
   "outputs": [
    {
     "data": {
      "text/plain": [
       "67"
      ]
     },
     "execution_count": 172,
     "metadata": {},
     "output_type": "execute_result"
    }
   ],
   "source": [
    "# drop all columns with zero only values\n",
    "df2 = df.drop(zerocol, axis = 1)\n",
    "len(df2.columns)"
   ]
  },
  {
   "cell_type": "code",
   "execution_count": 109,
   "metadata": {},
   "outputs": [
    {
     "data": {
      "text/plain": [
       "531"
      ]
     },
     "execution_count": 109,
     "metadata": {},
     "output_type": "execute_result"
    }
   ],
   "source": [
    "# prepare 2014 MKTCAP as y\n",
    "\n",
    "df2014 = df2[df2['ddate'] == 2014][['security_code', 'MKTCAP']]\n",
    "df2014.head()\n",
    "# df2014.describe()\n",
    "len(df2014['security_code'])"
   ]
  },
  {
   "cell_type": "code",
   "execution_count": 336,
   "metadata": {
    "scrolled": true
   },
   "outputs": [
    {
     "data": {
      "text/plain": [
       "count       510.000000\n",
       "mean       1648.718397\n",
       "std       10243.368384\n",
       "min           0.000000\n",
       "25%           0.000000\n",
       "50%          12.149350\n",
       "75%         126.852350\n",
       "max      108753.579700\n",
       "Name: MKTCAP, dtype: float64"
      ]
     },
     "execution_count": 336,
     "metadata": {},
     "output_type": "execute_result"
    }
   ],
   "source": [
    "df2014['MKTCAP'].describe()"
   ]
  },
  {
   "cell_type": "code",
   "execution_count": 337,
   "metadata": {},
   "outputs": [
    {
     "name": "stdout",
     "output_type": "stream",
     "text": [
      "1086.352133958202\n",
      "108753.5797\n",
      "459\n"
     ]
    }
   ],
   "source": [
    "# max is at 108753.579700, while the 75% quantile is just 126\n",
    "# removing the extremes later in MKTCAP for better visulalizatio and \n",
    "# estimation accuracy \n",
    "\n",
    "print (df2014['MKTCAP'].quantile(0.9))\n",
    "print (df2014['MKTCAP'].max())\n",
    "\n",
    "print (len(df2014[df2014['MKTCAP'] < 1100]))"
   ]
  },
  {
   "cell_type": "code",
   "execution_count": 335,
   "metadata": {},
   "outputs": [
    {
     "data": {
      "text/html": [
       "<div>\n",
       "<style>\n",
       "    .dataframe thead tr:only-child th {\n",
       "        text-align: right;\n",
       "    }\n",
       "\n",
       "    .dataframe thead th {\n",
       "        text-align: left;\n",
       "    }\n",
       "\n",
       "    .dataframe tbody tr th {\n",
       "        vertical-align: top;\n",
       "    }\n",
       "</style>\n",
       "<table border=\"1\" class=\"dataframe\">\n",
       "  <thead>\n",
       "    <tr style=\"text-align: right;\">\n",
       "      <th></th>\n",
       "      <th>security_code</th>\n",
       "      <th>売上</th>\n",
       "      <th>営業利益</th>\n",
       "      <th>純利益</th>\n",
       "      <th>総資産</th>\n",
       "      <th>現金･現金同等物</th>\n",
       "      <th>有価証券</th>\n",
       "      <th>流動資産</th>\n",
       "      <th>総長期投資</th>\n",
       "      <th>有形固定資産</th>\n",
       "      <th>...</th>\n",
       "      <th>株主資本</th>\n",
       "      <th>販管費</th>\n",
       "      <th>売上総利益率</th>\n",
       "      <th>営業利益率</th>\n",
       "      <th>株主還元</th>\n",
       "      <th>純現金資産</th>\n",
       "      <th>営業資産</th>\n",
       "      <th>営業負債</th>\n",
       "      <th>有形固定</th>\n",
       "      <th>使用資産</th>\n",
       "    </tr>\n",
       "  </thead>\n",
       "  <tbody>\n",
       "    <tr>\n",
       "      <th>5732</th>\n",
       "      <td>1COV</td>\n",
       "      <td>11357.0000</td>\n",
       "      <td>391.0000</td>\n",
       "      <td>180.0000</td>\n",
       "      <td>10133.0000</td>\n",
       "      <td>37.0000</td>\n",
       "      <td>546.000</td>\n",
       "      <td>3829.0000</td>\n",
       "      <td>1021.00</td>\n",
       "      <td>4442.0000</td>\n",
       "      <td>...</td>\n",
       "      <td>2779.0000</td>\n",
       "      <td>-1576.0000</td>\n",
       "      <td>0.173197</td>\n",
       "      <td>0.034428</td>\n",
       "      <td>0.0</td>\n",
       "      <td>-2947.0000</td>\n",
       "      <td>3246.0000</td>\n",
       "      <td>-1794.0000</td>\n",
       "      <td>4442.0000</td>\n",
       "      <td>5894.0000</td>\n",
       "    </tr>\n",
       "    <tr>\n",
       "      <th>5733</th>\n",
       "      <td>1PL</td>\n",
       "      <td>167.1170</td>\n",
       "      <td>12.3130</td>\n",
       "      <td>5.3910</td>\n",
       "      <td>221.7340</td>\n",
       "      <td>15.3940</td>\n",
       "      <td>0.000</td>\n",
       "      <td>142.7590</td>\n",
       "      <td>0.00</td>\n",
       "      <td>78.8160</td>\n",
       "      <td>...</td>\n",
       "      <td>151.3110</td>\n",
       "      <td>-48.5030</td>\n",
       "      <td>0.363913</td>\n",
       "      <td>0.073679</td>\n",
       "      <td>0.0</td>\n",
       "      <td>-44.2760</td>\n",
       "      <td>127.3650</td>\n",
       "      <td>-10.7530</td>\n",
       "      <td>78.8160</td>\n",
       "      <td>195.4280</td>\n",
       "    </tr>\n",
       "    <tr>\n",
       "      <th>5734</th>\n",
       "      <td>2GB</td>\n",
       "      <td>126.1297</td>\n",
       "      <td>2.7796</td>\n",
       "      <td>0.8943</td>\n",
       "      <td>88.6293</td>\n",
       "      <td>10.4454</td>\n",
       "      <td>0.030</td>\n",
       "      <td>66.7018</td>\n",
       "      <td>0.01</td>\n",
       "      <td>15.8228</td>\n",
       "      <td>...</td>\n",
       "      <td>47.1524</td>\n",
       "      <td>2.7796</td>\n",
       "      <td>0.000000</td>\n",
       "      <td>0.022038</td>\n",
       "      <td>0.0</td>\n",
       "      <td>3.2530</td>\n",
       "      <td>56.2264</td>\n",
       "      <td>-18.8558</td>\n",
       "      <td>15.8228</td>\n",
       "      <td>53.1934</td>\n",
       "    </tr>\n",
       "    <tr>\n",
       "      <th>5735</th>\n",
       "      <td>2HRA</td>\n",
       "      <td>1214.3960</td>\n",
       "      <td>-4.4050</td>\n",
       "      <td>-14.0290</td>\n",
       "      <td>594.6560</td>\n",
       "      <td>109.6240</td>\n",
       "      <td>1.797</td>\n",
       "      <td>341.4460</td>\n",
       "      <td>4.10</td>\n",
       "      <td>197.9060</td>\n",
       "      <td>...</td>\n",
       "      <td>189.1620</td>\n",
       "      <td>-4.4050</td>\n",
       "      <td>0.000000</td>\n",
       "      <td>-0.003627</td>\n",
       "      <td>0.0</td>\n",
       "      <td>-76.1810</td>\n",
       "      <td>230.0250</td>\n",
       "      <td>-144.8070</td>\n",
       "      <td>197.9060</td>\n",
       "      <td>283.1240</td>\n",
       "    </tr>\n",
       "    <tr>\n",
       "      <th>5736</th>\n",
       "      <td>3GOK</td>\n",
       "      <td>0.3240</td>\n",
       "      <td>-0.1807</td>\n",
       "      <td>-13.9277</td>\n",
       "      <td>4.6553</td>\n",
       "      <td>0.0235</td>\n",
       "      <td>0.000</td>\n",
       "      <td>0.6903</td>\n",
       "      <td>0.00</td>\n",
       "      <td>0.0000</td>\n",
       "      <td>...</td>\n",
       "      <td>1.2313</td>\n",
       "      <td>-0.1807</td>\n",
       "      <td>0.000000</td>\n",
       "      <td>-0.557716</td>\n",
       "      <td>0.0</td>\n",
       "      <td>-0.9965</td>\n",
       "      <td>0.6668</td>\n",
       "      <td>-2.2038</td>\n",
       "      <td>0.0000</td>\n",
       "      <td>-1.5370</td>\n",
       "    </tr>\n",
       "  </tbody>\n",
       "</table>\n",
       "<p>5 rows × 59 columns</p>\n",
       "</div>"
      ],
      "text/plain": [
       "     security_code          売上      営業利益       純利益         総資産  現金･現金同等物  \\\n",
       "5732          1COV  11357.0000  391.0000  180.0000  10133.0000   37.0000   \n",
       "5733           1PL    167.1170   12.3130    5.3910    221.7340   15.3940   \n",
       "5734           2GB    126.1297    2.7796    0.8943     88.6293   10.4454   \n",
       "5735          2HRA   1214.3960   -4.4050  -14.0290    594.6560  109.6240   \n",
       "5736          3GOK      0.3240   -0.1807  -13.9277      4.6553    0.0235   \n",
       "\n",
       "         有価証券       流動資産    総長期投資     有形固定資産    ...           株主資本        販管費  \\\n",
       "5732  546.000  3829.0000  1021.00  4442.0000    ...      2779.0000 -1576.0000   \n",
       "5733    0.000   142.7590     0.00    78.8160    ...       151.3110   -48.5030   \n",
       "5734    0.030    66.7018     0.01    15.8228    ...        47.1524     2.7796   \n",
       "5735    1.797   341.4460     4.10   197.9060    ...       189.1620    -4.4050   \n",
       "5736    0.000     0.6903     0.00     0.0000    ...         1.2313    -0.1807   \n",
       "\n",
       "        売上総利益率     営業利益率  株主還元      純現金資産       営業資産       営業負債       有形固定  \\\n",
       "5732  0.173197  0.034428   0.0 -2947.0000  3246.0000 -1794.0000  4442.0000   \n",
       "5733  0.363913  0.073679   0.0   -44.2760   127.3650   -10.7530    78.8160   \n",
       "5734  0.000000  0.022038   0.0     3.2530    56.2264   -18.8558    15.8228   \n",
       "5735  0.000000 -0.003627   0.0   -76.1810   230.0250  -144.8070   197.9060   \n",
       "5736  0.000000 -0.557716   0.0    -0.9965     0.6668    -2.2038     0.0000   \n",
       "\n",
       "           使用資産  \n",
       "5732  5894.0000  \n",
       "5733   195.4280  \n",
       "5734    53.1934  \n",
       "5735   283.1240  \n",
       "5736    -1.5370  \n",
       "\n",
       "[5 rows x 59 columns]"
      ]
     },
     "execution_count": 335,
     "metadata": {},
     "output_type": "execute_result"
    }
   ],
   "source": [
    "# prepare all data in 2013 as features for x\n",
    "\n",
    "collist = list(df2.columns[1:61])\n",
    "df2013 = df2[df2['ddate'] == 2013][collist]\n",
    "\n",
    "# removing '時価総額', which is Market Capitalization\n",
    "# MKTCAP is the adjusted market capitaliztion with the amount of self owned stocks removed \n",
    "del df2013['時価総額']\n",
    "df2013.head()\n",
    "# df2013.describe()\n",
    "# len(df2013['security_code'])"
   ]
  },
  {
   "cell_type": "code",
   "execution_count": null,
   "metadata": {},
   "outputs": [],
   "source": []
  },
  {
   "cell_type": "code",
   "execution_count": 357,
   "metadata": {},
   "outputs": [
    {
     "data": {
      "text/html": [
       "<div>\n",
       "<style>\n",
       "    .dataframe thead tr:only-child th {\n",
       "        text-align: right;\n",
       "    }\n",
       "\n",
       "    .dataframe thead th {\n",
       "        text-align: left;\n",
       "    }\n",
       "\n",
       "    .dataframe tbody tr th {\n",
       "        vertical-align: top;\n",
       "    }\n",
       "</style>\n",
       "<table border=\"1\" class=\"dataframe\">\n",
       "  <thead>\n",
       "    <tr style=\"text-align: right;\">\n",
       "      <th></th>\n",
       "      <th>security_code</th>\n",
       "      <th>売上</th>\n",
       "      <th>営業利益</th>\n",
       "      <th>純利益</th>\n",
       "      <th>総資産</th>\n",
       "      <th>現金･現金同等物</th>\n",
       "      <th>有価証券</th>\n",
       "      <th>流動資産</th>\n",
       "      <th>総長期投資</th>\n",
       "      <th>有形固定資産</th>\n",
       "      <th>...</th>\n",
       "      <th>販管費</th>\n",
       "      <th>売上総利益率</th>\n",
       "      <th>営業利益率</th>\n",
       "      <th>株主還元</th>\n",
       "      <th>純現金資産</th>\n",
       "      <th>営業資産</th>\n",
       "      <th>営業負債</th>\n",
       "      <th>有形固定</th>\n",
       "      <th>使用資産</th>\n",
       "      <th>MKTCAP</th>\n",
       "    </tr>\n",
       "  </thead>\n",
       "  <tbody>\n",
       "    <tr>\n",
       "      <th>1</th>\n",
       "      <td>1PL</td>\n",
       "      <td>167.1170</td>\n",
       "      <td>12.3130</td>\n",
       "      <td>5.3910</td>\n",
       "      <td>221.7340</td>\n",
       "      <td>15.3940</td>\n",
       "      <td>0.0000</td>\n",
       "      <td>142.7590</td>\n",
       "      <td>0.0000</td>\n",
       "      <td>78.8160</td>\n",
       "      <td>...</td>\n",
       "      <td>-48.5030</td>\n",
       "      <td>0.363913</td>\n",
       "      <td>0.073679</td>\n",
       "      <td>0.0</td>\n",
       "      <td>-44.2760</td>\n",
       "      <td>127.3650</td>\n",
       "      <td>-10.7530</td>\n",
       "      <td>78.8160</td>\n",
       "      <td>195.4280</td>\n",
       "      <td>8.265000</td>\n",
       "    </tr>\n",
       "    <tr>\n",
       "      <th>2</th>\n",
       "      <td>2GB</td>\n",
       "      <td>126.1297</td>\n",
       "      <td>2.7796</td>\n",
       "      <td>0.8943</td>\n",
       "      <td>88.6293</td>\n",
       "      <td>10.4454</td>\n",
       "      <td>0.0300</td>\n",
       "      <td>66.7018</td>\n",
       "      <td>0.0100</td>\n",
       "      <td>15.8228</td>\n",
       "      <td>...</td>\n",
       "      <td>2.7796</td>\n",
       "      <td>0.000000</td>\n",
       "      <td>0.022038</td>\n",
       "      <td>0.0</td>\n",
       "      <td>3.2530</td>\n",
       "      <td>56.2264</td>\n",
       "      <td>-18.8558</td>\n",
       "      <td>15.8228</td>\n",
       "      <td>53.1934</td>\n",
       "      <td>99.276300</td>\n",
       "    </tr>\n",
       "    <tr>\n",
       "      <th>3</th>\n",
       "      <td>2HRA</td>\n",
       "      <td>1214.3960</td>\n",
       "      <td>-4.4050</td>\n",
       "      <td>-14.0290</td>\n",
       "      <td>594.6560</td>\n",
       "      <td>109.6240</td>\n",
       "      <td>1.7970</td>\n",
       "      <td>341.4460</td>\n",
       "      <td>4.1000</td>\n",
       "      <td>197.9060</td>\n",
       "      <td>...</td>\n",
       "      <td>-4.4050</td>\n",
       "      <td>0.000000</td>\n",
       "      <td>-0.003627</td>\n",
       "      <td>0.0</td>\n",
       "      <td>-76.1810</td>\n",
       "      <td>230.0250</td>\n",
       "      <td>-144.8070</td>\n",
       "      <td>197.9060</td>\n",
       "      <td>283.1240</td>\n",
       "      <td>0.000000</td>\n",
       "    </tr>\n",
       "    <tr>\n",
       "      <th>4</th>\n",
       "      <td>3GOK</td>\n",
       "      <td>0.3240</td>\n",
       "      <td>-0.1807</td>\n",
       "      <td>-13.9277</td>\n",
       "      <td>4.6553</td>\n",
       "      <td>0.0235</td>\n",
       "      <td>0.0000</td>\n",
       "      <td>0.6903</td>\n",
       "      <td>0.0000</td>\n",
       "      <td>0.0000</td>\n",
       "      <td>...</td>\n",
       "      <td>-0.1807</td>\n",
       "      <td>0.000000</td>\n",
       "      <td>-0.557716</td>\n",
       "      <td>0.0</td>\n",
       "      <td>-0.9965</td>\n",
       "      <td>0.6668</td>\n",
       "      <td>-2.2038</td>\n",
       "      <td>0.0000</td>\n",
       "      <td>-1.5370</td>\n",
       "      <td>0.074600</td>\n",
       "    </tr>\n",
       "    <tr>\n",
       "      <th>5</th>\n",
       "      <td>4DS</td>\n",
       "      <td>60.8263</td>\n",
       "      <td>1.0161</td>\n",
       "      <td>0.7158</td>\n",
       "      <td>78.0599</td>\n",
       "      <td>3.5673</td>\n",
       "      <td>1.4441</td>\n",
       "      <td>32.0063</td>\n",
       "      <td>2.7374</td>\n",
       "      <td>39.9750</td>\n",
       "      <td>...</td>\n",
       "      <td>1.0161</td>\n",
       "      <td>0.000000</td>\n",
       "      <td>0.016705</td>\n",
       "      <td>0.0</td>\n",
       "      <td>-0.9106</td>\n",
       "      <td>26.9949</td>\n",
       "      <td>-7.8704</td>\n",
       "      <td>42.7124</td>\n",
       "      <td>61.8369</td>\n",
       "      <td>55.100962</td>\n",
       "    </tr>\n",
       "  </tbody>\n",
       "</table>\n",
       "<p>5 rows × 60 columns</p>\n",
       "</div>"
      ],
      "text/plain": [
       "  security_code         売上     営業利益      純利益       総資産  現金･現金同等物    有価証券  \\\n",
       "1           1PL   167.1170  12.3130   5.3910  221.7340   15.3940  0.0000   \n",
       "2           2GB   126.1297   2.7796   0.8943   88.6293   10.4454  0.0300   \n",
       "3          2HRA  1214.3960  -4.4050 -14.0290  594.6560  109.6240  1.7970   \n",
       "4          3GOK     0.3240  -0.1807 -13.9277    4.6553    0.0235  0.0000   \n",
       "5           4DS    60.8263   1.0161   0.7158   78.0599    3.5673  1.4441   \n",
       "\n",
       "       流動資産   総長期投資    有形固定資産    ...          販管費    売上総利益率     営業利益率  株主還元  \\\n",
       "1  142.7590  0.0000   78.8160    ...     -48.5030  0.363913  0.073679   0.0   \n",
       "2   66.7018  0.0100   15.8228    ...       2.7796  0.000000  0.022038   0.0   \n",
       "3  341.4460  4.1000  197.9060    ...      -4.4050  0.000000 -0.003627   0.0   \n",
       "4    0.6903  0.0000    0.0000    ...      -0.1807  0.000000 -0.557716   0.0   \n",
       "5   32.0063  2.7374   39.9750    ...       1.0161  0.000000  0.016705   0.0   \n",
       "\n",
       "     純現金資産      営業資産      営業負債      有形固定      使用資産     MKTCAP  \n",
       "1 -44.2760  127.3650  -10.7530   78.8160  195.4280   8.265000  \n",
       "2   3.2530   56.2264  -18.8558   15.8228   53.1934  99.276300  \n",
       "3 -76.1810  230.0250 -144.8070  197.9060  283.1240   0.000000  \n",
       "4  -0.9965    0.6668   -2.2038    0.0000   -1.5370   0.074600  \n",
       "5  -0.9106   26.9949   -7.8704   42.7124   61.8369  55.100962  \n",
       "\n",
       "[5 rows x 60 columns]"
      ]
     },
     "execution_count": 357,
     "metadata": {},
     "output_type": "execute_result"
    }
   ],
   "source": [
    "# only keeping companies that exist in both 2013 and 2014 \n",
    "# extreme data points removed data set \n",
    "# will only work on data2 later \n",
    "\n",
    "data = pd.merge(df2013, df2014, how='inner', on=['security_code']).dropna()\n",
    "data2 = data[data['MKTCAP'] < 1100]\n",
    "\n",
    "data2.head()\n",
    "# data.describe()\n",
    "# len(data2['security_code'])   # 441"
   ]
  },
  {
   "cell_type": "code",
   "execution_count": 349,
   "metadata": {},
   "outputs": [
    {
     "data": {
      "text/plain": [
       "0"
      ]
     },
     "execution_count": 349,
     "metadata": {},
     "output_type": "execute_result"
    }
   ],
   "source": [
    "# all MKTCAP in the dataset are non negative \n",
    "sum(data2['MKTCAP'] < 0)"
   ]
  },
  {
   "cell_type": "code",
   "execution_count": 344,
   "metadata": {},
   "outputs": [
    {
     "data": {
      "image/png": "[encoded data removed]",
      "text/plain": [
       "<matplotlib.figure.Figure at 0x10569f98>"
      ]
     },
     "metadata": {},
     "output_type": "display_data"
    }
   ],
   "source": [
    "# scatter plot all available data; MKTCAP from 2014 and featueres from 2013 \n",
    "\n",
    "fig = plt.figure(figsize = (10,10))\n",
    "\n",
    "num =  len(data2['security_code']) \n",
    "x = np.arange(num)\n",
    "y = data2['MKTCAP']\n",
    "my_xticks = list(data2['security_code'].values)\n",
    "plt.xticks(x, my_xticks)\n",
    "plt.scatter(x, y)\n",
    "plt.show()"
   ]
  },
  {
   "cell_type": "code",
   "execution_count": 345,
   "metadata": {},
   "outputs": [],
   "source": [
    "# np.array_str(df2['security_code'].values)"
   ]
  },
  {
   "cell_type": "code",
   "execution_count": 165,
   "metadata": {
    "scrolled": true
   },
   "outputs": [],
   "source": [
    "# checking the years with the most data available \n",
    "# df2.groupby('ddate').count()"
   ]
  },
  {
   "cell_type": "markdown",
   "metadata": {},
   "source": [
    "### feature selection - TSNE, PCA(feature selection or generation)"
   ]
  },
  {
   "cell_type": "code",
   "execution_count": null,
   "metadata": {
    "collapsed": true
   },
   "outputs": [],
   "source": []
  },
  {
   "cell_type": "code",
   "execution_count": null,
   "metadata": {
    "collapsed": true
   },
   "outputs": [],
   "source": []
  },
  {
   "cell_type": "code",
   "execution_count": null,
   "metadata": {
    "collapsed": true
   },
   "outputs": [],
   "source": []
  },
  {
   "cell_type": "code",
   "execution_count": null,
   "metadata": {
    "collapsed": true
   },
   "outputs": [],
   "source": []
  },
  {
   "cell_type": "code",
   "execution_count": null,
   "metadata": {
    "collapsed": true
   },
   "outputs": [],
   "source": []
  },
  {
   "cell_type": "code",
   "execution_count": null,
   "metadata": {
    "collapsed": true
   },
   "outputs": [],
   "source": []
  },
  {
   "cell_type": "markdown",
   "metadata": {},
   "source": [
    "### estimate absolute MKTCAP - RF"
   ]
  },
  {
   "cell_type": "code",
   "execution_count": 157,
   "metadata": {
    "collapsed": true
   },
   "outputs": [],
   "source": [
    "# use 2013 data to predict 2014 MKTCAP\n",
    "\n",
    "from sklearn.ensemble import RandomForestRegressor\n",
    "from sklearn.model_selection import train_test_split"
   ]
  },
  {
   "cell_type": "code",
   "execution_count": 415,
   "metadata": {},
   "outputs": [
    {
     "name": "stdout",
     "output_type": "stream",
     "text": [
      "58\n"
     ]
    },
    {
     "data": {
      "text/html": [
       "<div>\n",
       "<style>\n",
       "    .dataframe thead tr:only-child th {\n",
       "        text-align: right;\n",
       "    }\n",
       "\n",
       "    .dataframe thead th {\n",
       "        text-align: left;\n",
       "    }\n",
       "\n",
       "    .dataframe tbody tr th {\n",
       "        vertical-align: top;\n",
       "    }\n",
       "</style>\n",
       "<table border=\"1\" class=\"dataframe\">\n",
       "  <thead>\n",
       "    <tr style=\"text-align: right;\">\n",
       "      <th></th>\n",
       "      <th>売上</th>\n",
       "      <th>営業利益</th>\n",
       "      <th>純利益</th>\n",
       "      <th>総資産</th>\n",
       "      <th>現金･現金同等物</th>\n",
       "      <th>有価証券</th>\n",
       "      <th>流動資産</th>\n",
       "      <th>総長期投資</th>\n",
       "      <th>有形固定資産</th>\n",
       "      <th>短期借入金</th>\n",
       "      <th>...</th>\n",
       "      <th>株主資本</th>\n",
       "      <th>販管費</th>\n",
       "      <th>売上総利益率</th>\n",
       "      <th>営業利益率</th>\n",
       "      <th>株主還元</th>\n",
       "      <th>純現金資産</th>\n",
       "      <th>営業資産</th>\n",
       "      <th>営業負債</th>\n",
       "      <th>有形固定</th>\n",
       "      <th>使用資産</th>\n",
       "    </tr>\n",
       "  </thead>\n",
       "  <tbody>\n",
       "    <tr>\n",
       "      <th>1</th>\n",
       "      <td>167.1170</td>\n",
       "      <td>12.3130</td>\n",
       "      <td>5.3910</td>\n",
       "      <td>221.7340</td>\n",
       "      <td>15.3940</td>\n",
       "      <td>0.0000</td>\n",
       "      <td>142.7590</td>\n",
       "      <td>0.0000</td>\n",
       "      <td>78.8160</td>\n",
       "      <td>57.500</td>\n",
       "      <td>...</td>\n",
       "      <td>151.3110</td>\n",
       "      <td>-48.5030</td>\n",
       "      <td>0.363913</td>\n",
       "      <td>0.073679</td>\n",
       "      <td>0.0</td>\n",
       "      <td>-44.2760</td>\n",
       "      <td>127.3650</td>\n",
       "      <td>-10.7530</td>\n",
       "      <td>78.8160</td>\n",
       "      <td>195.4280</td>\n",
       "    </tr>\n",
       "    <tr>\n",
       "      <th>2</th>\n",
       "      <td>126.1297</td>\n",
       "      <td>2.7796</td>\n",
       "      <td>0.8943</td>\n",
       "      <td>88.6293</td>\n",
       "      <td>10.4454</td>\n",
       "      <td>0.0300</td>\n",
       "      <td>66.7018</td>\n",
       "      <td>0.0100</td>\n",
       "      <td>15.8228</td>\n",
       "      <td>0.000</td>\n",
       "      <td>...</td>\n",
       "      <td>47.1524</td>\n",
       "      <td>2.7796</td>\n",
       "      <td>0.000000</td>\n",
       "      <td>0.022038</td>\n",
       "      <td>0.0</td>\n",
       "      <td>3.2530</td>\n",
       "      <td>56.2264</td>\n",
       "      <td>-18.8558</td>\n",
       "      <td>15.8228</td>\n",
       "      <td>53.1934</td>\n",
       "    </tr>\n",
       "    <tr>\n",
       "      <th>3</th>\n",
       "      <td>1214.3960</td>\n",
       "      <td>-4.4050</td>\n",
       "      <td>-14.0290</td>\n",
       "      <td>594.6560</td>\n",
       "      <td>109.6240</td>\n",
       "      <td>1.7970</td>\n",
       "      <td>341.4460</td>\n",
       "      <td>4.1000</td>\n",
       "      <td>197.9060</td>\n",
       "      <td>17.940</td>\n",
       "      <td>...</td>\n",
       "      <td>189.1620</td>\n",
       "      <td>-4.4050</td>\n",
       "      <td>0.000000</td>\n",
       "      <td>-0.003627</td>\n",
       "      <td>0.0</td>\n",
       "      <td>-76.1810</td>\n",
       "      <td>230.0250</td>\n",
       "      <td>-144.8070</td>\n",
       "      <td>197.9060</td>\n",
       "      <td>283.1240</td>\n",
       "    </tr>\n",
       "    <tr>\n",
       "      <th>4</th>\n",
       "      <td>0.3240</td>\n",
       "      <td>-0.1807</td>\n",
       "      <td>-13.9277</td>\n",
       "      <td>4.6553</td>\n",
       "      <td>0.0235</td>\n",
       "      <td>0.0000</td>\n",
       "      <td>0.6903</td>\n",
       "      <td>0.0000</td>\n",
       "      <td>0.0000</td>\n",
       "      <td>0.000</td>\n",
       "      <td>...</td>\n",
       "      <td>1.2313</td>\n",
       "      <td>-0.1807</td>\n",
       "      <td>0.000000</td>\n",
       "      <td>-0.557716</td>\n",
       "      <td>0.0</td>\n",
       "      <td>-0.9965</td>\n",
       "      <td>0.6668</td>\n",
       "      <td>-2.2038</td>\n",
       "      <td>0.0000</td>\n",
       "      <td>-1.5370</td>\n",
       "    </tr>\n",
       "    <tr>\n",
       "      <th>5</th>\n",
       "      <td>60.8263</td>\n",
       "      <td>1.0161</td>\n",
       "      <td>0.7158</td>\n",
       "      <td>78.0599</td>\n",
       "      <td>3.5673</td>\n",
       "      <td>1.4441</td>\n",
       "      <td>32.0063</td>\n",
       "      <td>2.7374</td>\n",
       "      <td>39.9750</td>\n",
       "      <td>1.496</td>\n",
       "      <td>...</td>\n",
       "      <td>65.9583</td>\n",
       "      <td>1.0161</td>\n",
       "      <td>0.000000</td>\n",
       "      <td>0.016705</td>\n",
       "      <td>0.0</td>\n",
       "      <td>-0.9106</td>\n",
       "      <td>26.9949</td>\n",
       "      <td>-7.8704</td>\n",
       "      <td>42.7124</td>\n",
       "      <td>61.8369</td>\n",
       "    </tr>\n",
       "  </tbody>\n",
       "</table>\n",
       "<p>5 rows × 58 columns</p>\n",
       "</div>"
      ],
      "text/plain": [
       "          売上     営業利益      純利益       総資産  現金･現金同等物    有価証券      流動資産   総長期投資  \\\n",
       "1   167.1170  12.3130   5.3910  221.7340   15.3940  0.0000  142.7590  0.0000   \n",
       "2   126.1297   2.7796   0.8943   88.6293   10.4454  0.0300   66.7018  0.0100   \n",
       "3  1214.3960  -4.4050 -14.0290  594.6560  109.6240  1.7970  341.4460  4.1000   \n",
       "4     0.3240  -0.1807 -13.9277    4.6553    0.0235  0.0000    0.6903  0.0000   \n",
       "5    60.8263   1.0161   0.7158   78.0599    3.5673  1.4441   32.0063  2.7374   \n",
       "\n",
       "     有形固定資産   短期借入金    ...         株主資本      販管費    売上総利益率     営業利益率  株主還元  \\\n",
       "1   78.8160  57.500    ...     151.3110 -48.5030  0.363913  0.073679   0.0   \n",
       "2   15.8228   0.000    ...      47.1524   2.7796  0.000000  0.022038   0.0   \n",
       "3  197.9060  17.940    ...     189.1620  -4.4050  0.000000 -0.003627   0.0   \n",
       "4    0.0000   0.000    ...       1.2313  -0.1807  0.000000 -0.557716   0.0   \n",
       "5   39.9750   1.496    ...      65.9583   1.0161  0.000000  0.016705   0.0   \n",
       "\n",
       "     純現金資産      営業資産      営業負債      有形固定      使用資産  \n",
       "1 -44.2760  127.3650  -10.7530   78.8160  195.4280  \n",
       "2   3.2530   56.2264  -18.8558   15.8228   53.1934  \n",
       "3 -76.1810  230.0250 -144.8070  197.9060  283.1240  \n",
       "4  -0.9965    0.6668   -2.2038    0.0000   -1.5370  \n",
       "5  -0.9106   26.9949   -7.8704   42.7124   61.8369  \n",
       "\n",
       "[5 rows x 58 columns]"
      ]
     },
     "execution_count": 415,
     "metadata": {},
     "output_type": "execute_result"
    }
   ],
   "source": [
    "# features from data in 2013\n",
    "featurelist = data2.columns[1:59]\n",
    "print (len(featurelist))\n",
    "data2[featurelist].head()"
   ]
  },
  {
   "cell_type": "code",
   "execution_count": 381,
   "metadata": {},
   "outputs": [
    {
     "data": {
      "text/plain": [
       "(352, 58)"
      ]
     },
     "execution_count": 381,
     "metadata": {},
     "output_type": "execute_result"
    }
   ],
   "source": [
    "# training testing data split 4:1, set random_state to keep datapoints the same if split is run mora than once \n",
    "\n",
    "x_train, x_test, y_train, y_test =  train_test_split(data2[featurelist], data2['MKTCAP'], test_size = 0.2, random_state = 0)\n",
    "\n",
    "x_train.shape"
   ]
  },
  {
   "cell_type": "code",
   "execution_count": 443,
   "metadata": {},
   "outputs": [
    {
     "data": {
      "text/plain": [
       "RandomForestRegressor(bootstrap=True, criterion='mse', max_depth=None,\n",
       "           max_features='auto', max_leaf_nodes=None,\n",
       "           min_impurity_split=1e-07, min_samples_leaf=1,\n",
       "           min_samples_split=2, min_weight_fraction_leaf=0.0,\n",
       "           n_estimators=10, n_jobs=1, oob_score=False, random_state=0,\n",
       "           verbose=0, warm_start=False)"
      ]
     },
     "execution_count": 443,
     "metadata": {},
     "output_type": "execute_result"
    }
   ],
   "source": [
    "# 352 pairs of data in training set\n",
    "regr = RandomForestRegressor(random_state=0)\n",
    "regr.fit(x_train, y_train)"
   ]
  },
  {
   "cell_type": "code",
   "execution_count": 444,
   "metadata": {},
   "outputs": [
    {
     "data": {
      "text/plain": [
       "0.18073794883679617"
      ]
     },
     "execution_count": 444,
     "metadata": {},
     "output_type": "execute_result"
    }
   ],
   "source": [
    "# gives coefficient of determination R^2 of the prediction\n",
    "\n",
    "regr.score(x_test, y_test)"
   ]
  },
  {
   "cell_type": "code",
   "execution_count": 389,
   "metadata": {},
   "outputs": [],
   "source": [
    "# default number of trees in a RF is 10 \n",
    "# regr.estimators_"
   ]
  },
  {
   "cell_type": "code",
   "execution_count": 445,
   "metadata": {},
   "outputs": [],
   "source": [
    "# feature importance exploration  \n",
    "# number of features put into the model is 58\n",
    "\n",
    "importances = regr.feature_importances_\n",
    "# return indices of the most important featuer last, use [::-1] to reverse order\n",
    "indices = np.argsort(importances)[::-1]\n",
    "\n",
    "# standard devivation along columns\n",
    "std = np.std([tree.feature_importances_ for tree in regr.estimators_], axis=0)"
   ]
  },
  {
   "cell_type": "code",
   "execution_count": 446,
   "metadata": {},
   "outputs": [
    {
     "name": "stdout",
     "output_type": "stream",
     "text": [
      "Feature ranking:\n",
      "1. feature 49, which is 販管費, has an importance of 0.10367056550112634\n",
      "2. feature 1, which is 営業利益, has an importance of 0.0981631047947192\n",
      "3. feature 34, which is 自己株金額, has an importance of 0.09625541083417424\n",
      "4. feature 24, which is 貸倒引当金, has an importance of 0.0837280961527301\n",
      "5. feature 18, which is 売上総利益, has an importance of 0.05760788509965544\n",
      "6. feature 33, which is 少数持分, has an importance of 0.04726337486264378\n",
      "7. feature 48, which is 株主資本, has an importance of 0.03455573881056311\n",
      "8. feature 53, which is 純現金資産, has an importance of 0.031758480405250006\n",
      "9. feature 0, which is 売上, has an importance of 0.02979914823262479\n",
      "10. feature 55, which is 営業負債, has an importance of 0.02667715505786706\n",
      "11. feature 51, which is 営業利益率, has an importance of 0.025688956277045778\n",
      "12. feature 42, which is 無形資産その他, has an importance of 0.02402420275660263\n",
      "13. feature 36, which is 税引前利益, has an importance of 0.020886797602678375\n",
      "14. feature 22, which is 買掛金, has an importance of 0.019444218840535182\n",
      "15. feature 20, which is 売掛金, has an importance of 0.01935568378623003\n",
      "16. feature 44, which is 流動負債その他, has an importance of 0.01900306450865267\n",
      "17. feature 12, which is 無形資産, has an importance of 0.01593882778086051\n",
      "18. feature 31, which is 長期繰延税金負債, has an importance of 0.01565131229802661\n",
      "19. feature 37, which is 非流動資産合計, has an importance of 0.01564405917691109\n",
      "20. feature 9, which is 短期借入金, has an importance of 0.015154309516215317\n",
      "21. feature 29, which is 自己資本, has an importance of 0.01462797217587039\n",
      "22. feature 3, which is 総資産, has an importance of 0.01437232175346304\n",
      "23. feature 26, which is 資本金, has an importance of 0.01436807447404038\n",
      "24. feature 39, which is 発行済株式数, has an importance of 0.014027722980259599\n",
      "25. feature 11, which is 流動負債, has an importance of 0.01386083411171428\n",
      "26. feature 41, which is 投資資産, has an importance of 0.012725461491279844\n",
      "27. feature 46, which is 固定負債その他, has an importance of 0.01246900923004204\n",
      "28. feature 27, which is 売上原価, has an importance of 0.011911523053074316\n",
      "29. feature 57, which is 使用資産, has an importance of 0.011581112233894839\n",
      "30. feature 4, which is 現金･現金同等物, has an importance of 0.01029281188980986\n",
      "31. feature 25, which is 剰余金, has an importance of 0.010082700601780679\n",
      "32. feature 35, which is 人件費, has an importance of 0.009233456876135533\n",
      "33. feature 21, which is 棚卸, has an importance of 0.006946857277441621\n",
      "34. feature 5, which is 有価証券, has an importance of 0.006326133077497288\n",
      "35. feature 7, which is 総長期投資, has an importance of 0.005950101310836272\n",
      "36. feature 23, which is のれん･営業権, has an importance of 0.004128563650307523\n",
      "37. feature 45, which is 固定負債, has an importance of 0.0034466710748728554\n",
      "38. feature 2, which is 純利益, has an importance of 0.003321450943148513\n",
      "39. feature 54, which is 営業資産, has an importance of 0.0027553857098586653\n",
      "40. feature 40, which is 流動資産その他, has an importance of 0.002611098760328564\n",
      "41. feature 43, which is 投資資産その他, has an importance of 0.0025233045295121903\n",
      "42. feature 28, which is 負債合計, has an importance of 0.0024179587318206917\n",
      "43. feature 16, which is 従業員数, has an importance of 0.00233840736090001\n",
      "44. feature 10, which is 長期借入金, has an importance of 0.0022341737141500736\n",
      "45. feature 56, which is 有形固定, has an importance of 0.001293645352356191\n",
      "46. feature 50, which is 売上総利益率, has an importance of 0.000986587934568682\n",
      "47. feature 15, which is 長期貸付金, has an importance of 0.0008307736904713375\n",
      "48. feature 8, which is 有形固定資産, has an importance of 0.000657144309331487\n",
      "49. feature 38, which is 自己株式数, has an importance of 0.0005890366991503606\n",
      "50. feature 6, which is 流動資産, has an importance of 0.0005630557705652199\n",
      "51. feature 47, which is 自己資本その他, has an importance of 0.00016471782938384946\n",
      "52. feature 14, which is 短期繰延税金資産, has an importance of 5.532908046738833e-05\n",
      "53. feature 30, which is 未払費用, has an importance of 3.621002655417335e-05\n",
      "54. feature 13, which is 未払税金, has an importance of 0.0\n",
      "55. feature 17, which is 自己株式の取得, has an importance of 0.0\n",
      "56. feature 19, which is 土地2, has an importance of 0.0\n",
      "57. feature 52, which is 株主還元, has an importance of 0.0\n",
      "58. feature 32, which is 長期借入金(当期返済分), has an importance of 0.0\n"
     ]
    }
   ],
   "source": [
    "print(\"Feature ranking:\")\n",
    "\n",
    "for f in range(x_train.shape[1]):\n",
    "#     print(\"%d. feature %d (%f)\" % (f + 1, indices[f], importances[indices[f]]))\n",
    "    print ('{}. feature {}, which is {}, has an importance of {}'.format(f + 1, indices[f], featurelist[indices[f]], importances[indices[f]]))\n"
   ]
  },
  {
   "cell_type": "code",
   "execution_count": 447,
   "metadata": {},
   "outputs": [
    {
     "data": {
      "image/png": "[encoded data removed]",
      "text/plain": [
       "<matplotlib.figure.Figure at 0xedab080>"
      ]
     },
     "metadata": {},
     "output_type": "display_data"
    }
   ],
   "source": [
    "# feature importaance plot \n",
    "\n",
    "fig = plt.figure(figsize = (10, 10))\n",
    "\n",
    "plt.title(\"Feature importances\")\n",
    "plt.bar(range(x_train.shape[1]), importances[indices],\n",
    "       color=\"r\", yerr=std[indices], align=\"center\")\n",
    "plt.xticks(range(x_train.shape[1]), indices)\n",
    "plt.xlim([-1, x_train.shape[1]])\n",
    "plt.show()"
   ]
  },
  {
   "cell_type": "code",
   "execution_count": 433,
   "metadata": {},
   "outputs": [
    {
     "name": "stdout",
     "output_type": "stream",
     "text": [
      "[  50.37090129   50.37090129   42.48177316   42.48177316   42.48177316\n",
      "  103.8663193    42.48177316   42.48177316   42.48177316   50.63651844\n",
      "   42.48177316   42.48177316  104.13193646   42.48177316   42.48177316\n",
      "   42.48177316   50.37090129   42.48177316   42.48177316   42.48177316\n",
      "   50.63651844   42.48177316  199.17636156   42.48177316   42.48177316\n",
      "   95.97719118   42.48177316   42.48177316   42.48177316   42.48177316\n",
      "  194.58294968   42.48177316  204.29317762   42.48177316   57.83167178\n",
      "   42.48177316   58.52564656  176.57361584   42.48177316  150.34073827\n",
      "  210.621902     42.48177316  142.45161015   42.48177316   42.48177316\n",
      "   42.48177316   42.48177316   87.48477621  199.17636156   42.48177316\n",
      "  252.09142346   95.97719118   42.48177316  112.02106458   42.48177316\n",
      "   42.48177316   42.48177316   42.48177316  150.34073827   42.48177316\n",
      "   42.48177316   42.48177316   49.6769265   182.9647628   150.5393463\n",
      "   42.48177316   42.48177316   42.48177316   50.37090129   42.48177316\n",
      "   42.48177316   42.48177316   42.48177316   50.37090129   42.48177316\n",
      "   42.48177316   50.37090129  150.34073827   42.48177316   50.63651844\n",
      "   42.48177316   79.33003093   42.48177316   53.58486454   42.48177316\n",
      "   42.48177316   87.48477621   50.37090129   42.48177316]\n"
     ]
    }
   ],
   "source": [
    "# prediction on testing set \n",
    "print (regr.predict(x_test))"
   ]
  },
  {
   "cell_type": "code",
   "execution_count": 448,
   "metadata": {},
   "outputs": [
    {
     "data": {
      "image/png": "[encoded data removed]",
      "text/plain": [
       "<matplotlib.figure.Figure at 0xc117cc0>"
      ]
     },
     "metadata": {},
     "output_type": "display_data"
    }
   ],
   "source": [
    "fig = plt.figure(figsize = (10,10))\n",
    "ax = plt.subplot(1, 1, 1)\n",
    "\n",
    "num_predict = len(x_test)\n",
    "x = np.arange(num_predict)\n",
    "y = data2['MKTCAP'].loc[y_test.index].values\n",
    "my_xticks = list(data2['security_code'].loc[x_test.index].values)\n",
    "plt.xticks(x, my_xticks)   # blue dots are actual values \n",
    "plt.scatter(x, y)\n",
    "\n",
    "# ax. scatter(x_test, regr.predict(x_test))\n",
    "\n",
    "y1 = regr.predict(x_test)\n",
    "plt.xticks(x, my_xticks)\n",
    "\n",
    "ax.scatter(x, y1, color = 'red')  # red dots are predicted MKTCAP\n",
    "\n",
    "plt.show()"
   ]
  },
  {
   "cell_type": "code",
   "execution_count": 449,
   "metadata": {},
   "outputs": [
    {
     "data": {
      "text/plain": [
       "count     89.000000\n",
       "mean      69.342641\n",
       "std      149.937766\n",
       "min        0.000000\n",
       "25%        0.000000\n",
       "50%       11.520000\n",
       "75%       52.200000\n",
       "max      911.626900\n",
       "Name: MKTCAP, dtype: float64"
      ]
     },
     "execution_count": 449,
     "metadata": {},
     "output_type": "execute_result"
    }
   ],
   "source": [
    "y_test.describe()"
   ]
  },
  {
   "cell_type": "code",
   "execution_count": 450,
   "metadata": {},
   "outputs": [
    {
     "data": {
      "text/html": [
       "<div>\n",
       "<style>\n",
       "    .dataframe thead tr:only-child th {\n",
       "        text-align: right;\n",
       "    }\n",
       "\n",
       "    .dataframe thead th {\n",
       "        text-align: left;\n",
       "    }\n",
       "\n",
       "    .dataframe tbody tr th {\n",
       "        vertical-align: top;\n",
       "    }\n",
       "</style>\n",
       "<table border=\"1\" class=\"dataframe\">\n",
       "  <thead>\n",
       "    <tr style=\"text-align: right;\">\n",
       "      <th></th>\n",
       "      <th>0</th>\n",
       "    </tr>\n",
       "  </thead>\n",
       "  <tbody>\n",
       "    <tr>\n",
       "      <th>count</th>\n",
       "      <td>89.000000</td>\n",
       "    </tr>\n",
       "    <tr>\n",
       "      <th>mean</th>\n",
       "      <td>77.554644</td>\n",
       "    </tr>\n",
       "    <tr>\n",
       "      <th>std</th>\n",
       "      <td>86.972407</td>\n",
       "    </tr>\n",
       "    <tr>\n",
       "      <th>min</th>\n",
       "      <td>0.000000</td>\n",
       "    </tr>\n",
       "    <tr>\n",
       "      <th>25%</th>\n",
       "      <td>19.731871</td>\n",
       "    </tr>\n",
       "    <tr>\n",
       "      <th>50%</th>\n",
       "      <td>44.968030</td>\n",
       "    </tr>\n",
       "    <tr>\n",
       "      <th>75%</th>\n",
       "      <td>103.646413</td>\n",
       "    </tr>\n",
       "    <tr>\n",
       "      <th>max</th>\n",
       "      <td>364.247101</td>\n",
       "    </tr>\n",
       "  </tbody>\n",
       "</table>\n",
       "</div>"
      ],
      "text/plain": [
       "                0\n",
       "count   89.000000\n",
       "mean    77.554644\n",
       "std     86.972407\n",
       "min      0.000000\n",
       "25%     19.731871\n",
       "50%     44.968030\n",
       "75%    103.646413\n",
       "max    364.247101"
      ]
     },
     "execution_count": 450,
     "metadata": {},
     "output_type": "execute_result"
    }
   ],
   "source": [
    "pd.DataFrame(regr.predict(x_test)).describe()"
   ]
  },
  {
   "cell_type": "code",
   "execution_count": 437,
   "metadata": {},
   "outputs": [],
   "source": [
    "# type(data2['security_code'].loc[x_test.index].values)"
   ]
  },
  {
   "cell_type": "markdown",
   "metadata": {},
   "source": [
    "#### CV"
   ]
  },
  {
   "cell_type": "code",
   "execution_count": 451,
   "metadata": {},
   "outputs": [],
   "source": [
    "from sklearn.model_selection import cross_val_score\n",
    "from sklearn.metrics import mean_squared_error"
   ]
  },
  {
   "cell_type": "markdown",
   "metadata": {},
   "source": [
    " Valid scoring options are ['accuracy', 'adjusted_rand_score', 'average_precision', 'f1', 'f1_macro', 'f1_micro', 'f1_samples', 'f1_weighted', 'neg_log_loss', 'neg_mean_absolute_error', 'neg_mean_squared_error', 'neg_median_absolute_error', 'precision', 'precision_macro', 'precision_micro', 'precision_samples', 'precision_weighted', 'r2', 'recall', 'recall_macro', 'recall_micro', 'recall_samples', 'recall_weighted', 'roc_auc']\n"
   ]
  },
  {
   "cell_type": "code",
   "execution_count": 460,
   "metadata": {},
   "outputs": [
    {
     "name": "stdout",
     "output_type": "stream",
     "text": [
      "[ 0.14583491 -1.2490622   0.25096111 -0.4299487   0.21851164]\n",
      "-0.21274064728\n"
     ]
    }
   ],
   "source": [
    "regr = RandomForestRegressor(random_state=0)\n",
    "scores = cross_val_score(regr, data2[featurelist], data2['MKTCAP'], cv = 5, scoring = 'r2')\n",
    "\n",
    "# the neagtive coefficients of correlation indicates that the model couldn't even outperform predicting the mean all the time\n",
    "print (scores)\n",
    "print (sum(scores)/5)"
   ]
  },
  {
   "cell_type": "code",
   "execution_count": null,
   "metadata": {},
   "outputs": [],
   "source": []
  },
  {
   "cell_type": "markdown",
   "metadata": {},
   "source": [
    "#### parameter tuning"
   ]
  },
  {
   "cell_type": "code",
   "execution_count": 453,
   "metadata": {},
   "outputs": [
    {
     "data": {
      "text/plain": [
       "441"
      ]
     },
     "execution_count": 453,
     "metadata": {},
     "output_type": "execute_result"
    }
   ],
   "source": [
    "len(data2['MKTCAP'])"
   ]
  },
  {
   "cell_type": "code",
   "execution_count": 455,
   "metadata": {},
   "outputs": [
    {
     "data": {
      "text/plain": [
       "{'bootstrap': True,\n",
       " 'criterion': 'mse',\n",
       " 'max_depth': 2,\n",
       " 'max_features': 'auto',\n",
       " 'max_leaf_nodes': None,\n",
       " 'min_impurity_split': 1e-07,\n",
       " 'min_samples_leaf': 1,\n",
       " 'min_samples_split': 2,\n",
       " 'min_weight_fraction_leaf': 0.0,\n",
       " 'n_estimators': 10,\n",
       " 'n_jobs': 1,\n",
       " 'oob_score': False,\n",
       " 'random_state': 0,\n",
       " 'verbose': 0,\n",
       " 'warm_start': False}"
      ]
     },
     "execution_count": 455,
     "metadata": {},
     "output_type": "execute_result"
    }
   ],
   "source": [
    "regr.get_params()"
   ]
  },
  {
   "cell_type": "code",
   "execution_count": 493,
   "metadata": {},
   "outputs": [
    {
     "name": "stdout",
     "output_type": "stream",
     "text": [
      "{'bootstrap': True, 'max_depth': 10, 'max_features': 8, 'min_samples_split': 4, 'n_estimators': 400}\n"
     ]
    }
   ],
   "source": [
    "from sklearn.grid_search import GridSearchCV\n",
    "from sklearn.datasets import load_digits\n",
    "\n",
    "x, y = data2[featurelist], data2['MKTCAP']\n",
    "model = RandomForestRegressor(random_state = 0)\n",
    "param_grid = { \"n_estimators\"      : [400, 300],\n",
    "           \"criterion\"         : [\"gini\", \"entropy\"],\n",
    "           \"max_features\"      : [8, 9],\n",
    "           \"max_depth\"         : [10, 15],\n",
    "           \"min_samples_split\" : [2, 4] ,\n",
    "           \"bootstrap\": [True, False]}\n",
    "grid_search = GridSearchCV(model, param_grid, n_jobs = -1, cv = 5)\n",
    "grid_search.fit(x, y)\n",
    "print (grid_search.best_params_)"
   ]
  },
  {
   "cell_type": "code",
   "execution_count": 471,
   "metadata": {},
   "outputs": [],
   "source": [
    "model_tuned = RandomForestRegressor(**grid_search.best_params_, random_state = 0)"
   ]
  },
  {
   "cell_type": "code",
   "execution_count": null,
   "metadata": {
    "collapsed": true
   },
   "outputs": [],
   "source": [
    "model_tuned.get_params()"
   ]
  },
  {
   "cell_type": "code",
   "execution_count": 472,
   "metadata": {},
   "outputs": [
    {
     "data": {
      "text/plain": [
       "RandomForestRegressor(bootstrap=True, criterion='mse', max_depth=10,\n",
       "           max_features=8, max_leaf_nodes=None, min_impurity_split=1e-07,\n",
       "           min_samples_leaf=1, min_samples_split=4,\n",
       "           min_weight_fraction_leaf=0.0, n_estimators=400, n_jobs=1,\n",
       "           oob_score=False, random_state=0, verbose=0, warm_start=False)"
      ]
     },
     "execution_count": 472,
     "metadata": {},
     "output_type": "execute_result"
    }
   ],
   "source": [
    "x_train, x_test, y_train, y_test =  train_test_split(x, y, test_size = 0.2, random_state = 0)\n",
    "model_tuned.fit(x_train, y_train)\n",
    "\n",
    "# model.set_params(grid_search.best_params_)"
   ]
  },
  {
   "cell_type": "code",
   "execution_count": 474,
   "metadata": {},
   "outputs": [
    {
     "data": {
      "text/plain": [
       "0.177854367387413"
      ]
     },
     "execution_count": 474,
     "metadata": {},
     "output_type": "execute_result"
    }
   ],
   "source": [
    "# performance on testing data \n",
    "\n",
    "model_tuned.score(x_test, y_test)"
   ]
  },
  {
   "cell_type": "code",
   "execution_count": 488,
   "metadata": {},
   "outputs": [
    {
     "name": "stdout",
     "output_type": "stream",
     "text": [
      "[ 0.21023122 -0.93910122  0.26606271 -0.1831314   0.01421484]\n",
      "-0.126344769802\n"
     ]
    }
   ],
   "source": [
    "# performance eval using CV\n",
    "\n",
    "scores = cross_val_score(model_tuned, x, y, cv = 5, scoring = 'r2')\n",
    "\n",
    "# the neagtive coefficients of correlation indicates that the model couldn't even outperform predicting the mean all the time\n",
    "print (scores)\n",
    "print (sum(scores)/5)\n"
   ]
  },
  {
   "cell_type": "code",
   "execution_count": 491,
   "metadata": {},
   "outputs": [
    {
     "data": {
      "text/plain": [
       "RandomForestRegressor(bootstrap=True, criterion='mse', max_depth=None,\n",
       "           max_features='auto', max_leaf_nodes=None,\n",
       "           min_impurity_split=1e-07, min_samples_leaf=1,\n",
       "           min_samples_split=2, min_weight_fraction_leaf=0.0,\n",
       "           n_estimators=10, n_jobs=1, oob_score=False, random_state=0,\n",
       "           verbose=0, warm_start=False)"
      ]
     },
     "execution_count": 491,
     "metadata": {},
     "output_type": "execute_result"
    }
   ],
   "source": [
    "# the default RF model from before \n",
    "regr = RandomForestRegressor(random_state=0)\n",
    "regr.fit(x_train, y_train)"
   ]
  },
  {
   "cell_type": "code",
   "execution_count": 492,
   "metadata": {},
   "outputs": [
    {
     "data": {
      "image/png": "[encoded data removed]",
      "text/plain": [
       "<matplotlib.figure.Figure at 0xd5b10b8>"
      ]
     },
     "metadata": {},
     "output_type": "display_data"
    }
   ],
   "source": [
    "fig = plt.figure(figsize = (10,10))\n",
    "ax = plt.subplot(1, 1, 1)\n",
    "\n",
    "num_predict = len(x_test)\n",
    "x = np.arange(num_predict)\n",
    "y = data2['MKTCAP'].loc[y_test.index].values\n",
    "my_xticks = list(data2['security_code'].loc[x_test.index].values)\n",
    "plt.xticks(x, my_xticks)   # blue dots are actual values \n",
    "plt.scatter(x, y)\n",
    "\n",
    "# ax. scatter(x_test, regr.predict(x_test))\n",
    "\n",
    "y2 = model_tuned.predict(x_test)\n",
    "plt.xticks(x, my_xticks)\n",
    "\n",
    "ax.scatter(x, y2, color = 'red')  # red dots are predicted MKTCAP from tuned model\n",
    "\n",
    "\n",
    "y1 = regr.predict(x_test)\n",
    "plt.xticks(x, my_xticks)\n",
    "\n",
    "ax.scatter(x, y1, color = 'green')    # red dots are predicted MKTCAP from default model\n",
    "\n",
    "plt.show()"
   ]
  },
  {
   "cell_type": "markdown",
   "metadata": {},
   "source": [
    "### predict trends (increase or decrease) in MKTCAP\n",
    "#### NB\n",
    "#### time series\n",
    "\n",
    "##### need labeled data here "
   ]
  },
  {
   "cell_type": "code",
   "execution_count": null,
   "metadata": {
    "collapsed": true
   },
   "outputs": [],
   "source": []
  },
  {
   "cell_type": "code",
   "execution_count": null,
   "metadata": {
    "collapsed": true
   },
   "outputs": [],
   "source": []
  },
  {
   "cell_type": "code",
   "execution_count": null,
   "metadata": {
    "collapsed": true
   },
   "outputs": [],
   "source": []
  }
 ],
 "metadata": {
  "kernelspec": {
   "display_name": "Python 3",
   "language": "python",
   "name": "python3"
  },
  "language_info": {
   "codemirror_mode": {
    "name": "ipython",
    "version": 3
   },
   "file_extension": ".py",
   "mimetype": "text/x-python",
   "name": "python",
   "nbconvert_exporter": "python",
   "pygments_lexer": "ipython3",
   "version": "3.6.1"
  }
 },
 "nbformat": 4,
 "nbformat_minor": 2
}
