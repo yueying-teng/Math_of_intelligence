{
 "cells": [
  {
   "cell_type": "markdown",
   "metadata": {},
   "source": [
    "# What is approximating a function?"
   ]
  },
  {
   "cell_type": "markdown",
   "metadata": {},
   "source": [
    "The goal of this notebook is twice: giving simple example of what is approximating a function but also playing with jupyter, numpy and bokeh.  \n",
    "Let's start by importing libraries for using jupyter functions such as interact:"
   ]
  },
  {
   "cell_type": "code",
   "execution_count": 1,
   "metadata": {
    "collapsed": true
   },
   "outputs": [],
   "source": [
    "from __future__ import print_function\n",
    "from ipywidgets import interact, interactive, fixed, interact_manual\n",
    "import ipywidgets as widgets"
   ]
  },
  {
   "cell_type": "markdown",
   "metadata": {},
   "source": [
    "## Linear regression: a simple example of function approximation"
   ]
  },
  {
   "cell_type": "markdown",
   "metadata": {},
   "source": [
    "In this example, we will generate our own dataset. Because we would like those data \"realistic\" as much as possible, we will add some noise.  \n",
    "Creating your own dataset is very common in data science. It allows you to create \"proof of concept\" or to pre-train models. It can also increase the amount of data you have."
   ]
  },
  {
   "cell_type": "markdown",
   "metadata": {},
   "source": [
    "Then we will apply very basic numpy function to solve regular fucntion approximation. In this case it's linear regression: **we will approximate a linear function**."
   ]
  },
  {
   "cell_type": "markdown",
   "metadata": {},
   "source": [
    "One way to do this is to create an estimator. In this case, we are using **M**ean **S**quared **E**rror (MSE). Let's see below:"
   ]
  },
  {
   "cell_type": "code",
   "execution_count": 2,
   "metadata": {
    "collapsed": false
   },
   "outputs": [
    {
     "data": {
      "text/html": [
       "\n",
       "    <div class=\"bk-root\">\n",
       "        <a href=\"http://bokeh.pydata.org\" target=\"_blank\" class=\"bk-logo bk-logo-small bk-logo-notebook\"></a>\n",
       "        <span id=\"de8551cf-4062-43f6-b066-19fd80363f1e\">Loading BokehJS ...</span>\n",
       "    </div>"
      ]
     },
     "metadata": {},
     "output_type": "display_data"
    },
    {
     "data": {
      "application/javascript": [
       "\n",
       "(function(global) {\n",
       "  function now() {\n",
       "    return new Date();\n",
       "  }\n",
       "\n",
       "  var force = \"1\";\n",
       "\n",
       "  if (typeof (window._bokeh_onload_callbacks) === \"undefined\" || force !== \"\") {\n",
       "    window._bokeh_onload_callbacks = [];\n",
       "    window._bokeh_is_loading = undefined;\n",
       "  }\n",
       "\n",
       "\n",
       "  \n",
       "  if (typeof (window._bokeh_timeout) === \"undefined\" || force !== \"\") {\n",
       "    window._bokeh_timeout = Date.now() + 5000;\n",
       "    window._bokeh_failed_load = false;\n",
       "  }\n",
       "\n",
       "  var NB_LOAD_WARNING = {'data': {'text/html':\n",
       "     \"<div style='background-color: #fdd'>\\n\"+\n",
       "     \"<p>\\n\"+\n",
       "     \"BokehJS does not appear to have successfully loaded. If loading BokehJS from CDN, this \\n\"+\n",
       "     \"may be due to a slow or bad network connection. Possible fixes:\\n\"+\n",
       "     \"</p>\\n\"+\n",
       "     \"<ul>\\n\"+\n",
       "     \"<li>re-rerun `output_notebook()` to attempt to load from CDN again, or</li>\\n\"+\n",
       "     \"<li>use INLINE resources instead, as so:</li>\\n\"+\n",
       "     \"</ul>\\n\"+\n",
       "     \"<code>\\n\"+\n",
       "     \"from bokeh.resources import INLINE\\n\"+\n",
       "     \"output_notebook(resources=INLINE)\\n\"+\n",
       "     \"</code>\\n\"+\n",
       "     \"</div>\"}};\n",
       "\n",
       "  function display_loaded() {\n",
       "    if (window.Bokeh !== undefined) {\n",
       "      Bokeh.$(\"#de8551cf-4062-43f6-b066-19fd80363f1e\").text(\"BokehJS successfully loaded.\");\n",
       "    } else if (Date.now() < window._bokeh_timeout) {\n",
       "      setTimeout(display_loaded, 100)\n",
       "    }\n",
       "  }\n",
       "\n",
       "  function run_callbacks() {\n",
       "    window._bokeh_onload_callbacks.forEach(function(callback) { callback() });\n",
       "    delete window._bokeh_onload_callbacks\n",
       "    console.info(\"Bokeh: all callbacks have finished\");\n",
       "  }\n",
       "\n",
       "  function load_libs(js_urls, callback) {\n",
       "    window._bokeh_onload_callbacks.push(callback);\n",
       "    if (window._bokeh_is_loading > 0) {\n",
       "      console.log(\"Bokeh: BokehJS is being loaded, scheduling callback at\", now());\n",
       "      return null;\n",
       "    }\n",
       "    if (js_urls == null || js_urls.length === 0) {\n",
       "      run_callbacks();\n",
       "      return null;\n",
       "    }\n",
       "    console.log(\"Bokeh: BokehJS not loaded, scheduling load and callback at\", now());\n",
       "    window._bokeh_is_loading = js_urls.length;\n",
       "    for (var i = 0; i < js_urls.length; i++) {\n",
       "      var url = js_urls[i];\n",
       "      var s = document.createElement('script');\n",
       "      s.src = url;\n",
       "      s.async = false;\n",
       "      s.onreadystatechange = s.onload = function() {\n",
       "        window._bokeh_is_loading--;\n",
       "        if (window._bokeh_is_loading === 0) {\n",
       "          console.log(\"Bokeh: all BokehJS libraries loaded\");\n",
       "          run_callbacks()\n",
       "        }\n",
       "      };\n",
       "      s.onerror = function() {\n",
       "        console.warn(\"failed to load library \" + url);\n",
       "      };\n",
       "      console.log(\"Bokeh: injecting script tag for BokehJS library: \", url);\n",
       "      document.getElementsByTagName(\"head\")[0].appendChild(s);\n",
       "    }\n",
       "  };var element = document.getElementById(\"de8551cf-4062-43f6-b066-19fd80363f1e\");\n",
       "  if (element == null) {\n",
       "    console.log(\"Bokeh: ERROR: autoload.js configured with elementid 'de8551cf-4062-43f6-b066-19fd80363f1e' but no matching script tag was found. \")\n",
       "    return false;\n",
       "  }\n",
       "\n",
       "  var js_urls = ['https://cdn.pydata.org/bokeh/release/bokeh-0.12.2.min.js', 'https://cdn.pydata.org/bokeh/release/bokeh-widgets-0.12.2.min.js', 'https://cdn.pydata.org/bokeh/release/bokeh-compiler-0.12.2.min.js'];\n",
       "\n",
       "  var inline_js = [\n",
       "    function(Bokeh) {\n",
       "      Bokeh.set_log_level(\"info\");\n",
       "    },\n",
       "    \n",
       "    function(Bokeh) {\n",
       "      \n",
       "      Bokeh.$(\"#de8551cf-4062-43f6-b066-19fd80363f1e\").text(\"BokehJS is loading...\");\n",
       "    },\n",
       "    function(Bokeh) {\n",
       "      console.log(\"Bokeh: injecting CSS: https://cdn.pydata.org/bokeh/release/bokeh-0.12.2.min.css\");\n",
       "      Bokeh.embed.inject_css(\"https://cdn.pydata.org/bokeh/release/bokeh-0.12.2.min.css\");\n",
       "      console.log(\"Bokeh: injecting CSS: https://cdn.pydata.org/bokeh/release/bokeh-widgets-0.12.2.min.css\");\n",
       "      Bokeh.embed.inject_css(\"https://cdn.pydata.org/bokeh/release/bokeh-widgets-0.12.2.min.css\");\n",
       "    }\n",
       "  ];\n",
       "\n",
       "  function run_inline_js() {\n",
       "    \n",
       "    if ((window.Bokeh !== undefined) || (force === \"1\")) {\n",
       "      for (var i = 0; i < inline_js.length; i++) {\n",
       "        inline_js[i](window.Bokeh);\n",
       "      }if (force === \"1\") {\n",
       "        display_loaded();\n",
       "      }} else if (Date.now() < window._bokeh_timeout) {\n",
       "      setTimeout(run_inline_js, 100);\n",
       "    } else if (!window._bokeh_failed_load) {\n",
       "      console.log(\"Bokeh: BokehJS failed to load within specified timeout.\");\n",
       "      window._bokeh_failed_load = true;\n",
       "    } else if (!force) {\n",
       "      var cell = $(\"#de8551cf-4062-43f6-b066-19fd80363f1e\").parents('.cell').data().cell;\n",
       "      cell.output_area.append_execute_result(NB_LOAD_WARNING)\n",
       "    }\n",
       "\n",
       "  }\n",
       "\n",
       "  if (window._bokeh_is_loading === 0) {\n",
       "    console.log(\"Bokeh: BokehJS loaded, going straight to plotting\");\n",
       "    run_inline_js();\n",
       "  } else {\n",
       "    load_libs(js_urls, function() {\n",
       "      console.log(\"Bokeh: BokehJS plotting callback run at\", now());\n",
       "      run_inline_js();\n",
       "    });\n",
       "  }\n",
       "}(this));"
      ]
     },
     "metadata": {},
     "output_type": "display_data"
    }
   ],
   "source": [
    "# We are importing everything we need for bokeh\n",
    "from bokeh.io import push_notebook, show, output_notebook\n",
    "from bokeh.layouts import row\n",
    "from bokeh.plotting import figure\n",
    "import numpy as np\n",
    "output_notebook() # this is for showing your plot inside your notebook"
   ]
  },
  {
   "cell_type": "code",
   "execution_count": 3,
   "metadata": {
    "collapsed": false
   },
   "outputs": [
    {
     "name": "stdout",
     "output_type": "stream",
     "text": [
      "Linear regression using polyfit\n",
      "parameters: a=1.00 b=1.00 \n",
      "regression: a=1.00 b=1.00, ms error= 1.104\n"
     ]
    },
    {
     "data": {
      "text/html": [
       "\n",
       "\n",
       "    <div class=\"bk-root\">\n",
       "        <div class=\"plotdiv\" id=\"48c234f2-31bc-4f55-9575-0121feb8ad41\"></div>\n",
       "    </div>\n",
       "<script type=\"text/javascript\">\n",
       "  \n",
       "  (function(global) {\n",
       "    function now() {\n",
       "      return new Date();\n",
       "    }\n",
       "  \n",
       "    var force = \"\";\n",
       "  \n",
       "    if (typeof (window._bokeh_onload_callbacks) === \"undefined\" || force !== \"\") {\n",
       "      window._bokeh_onload_callbacks = [];\n",
       "      window._bokeh_is_loading = undefined;\n",
       "    }\n",
       "  \n",
       "  \n",
       "    \n",
       "    if (typeof (window._bokeh_timeout) === \"undefined\" || force !== \"\") {\n",
       "      window._bokeh_timeout = Date.now() + 0;\n",
       "      window._bokeh_failed_load = false;\n",
       "    }\n",
       "  \n",
       "    var NB_LOAD_WARNING = {'data': {'text/html':\n",
       "       \"<div style='background-color: #fdd'>\\n\"+\n",
       "       \"<p>\\n\"+\n",
       "       \"BokehJS does not appear to have successfully loaded. If loading BokehJS from CDN, this \\n\"+\n",
       "       \"may be due to a slow or bad network connection. Possible fixes:\\n\"+\n",
       "       \"</p>\\n\"+\n",
       "       \"<ul>\\n\"+\n",
       "       \"<li>re-rerun `output_notebook()` to attempt to load from CDN again, or</li>\\n\"+\n",
       "       \"<li>use INLINE resources instead, as so:</li>\\n\"+\n",
       "       \"</ul>\\n\"+\n",
       "       \"<code>\\n\"+\n",
       "       \"from bokeh.resources import INLINE\\n\"+\n",
       "       \"output_notebook(resources=INLINE)\\n\"+\n",
       "       \"</code>\\n\"+\n",
       "       \"</div>\"}};\n",
       "  \n",
       "    function display_loaded() {\n",
       "      if (window.Bokeh !== undefined) {\n",
       "        Bokeh.$(\"#48c234f2-31bc-4f55-9575-0121feb8ad41\").text(\"BokehJS successfully loaded.\");\n",
       "      } else if (Date.now() < window._bokeh_timeout) {\n",
       "        setTimeout(display_loaded, 100)\n",
       "      }\n",
       "    }if ((window.Jupyter !== undefined) && Jupyter.notebook.kernel) {\n",
       "      comm_manager = Jupyter.notebook.kernel.comm_manager\n",
       "      comm_manager.register_target(\"135c3258-106c-4233-8346-efbeaecb4168\", function () {});\n",
       "    }\n",
       "  \n",
       "    function run_callbacks() {\n",
       "      window._bokeh_onload_callbacks.forEach(function(callback) { callback() });\n",
       "      delete window._bokeh_onload_callbacks\n",
       "      console.info(\"Bokeh: all callbacks have finished\");\n",
       "    }\n",
       "  \n",
       "    function load_libs(js_urls, callback) {\n",
       "      window._bokeh_onload_callbacks.push(callback);\n",
       "      if (window._bokeh_is_loading > 0) {\n",
       "        console.log(\"Bokeh: BokehJS is being loaded, scheduling callback at\", now());\n",
       "        return null;\n",
       "      }\n",
       "      if (js_urls == null || js_urls.length === 0) {\n",
       "        run_callbacks();\n",
       "        return null;\n",
       "      }\n",
       "      console.log(\"Bokeh: BokehJS not loaded, scheduling load and callback at\", now());\n",
       "      window._bokeh_is_loading = js_urls.length;\n",
       "      for (var i = 0; i < js_urls.length; i++) {\n",
       "        var url = js_urls[i];\n",
       "        var s = document.createElement('script');\n",
       "        s.src = url;\n",
       "        s.async = false;\n",
       "        s.onreadystatechange = s.onload = function() {\n",
       "          window._bokeh_is_loading--;\n",
       "          if (window._bokeh_is_loading === 0) {\n",
       "            console.log(\"Bokeh: all BokehJS libraries loaded\");\n",
       "            run_callbacks()\n",
       "          }\n",
       "        };\n",
       "        s.onerror = function() {\n",
       "          console.warn(\"failed to load library \" + url);\n",
       "        };\n",
       "        console.log(\"Bokeh: injecting script tag for BokehJS library: \", url);\n",
       "        document.getElementsByTagName(\"head\")[0].appendChild(s);\n",
       "      }\n",
       "    };var element = document.getElementById(\"48c234f2-31bc-4f55-9575-0121feb8ad41\");\n",
       "    if (element == null) {\n",
       "      console.log(\"Bokeh: ERROR: autoload.js configured with elementid '48c234f2-31bc-4f55-9575-0121feb8ad41' but no matching script tag was found. \")\n",
       "      return false;\n",
       "    }\n",
       "  \n",
       "    var js_urls = [];\n",
       "  \n",
       "    var inline_js = [\n",
       "      function(Bokeh) {\n",
       "        Bokeh.$(function() {\n",
       "            var docs_json = {\"1f3c4bb1-701a-4b20-9225-0c8647d3fb45\":{\"roots\":{\"references\":[{\"attributes\":{},\"id\":\"d06d862b-8d76-44ec-9039-ab7ce3dfe9bb\",\"type\":\"BasicTicker\"},{\"attributes\":{\"plot\":{\"id\":\"e8d3a5c2-675a-402c-8a1e-8bd58d24ddc3\",\"subtype\":\"Figure\",\"type\":\"Plot\"}},\"id\":\"a523dc10-19a2-4c33-9882-994cb93fb20d\",\"type\":\"HelpTool\"},{\"attributes\":{\"callback\":null,\"column_names\":[\"x\",\"y\"],\"data\":{\"x\":[-5.0,-4.0,-3.0,-2.0,-1.0,0.0,1.0,2.0,3.0,4.0,5.0],\"y\":[-4.0,-3.0,-2.0,-1.0,0.0,1.0,2.0,3.0,4.0,5.0,6.0]}},\"id\":\"a489d8c3-4b7c-4f6e-9579-6c90de1b31eb\",\"type\":\"ColumnDataSource\"},{\"attributes\":{\"callback\":null,\"column_names\":[\"x\",\"y\"],\"data\":{\"x\":[-5.0,-4.0,-3.0,-2.0,-1.0,0.0,1.0,2.0,3.0,4.0,5.0],\"y\":[-4.0,-3.0,-2.0,-1.0,0.0,1.0,2.0,3.0,4.0,5.0,6.0]}},\"id\":\"3caaf7ea-aed9-4c45-9e2a-9ed343ef0415\",\"type\":\"ColumnDataSource\"},{\"attributes\":{\"overlay\":{\"id\":\"9bc94ef3-975e-4cfe-bdf2-f9c5745b7725\",\"type\":\"BoxAnnotation\"},\"plot\":{\"id\":\"e8d3a5c2-675a-402c-8a1e-8bd58d24ddc3\",\"subtype\":\"Figure\",\"type\":\"Plot\"}},\"id\":\"6d9dbfef-848b-4a9e-8cc8-1e69ddf0c0e1\",\"type\":\"BoxZoomTool\"},{\"attributes\":{\"plot\":{\"id\":\"e8426dc1-2a7a-4a12-8d45-e3784249a4d2\",\"subtype\":\"Figure\",\"type\":\"Plot\"}},\"id\":\"7afb6994-1054-4f12-971c-cb3fde4a4cad\",\"type\":\"PanTool\"},{\"attributes\":{\"formatter\":{\"id\":\"342d5858-001a-4f8a-89d2-bf7a92771234\",\"type\":\"BasicTickFormatter\"},\"plot\":{\"id\":\"e8426dc1-2a7a-4a12-8d45-e3784249a4d2\",\"subtype\":\"Figure\",\"type\":\"Plot\"},\"ticker\":{\"id\":\"e0552e1c-8e27-4fd1-b821-d6dc7637f9dc\",\"type\":\"BasicTicker\"}},\"id\":\"3aca0bc5-805c-4492-8408-3f3a5cdbd816\",\"type\":\"LinearAxis\"},{\"attributes\":{\"plot\":{\"id\":\"e8426dc1-2a7a-4a12-8d45-e3784249a4d2\",\"subtype\":\"Figure\",\"type\":\"Plot\"}},\"id\":\"3ffe1174-95c1-4716-9d6e-023333452875\",\"type\":\"SaveTool\"},{\"attributes\":{\"callback\":null},\"id\":\"8b6ddcc5-ebd2-42bf-8dac-f5e04fab6bc9\",\"type\":\"DataRange1d\"},{\"attributes\":{},\"id\":\"cc9653a4-2a7d-4635-af96-0a9105559c81\",\"type\":\"BasicTicker\"},{\"attributes\":{\"below\":[{\"id\":\"3aca0bc5-805c-4492-8408-3f3a5cdbd816\",\"type\":\"LinearAxis\"}],\"left\":[{\"id\":\"a3a22bf2-ce80-4bab-8822-47fc7dfe22d7\",\"type\":\"LinearAxis\"}],\"plot_height\":400,\"plot_width\":400,\"renderers\":[{\"id\":\"3aca0bc5-805c-4492-8408-3f3a5cdbd816\",\"type\":\"LinearAxis\"},{\"id\":\"df2d9fe3-e00f-4acc-8353-68be1c9fb91b\",\"type\":\"Grid\"},{\"id\":\"a3a22bf2-ce80-4bab-8822-47fc7dfe22d7\",\"type\":\"LinearAxis\"},{\"id\":\"a5d3a985-bb93-404a-b585-169291066bd1\",\"type\":\"Grid\"},{\"id\":\"173b7d7c-6449-483e-82ee-e98b857ef5fd\",\"type\":\"BoxAnnotation\"},{\"id\":\"247960d7-3ce4-48af-85b4-7fd931ff41de\",\"type\":\"GlyphRenderer\"},{\"id\":\"9ae99a0c-28af-4d41-b4b9-7660d04b31ae\",\"type\":\"Legend\"},{\"id\":\"854ed415-cac6-46d8-99e4-ecef9e1b34b4\",\"type\":\"GlyphRenderer\"}],\"title\":{\"id\":\"04b91e65-0771-454d-8060-3637a91b7165\",\"type\":\"Title\"},\"tool_events\":{\"id\":\"59378651-8c58-4df2-a633-7e4f092ea325\",\"type\":\"ToolEvents\"},\"toolbar\":{\"id\":\"e4f05d7a-af19-4b0c-b1b8-57dad282344a\",\"type\":\"Toolbar\"},\"x_range\":{\"id\":\"a9502d1f-1ae6-4e59-9ab8-33f1a50c3180\",\"type\":\"DataRange1d\"},\"y_range\":{\"id\":\"8b6ddcc5-ebd2-42bf-8dac-f5e04fab6bc9\",\"type\":\"DataRange1d\"}},\"id\":\"e8426dc1-2a7a-4a12-8d45-e3784249a4d2\",\"subtype\":\"Figure\",\"type\":\"Plot\"},{\"attributes\":{\"dimension\":1,\"plot\":{\"id\":\"e8426dc1-2a7a-4a12-8d45-e3784249a4d2\",\"subtype\":\"Figure\",\"type\":\"Plot\"},\"ticker\":{\"id\":\"cc9653a4-2a7d-4635-af96-0a9105559c81\",\"type\":\"BasicTicker\"}},\"id\":\"a5d3a985-bb93-404a-b585-169291066bd1\",\"type\":\"Grid\"},{\"attributes\":{\"callback\":null,\"column_names\":[\"x\",\"y\"],\"data\":{\"x\":[-5.0,-4.0,-3.0,-2.0,-1.0,0.0,1.0,2.0,3.0,4.0,5.0],\"y\":[-3.227052830465362,-2.3337741655665725,-2.4089405633466545,-2.79781978495806,-1.3930705663777996,2.362964076120099,0.7796901144221662,4.172401845438818,4.195247720162776,3.695560408165419,5.248738940380668]}},\"id\":\"0308d892-0ef6-4435-aba6-afb3e9999e2e\",\"type\":\"ColumnDataSource\"},{\"attributes\":{\"callback\":null},\"id\":\"7e638b67-ca30-4383-a1d5-5943f162a60b\",\"type\":\"DataRange1d\"},{\"attributes\":{\"active_drag\":\"auto\",\"active_scroll\":\"auto\",\"active_tap\":\"auto\",\"tools\":[{\"id\":\"7afb6994-1054-4f12-971c-cb3fde4a4cad\",\"type\":\"PanTool\"},{\"id\":\"b1f39ea3-3544-4bdf-b662-bc72a6e5414e\",\"type\":\"WheelZoomTool\"},{\"id\":\"c1e04f47-72d7-4d44-84d7-36d9e31c107f\",\"type\":\"BoxZoomTool\"},{\"id\":\"3ffe1174-95c1-4716-9d6e-023333452875\",\"type\":\"SaveTool\"},{\"id\":\"d31c5b1a-0510-4ee8-8fa9-4b502334a5fa\",\"type\":\"ResetTool\"},{\"id\":\"348128c7-fb0a-4a49-82da-b34682f9a4d6\",\"type\":\"HelpTool\"}]},\"id\":\"e4f05d7a-af19-4b0c-b1b8-57dad282344a\",\"type\":\"Toolbar\"},{\"attributes\":{},\"id\":\"6d47e245-65c3-4193-b3c5-c3fa97cc8e0c\",\"type\":\"BasicTicker\"},{\"attributes\":{\"plot\":null,\"text\":\"With noise\"},\"id\":\"04b91e65-0771-454d-8060-3637a91b7165\",\"type\":\"Title\"},{\"attributes\":{\"overlay\":{\"id\":\"173b7d7c-6449-483e-82ee-e98b857ef5fd\",\"type\":\"BoxAnnotation\"},\"plot\":{\"id\":\"e8426dc1-2a7a-4a12-8d45-e3784249a4d2\",\"subtype\":\"Figure\",\"type\":\"Plot\"}},\"id\":\"c1e04f47-72d7-4d44-84d7-36d9e31c107f\",\"type\":\"BoxZoomTool\"},{\"attributes\":{\"plot\":{\"id\":\"e8d3a5c2-675a-402c-8a1e-8bd58d24ddc3\",\"subtype\":\"Figure\",\"type\":\"Plot\"}},\"id\":\"cf0d22cc-e605-4292-8d35-8d7efc96368d\",\"type\":\"PanTool\"},{\"attributes\":{\"data_source\":{\"id\":\"3caaf7ea-aed9-4c45-9e2a-9ed343ef0415\",\"type\":\"ColumnDataSource\"},\"glyph\":{\"id\":\"4daf30b8-39fe-4d4c-b7c0-50784411e43d\",\"type\":\"Line\"},\"hover_glyph\":null,\"nonselection_glyph\":{\"id\":\"f8a1894d-4775-4010-82fd-231caadbe40f\",\"type\":\"Line\"},\"selection_glyph\":null},\"id\":\"854ed415-cac6-46d8-99e4-ecef9e1b34b4\",\"type\":\"GlyphRenderer\"},{\"attributes\":{\"line_color\":{\"value\":\"blue\"},\"x\":{\"field\":\"x\"},\"y\":{\"field\":\"y\"}},\"id\":\"4daf30b8-39fe-4d4c-b7c0-50784411e43d\",\"type\":\"Line\"},{\"attributes\":{\"callback\":null},\"id\":\"a9502d1f-1ae6-4e59-9ab8-33f1a50c3180\",\"type\":\"DataRange1d\"},{\"attributes\":{\"data_source\":{\"id\":\"a489d8c3-4b7c-4f6e-9579-6c90de1b31eb\",\"type\":\"ColumnDataSource\"},\"glyph\":{\"id\":\"43cf7b3a-666c-4e6c-a015-f42ad406fecc\",\"type\":\"Circle\"},\"hover_glyph\":null,\"nonselection_glyph\":{\"id\":\"4d5e1887-4813-4194-be5c-9a1687ef96fa\",\"type\":\"Circle\"},\"selection_glyph\":null},\"id\":\"37057aca-52fb-4374-8023-5a9e61bac526\",\"type\":\"GlyphRenderer\"},{\"attributes\":{\"line_alpha\":{\"value\":0.1},\"line_color\":{\"value\":\"#1f77b4\"},\"x\":{\"field\":\"x\"},\"y\":{\"field\":\"y\"}},\"id\":\"f8a1894d-4775-4010-82fd-231caadbe40f\",\"type\":\"Line\"},{\"attributes\":{\"data_source\":{\"id\":\"0308d892-0ef6-4435-aba6-afb3e9999e2e\",\"type\":\"ColumnDataSource\"},\"glyph\":{\"id\":\"e2229f2d-ba4e-4ce5-b2f2-12ebcd942ee0\",\"type\":\"Circle\"},\"hover_glyph\":null,\"nonselection_glyph\":{\"id\":\"06e3079d-c417-4b11-a428-9294b13f4136\",\"type\":\"Circle\"},\"selection_glyph\":null},\"id\":\"247960d7-3ce4-48af-85b4-7fd931ff41de\",\"type\":\"GlyphRenderer\"},{\"attributes\":{\"plot\":{\"id\":\"e8d3a5c2-675a-402c-8a1e-8bd58d24ddc3\",\"subtype\":\"Figure\",\"type\":\"Plot\"},\"ticker\":{\"id\":\"d06d862b-8d76-44ec-9039-ab7ce3dfe9bb\",\"type\":\"BasicTicker\"}},\"id\":\"dc91314e-3e3b-4274-9067-032c91642729\",\"type\":\"Grid\"},{\"attributes\":{\"plot\":{\"id\":\"e8426dc1-2a7a-4a12-8d45-e3784249a4d2\",\"subtype\":\"Figure\",\"type\":\"Plot\"}},\"id\":\"d31c5b1a-0510-4ee8-8fa9-4b502334a5fa\",\"type\":\"ResetTool\"},{\"attributes\":{\"bottom_units\":\"screen\",\"fill_alpha\":{\"value\":0.5},\"fill_color\":{\"value\":\"lightgrey\"},\"left_units\":\"screen\",\"level\":\"overlay\",\"line_alpha\":{\"value\":1.0},\"line_color\":{\"value\":\"black\"},\"line_dash\":[4,4],\"line_width\":{\"value\":2},\"plot\":null,\"render_mode\":\"css\",\"right_units\":\"screen\",\"top_units\":\"screen\"},\"id\":\"9bc94ef3-975e-4cfe-bdf2-f9c5745b7725\",\"type\":\"BoxAnnotation\"},{\"attributes\":{},\"id\":\"676bda62-a7c7-44f2-becc-a3ee14771ed0\",\"type\":\"BasicTickFormatter\"},{\"attributes\":{},\"id\":\"69373cb8-b5d8-43d2-9dc1-9a0a3d4e133d\",\"type\":\"BasicTickFormatter\"},{\"attributes\":{\"callback\":null},\"id\":\"e4c7f84b-8f05-44e8-bf58-724740b88c85\",\"type\":\"DataRange1d\"},{\"attributes\":{\"bottom_units\":\"screen\",\"fill_alpha\":{\"value\":0.5},\"fill_color\":{\"value\":\"lightgrey\"},\"left_units\":\"screen\",\"level\":\"overlay\",\"line_alpha\":{\"value\":1.0},\"line_color\":{\"value\":\"black\"},\"line_dash\":[4,4],\"line_width\":{\"value\":2},\"plot\":null,\"render_mode\":\"css\",\"right_units\":\"screen\",\"top_units\":\"screen\"},\"id\":\"173b7d7c-6449-483e-82ee-e98b857ef5fd\",\"type\":\"BoxAnnotation\"},{\"attributes\":{\"dimension\":1,\"plot\":{\"id\":\"e8d3a5c2-675a-402c-8a1e-8bd58d24ddc3\",\"subtype\":\"Figure\",\"type\":\"Plot\"},\"ticker\":{\"id\":\"6d47e245-65c3-4193-b3c5-c3fa97cc8e0c\",\"type\":\"BasicTicker\"}},\"id\":\"1f273225-2df8-49f7-a022-1fed8fffb095\",\"type\":\"Grid\"},{\"attributes\":{\"formatter\":{\"id\":\"676bda62-a7c7-44f2-becc-a3ee14771ed0\",\"type\":\"BasicTickFormatter\"},\"plot\":{\"id\":\"e8d3a5c2-675a-402c-8a1e-8bd58d24ddc3\",\"subtype\":\"Figure\",\"type\":\"Plot\"},\"ticker\":{\"id\":\"6d47e245-65c3-4193-b3c5-c3fa97cc8e0c\",\"type\":\"BasicTicker\"}},\"id\":\"93c564e8-344f-4544-9e50-75021f7aaf95\",\"type\":\"LinearAxis\"},{\"attributes\":{\"formatter\":{\"id\":\"55e017d0-649f-47cd-a41f-f02745fdd064\",\"type\":\"BasicTickFormatter\"},\"plot\":{\"id\":\"e8d3a5c2-675a-402c-8a1e-8bd58d24ddc3\",\"subtype\":\"Figure\",\"type\":\"Plot\"},\"ticker\":{\"id\":\"d06d862b-8d76-44ec-9039-ab7ce3dfe9bb\",\"type\":\"BasicTicker\"}},\"id\":\"ae7e1cb4-220a-4b16-8c6a-786d59fa06e7\",\"type\":\"LinearAxis\"},{\"attributes\":{},\"id\":\"342d5858-001a-4f8a-89d2-bf7a92771234\",\"type\":\"BasicTickFormatter\"},{\"attributes\":{\"plot\":{\"id\":\"e8426dc1-2a7a-4a12-8d45-e3784249a4d2\",\"subtype\":\"Figure\",\"type\":\"Plot\"},\"ticker\":{\"id\":\"e0552e1c-8e27-4fd1-b821-d6dc7637f9dc\",\"type\":\"BasicTicker\"}},\"id\":\"df2d9fe3-e00f-4acc-8353-68be1c9fb91b\",\"type\":\"Grid\"},{\"attributes\":{\"formatter\":{\"id\":\"69373cb8-b5d8-43d2-9dc1-9a0a3d4e133d\",\"type\":\"BasicTickFormatter\"},\"plot\":{\"id\":\"e8426dc1-2a7a-4a12-8d45-e3784249a4d2\",\"subtype\":\"Figure\",\"type\":\"Plot\"},\"ticker\":{\"id\":\"cc9653a4-2a7d-4635-af96-0a9105559c81\",\"type\":\"BasicTicker\"}},\"id\":\"a3a22bf2-ce80-4bab-8822-47fc7dfe22d7\",\"type\":\"LinearAxis\"},{\"attributes\":{\"plot\":null,\"text\":\"Data without noise\"},\"id\":\"18cafc48-d15b-4509-9078-dcd8d635e7c0\",\"type\":\"Title\"},{\"attributes\":{\"plot\":{\"id\":\"e8d3a5c2-675a-402c-8a1e-8bd58d24ddc3\",\"subtype\":\"Figure\",\"type\":\"Plot\"}},\"id\":\"8fee731a-929f-4525-96b6-f23dc011f6e7\",\"type\":\"WheelZoomTool\"},{\"attributes\":{\"fill_color\":{\"value\":\"black\"},\"x\":{\"field\":\"x\"},\"y\":{\"field\":\"y\"}},\"id\":\"e2229f2d-ba4e-4ce5-b2f2-12ebcd942ee0\",\"type\":\"Circle\"},{\"attributes\":{},\"id\":\"55e017d0-649f-47cd-a41f-f02745fdd064\",\"type\":\"BasicTickFormatter\"},{\"attributes\":{},\"id\":\"59378651-8c58-4df2-a633-7e4f092ea325\",\"type\":\"ToolEvents\"},{\"attributes\":{},\"id\":\"e0552e1c-8e27-4fd1-b821-d6dc7637f9dc\",\"type\":\"BasicTicker\"},{\"attributes\":{\"fill_alpha\":{\"value\":0.1},\"fill_color\":{\"value\":\"#1f77b4\"},\"line_alpha\":{\"value\":0.1},\"line_color\":{\"value\":\"#1f77b4\"},\"x\":{\"field\":\"x\"},\"y\":{\"field\":\"y\"}},\"id\":\"4d5e1887-4813-4194-be5c-9a1687ef96fa\",\"type\":\"Circle\"},{\"attributes\":{\"plot\":{\"id\":\"e8426dc1-2a7a-4a12-8d45-e3784249a4d2\",\"subtype\":\"Figure\",\"type\":\"Plot\"}},\"id\":\"348128c7-fb0a-4a49-82da-b34682f9a4d6\",\"type\":\"HelpTool\"},{\"attributes\":{\"active_drag\":\"auto\",\"active_scroll\":\"auto\",\"active_tap\":\"auto\",\"tools\":[{\"id\":\"cf0d22cc-e605-4292-8d35-8d7efc96368d\",\"type\":\"PanTool\"},{\"id\":\"8fee731a-929f-4525-96b6-f23dc011f6e7\",\"type\":\"WheelZoomTool\"},{\"id\":\"6d9dbfef-848b-4a9e-8cc8-1e69ddf0c0e1\",\"type\":\"BoxZoomTool\"},{\"id\":\"72f60275-bb35-41c0-9805-5f7a7abd8e3d\",\"type\":\"SaveTool\"},{\"id\":\"167849f8-2f20-4de5-8148-5365a232cd34\",\"type\":\"ResetTool\"},{\"id\":\"a523dc10-19a2-4c33-9882-994cb93fb20d\",\"type\":\"HelpTool\"}]},\"id\":\"d60ecbf4-c6ba-4dee-8035-5046c78c3c43\",\"type\":\"Toolbar\"},{\"attributes\":{\"plot\":{\"id\":\"e8d3a5c2-675a-402c-8a1e-8bd58d24ddc3\",\"subtype\":\"Figure\",\"type\":\"Plot\"}},\"id\":\"167849f8-2f20-4de5-8148-5365a232cd34\",\"type\":\"ResetTool\"},{\"attributes\":{\"plot\":{\"id\":\"e8426dc1-2a7a-4a12-8d45-e3784249a4d2\",\"subtype\":\"Figure\",\"type\":\"Plot\"}},\"id\":\"b1f39ea3-3544-4bdf-b662-bc72a6e5414e\",\"type\":\"WheelZoomTool\"},{\"attributes\":{},\"id\":\"79b3aced-f1c9-41d6-92d4-1312fedfcf74\",\"type\":\"ToolEvents\"},{\"attributes\":{\"fill_alpha\":{\"value\":0.1},\"fill_color\":{\"value\":\"#1f77b4\"},\"line_alpha\":{\"value\":0.1},\"line_color\":{\"value\":\"#1f77b4\"},\"x\":{\"field\":\"x\"},\"y\":{\"field\":\"y\"}},\"id\":\"06e3079d-c417-4b11-a428-9294b13f4136\",\"type\":\"Circle\"},{\"attributes\":{\"children\":[{\"id\":\"e8d3a5c2-675a-402c-8a1e-8bd58d24ddc3\",\"subtype\":\"Figure\",\"type\":\"Plot\"},{\"id\":\"e8426dc1-2a7a-4a12-8d45-e3784249a4d2\",\"subtype\":\"Figure\",\"type\":\"Plot\"}]},\"id\":\"3daac771-07a7-4fa6-86bd-1452075a746a\",\"type\":\"Row\"},{\"attributes\":{\"below\":[{\"id\":\"ae7e1cb4-220a-4b16-8c6a-786d59fa06e7\",\"type\":\"LinearAxis\"}],\"left\":[{\"id\":\"93c564e8-344f-4544-9e50-75021f7aaf95\",\"type\":\"LinearAxis\"}],\"plot_height\":400,\"plot_width\":400,\"renderers\":[{\"id\":\"ae7e1cb4-220a-4b16-8c6a-786d59fa06e7\",\"type\":\"LinearAxis\"},{\"id\":\"dc91314e-3e3b-4274-9067-032c91642729\",\"type\":\"Grid\"},{\"id\":\"93c564e8-344f-4544-9e50-75021f7aaf95\",\"type\":\"LinearAxis\"},{\"id\":\"1f273225-2df8-49f7-a022-1fed8fffb095\",\"type\":\"Grid\"},{\"id\":\"9bc94ef3-975e-4cfe-bdf2-f9c5745b7725\",\"type\":\"BoxAnnotation\"},{\"id\":\"37057aca-52fb-4374-8023-5a9e61bac526\",\"type\":\"GlyphRenderer\"}],\"title\":{\"id\":\"18cafc48-d15b-4509-9078-dcd8d635e7c0\",\"type\":\"Title\"},\"tool_events\":{\"id\":\"79b3aced-f1c9-41d6-92d4-1312fedfcf74\",\"type\":\"ToolEvents\"},\"toolbar\":{\"id\":\"d60ecbf4-c6ba-4dee-8035-5046c78c3c43\",\"type\":\"Toolbar\"},\"x_range\":{\"id\":\"e4c7f84b-8f05-44e8-bf58-724740b88c85\",\"type\":\"DataRange1d\"},\"y_range\":{\"id\":\"7e638b67-ca30-4383-a1d5-5943f162a60b\",\"type\":\"DataRange1d\"}},\"id\":\"e8d3a5c2-675a-402c-8a1e-8bd58d24ddc3\",\"subtype\":\"Figure\",\"type\":\"Plot\"},{\"attributes\":{\"legends\":[[\"Linear regression\",[{\"id\":\"854ed415-cac6-46d8-99e4-ecef9e1b34b4\",\"type\":\"GlyphRenderer\"}]]],\"plot\":{\"id\":\"e8426dc1-2a7a-4a12-8d45-e3784249a4d2\",\"subtype\":\"Figure\",\"type\":\"Plot\"}},\"id\":\"9ae99a0c-28af-4d41-b4b9-7660d04b31ae\",\"type\":\"Legend\"},{\"attributes\":{\"plot\":{\"id\":\"e8d3a5c2-675a-402c-8a1e-8bd58d24ddc3\",\"subtype\":\"Figure\",\"type\":\"Plot\"}},\"id\":\"72f60275-bb35-41c0-9805-5f7a7abd8e3d\",\"type\":\"SaveTool\"},{\"attributes\":{\"fill_color\":{\"value\":\"green\"},\"line_color\":{\"value\":\"green\"},\"x\":{\"field\":\"x\"},\"y\":{\"field\":\"y\"}},\"id\":\"43cf7b3a-666c-4e6c-a015-f42ad406fecc\",\"type\":\"Circle\"}],\"root_ids\":[\"3daac771-07a7-4fa6-86bd-1452075a746a\"]},\"title\":\"Bokeh Application\",\"version\":\"0.12.2\"}};\n",
       "            var render_items = [{\"docid\":\"1f3c4bb1-701a-4b20-9225-0c8647d3fb45\",\"elementid\":\"48c234f2-31bc-4f55-9575-0121feb8ad41\",\"modelid\":\"3daac771-07a7-4fa6-86bd-1452075a746a\",\"notebook_comms_target\":\"135c3258-106c-4233-8346-efbeaecb4168\"}];\n",
       "            \n",
       "            Bokeh.embed.embed_items(docs_json, render_items);\n",
       "        });\n",
       "      },\n",
       "      function(Bokeh) {\n",
       "      }\n",
       "    ];\n",
       "  \n",
       "    function run_inline_js() {\n",
       "      \n",
       "      if ((window.Bokeh !== undefined) || (force === \"1\")) {\n",
       "        for (var i = 0; i < inline_js.length; i++) {\n",
       "          inline_js[i](window.Bokeh);\n",
       "        }if (force === \"1\") {\n",
       "          display_loaded();\n",
       "        }} else if (Date.now() < window._bokeh_timeout) {\n",
       "        setTimeout(run_inline_js, 100);\n",
       "      } else if (!window._bokeh_failed_load) {\n",
       "        console.log(\"Bokeh: BokehJS failed to load within specified timeout.\");\n",
       "        window._bokeh_failed_load = true;\n",
       "      } else if (!force) {\n",
       "        var cell = $(\"#48c234f2-31bc-4f55-9575-0121feb8ad41\").parents('.cell').data().cell;\n",
       "        cell.output_area.append_execute_result(NB_LOAD_WARNING)\n",
       "      }\n",
       "  \n",
       "    }\n",
       "  \n",
       "    if (window._bokeh_is_loading === 0) {\n",
       "      console.log(\"Bokeh: BokehJS loaded, going straight to plotting\");\n",
       "      run_inline_js();\n",
       "    } else {\n",
       "      load_libs(js_urls, function() {\n",
       "        console.log(\"Bokeh: BokehJS plotting callback run at\", now());\n",
       "        run_inline_js();\n",
       "      });\n",
       "    }\n",
       "  }(this));\n",
       "</script>"
      ]
     },
     "metadata": {},
     "output_type": "display_data"
    }
   ],
   "source": [
    "@interact(n_points=50, a=0.8, b=(-10,+10,1), ar=0.8, br=(-10,+10,1))\n",
    "def linear_regression(n_points, a, b, ar, br):\n",
    "    # This function is generating fake dataset (n_points) based on a linear function (a*x + b = t),\n",
    "    # adding some noise to make it \"real\"\n",
    "    # Approximating a and b\n",
    "    # Then plotting graphs with bokeh\n",
    "\n",
    "    t=np.linspace(-5,5,n_points)\n",
    "    \n",
    "    x=np.polyval([a,b],t)\n",
    "\n",
    "    # Add some noise\n",
    "    xn=x+np.random.randn(n_points)\n",
    "\n",
    "    # Linear regressison -polyfit - polyfit can be used other orders polys\n",
    "    \n",
    "    # With this line, you can calculate automatically ar and br\n",
    "    #(ar,br)=np.polyfit(t,xn,1)\n",
    "    \n",
    "    xr=np.polyval([ar,br],t)\n",
    "\n",
    "    # Compute the MSE (just for having an idea, it's not used inside polyfit)\n",
    "    err=np.sqrt(sum((xr-xn)**2)/n_points)\n",
    "\n",
    "    print('Linear regression using polyfit')\n",
    "    print('parameters: a=%.2f b=%.2f \\nregression: a=%.2f b=%.2f, ms error= %.3f' % (a,b,ar,br,err))\n",
    "\n",
    "    # Bokeh plotting\n",
    "    p1 = figure(title='Data without noise', plot_width=400, plot_height=400)\n",
    "    r1 = p1.circle(t, x, color='green')\n",
    "\n",
    "    p2 = figure(title='With noise',plot_width=400, plot_height=400)\n",
    "    r2 = p2.circle(t, xn, color='black')\n",
    "    r2 = p2.line(t, xr, color='blue', legend='Linear regression')\n",
    "\n",
    "    plot = show(row(p1,p2), notebook_handle=True)\n",
    "\n",
    "    return"
   ]
  },
  {
   "cell_type": "markdown",
   "metadata": {},
   "source": [
    "Here I choose to create a function because I wanted to use \"interact\". It's a very useful tool to add more interactivity into your notebooks.  \n",
    "More information there: http://ipywidgets.readthedocs.io/en/latest/examples/Using%20Interact.html"
   ]
  },
  {
   "cell_type": "markdown",
   "metadata": {},
   "source": [
    "The MSE represent the \"average distance\" between your data and the line. The goal is to **minimize this distance** so we can consider our model is the \"**most accurate**\". This concept is called \"**loss function**\".  \n",
    "\n",
    "$$\\mathscr{L} = \\frac{1}{n} \\sum_{i=1}^{n}(Y_i-\\widehat {Y_i})^2$$  \n",
    "$Y_i$ is the data (it is known) and $\\widehat{Y_i}$ is what we predicted (what we try to be accurate). So in the ideal case, $Y_i-\\widehat {Y_i}$ is equal to $0$! Or at least, the closest it is to $0$, the more accurate is our model.  \n",
    "\n",
    "![MSE concept](images/MSE_concept.png \"MSE concept\")"
   ]
  },
  {
   "cell_type": "markdown",
   "metadata": {},
   "source": [
    "This action of minimizing (or maximizing) the loss function is called: optimization. It's a mathematical field itself. So we are saying \"we want to optimize our loss function in order to improve our model accuracy\". And \"improving the accuracy of our model\" means \"approximating as much as we can the function\"."
   ]
  },
  {
   "cell_type": "markdown",
   "metadata": {},
   "source": [
    "Let's see another example of function approximation."
   ]
  },
  {
   "cell_type": "markdown",
   "metadata": {},
   "source": [
    "## Interpolation: another example of function approximation"
   ]
  },
  {
   "cell_type": "markdown",
   "metadata": {},
   "source": [
    "As before, we're first generating our dataset, based this time on sinus function. As this function is not linear, we cannot use polyfit as before. We will use a technic called \"interpolation\"."
   ]
  },
  {
   "cell_type": "code",
   "execution_count": 4,
   "metadata": {
    "collapsed": true
   },
   "outputs": [],
   "source": [
    "def interpolation(n_samples):\n",
    "    # This function is generqting dataset based on the sinus function\n",
    "    # interpolating this function (on n_samples)\n",
    "    # and plot the data with bokeh\n",
    "    \n",
    "    \n",
    "    # n_points points of sin(x) in [0 10]\n",
    "    xx = np.linspace(0, 10, 40)\n",
    "    yy = np.sin(xx)\n",
    "\n",
    "    # n_samples sample of sin(x) in [0 10]\n",
    "    x = np.linspace(0, 10, n_samples)\n",
    "    y = np.sin(x)\n",
    "\n",
    "    # interpolation\n",
    "    xvals = np.linspace(0, 2*np.pi, n_samples)\n",
    "    yinterp = np.interp(xvals, x, y)\n",
    "\n",
    "    #bokeh plotting\n",
    "    p1 = figure(title='The function itself', plot_width=400, plot_height=400)\n",
    "    r1 = p1.line(xx, yy, color='green')\n",
    "\n",
    "    p2 = figure(title='The approximated function (interpolation)',plot_width=400, plot_height=400)\n",
    "    r2 = p2.circle(xvals, yinterp, color='black')\n",
    "    r2 = p2.line(xvals, yinterp, color='blue', legend='Linear regression')\n",
    "\n",
    "    plot = show(row(p1,p2), notebook_handle=True)\n",
    "    \n",
    "    return"
   ]
  },
  {
   "cell_type": "code",
   "execution_count": 5,
   "metadata": {
    "collapsed": false
   },
   "outputs": [
    {
     "data": {
      "text/html": [
       "\n",
       "\n",
       "    <div class=\"bk-root\">\n",
       "        <div class=\"plotdiv\" id=\"a83873b2-029a-4e4e-9565-a15fd68260f8\"></div>\n",
       "    </div>\n",
       "<script type=\"text/javascript\">\n",
       "  \n",
       "  (function(global) {\n",
       "    function now() {\n",
       "      return new Date();\n",
       "    }\n",
       "  \n",
       "    var force = \"\";\n",
       "  \n",
       "    if (typeof (window._bokeh_onload_callbacks) === \"undefined\" || force !== \"\") {\n",
       "      window._bokeh_onload_callbacks = [];\n",
       "      window._bokeh_is_loading = undefined;\n",
       "    }\n",
       "  \n",
       "  \n",
       "    \n",
       "    if (typeof (window._bokeh_timeout) === \"undefined\" || force !== \"\") {\n",
       "      window._bokeh_timeout = Date.now() + 0;\n",
       "      window._bokeh_failed_load = false;\n",
       "    }\n",
       "  \n",
       "    var NB_LOAD_WARNING = {'data': {'text/html':\n",
       "       \"<div style='background-color: #fdd'>\\n\"+\n",
       "       \"<p>\\n\"+\n",
       "       \"BokehJS does not appear to have successfully loaded. If loading BokehJS from CDN, this \\n\"+\n",
       "       \"may be due to a slow or bad network connection. Possible fixes:\\n\"+\n",
       "       \"</p>\\n\"+\n",
       "       \"<ul>\\n\"+\n",
       "       \"<li>re-rerun `output_notebook()` to attempt to load from CDN again, or</li>\\n\"+\n",
       "       \"<li>use INLINE resources instead, as so:</li>\\n\"+\n",
       "       \"</ul>\\n\"+\n",
       "       \"<code>\\n\"+\n",
       "       \"from bokeh.resources import INLINE\\n\"+\n",
       "       \"output_notebook(resources=INLINE)\\n\"+\n",
       "       \"</code>\\n\"+\n",
       "       \"</div>\"}};\n",
       "  \n",
       "    function display_loaded() {\n",
       "      if (window.Bokeh !== undefined) {\n",
       "        Bokeh.$(\"#a83873b2-029a-4e4e-9565-a15fd68260f8\").text(\"BokehJS successfully loaded.\");\n",
       "      } else if (Date.now() < window._bokeh_timeout) {\n",
       "        setTimeout(display_loaded, 100)\n",
       "      }\n",
       "    }if ((window.Jupyter !== undefined) && Jupyter.notebook.kernel) {\n",
       "      comm_manager = Jupyter.notebook.kernel.comm_manager\n",
       "      comm_manager.register_target(\"c8593955-0e6a-4805-8a9d-8eca8278cf50\", function () {});\n",
       "    }\n",
       "  \n",
       "    function run_callbacks() {\n",
       "      window._bokeh_onload_callbacks.forEach(function(callback) { callback() });\n",
       "      delete window._bokeh_onload_callbacks\n",
       "      console.info(\"Bokeh: all callbacks have finished\");\n",
       "    }\n",
       "  \n",
       "    function load_libs(js_urls, callback) {\n",
       "      window._bokeh_onload_callbacks.push(callback);\n",
       "      if (window._bokeh_is_loading > 0) {\n",
       "        console.log(\"Bokeh: BokehJS is being loaded, scheduling callback at\", now());\n",
       "        return null;\n",
       "      }\n",
       "      if (js_urls == null || js_urls.length === 0) {\n",
       "        run_callbacks();\n",
       "        return null;\n",
       "      }\n",
       "      console.log(\"Bokeh: BokehJS not loaded, scheduling load and callback at\", now());\n",
       "      window._bokeh_is_loading = js_urls.length;\n",
       "      for (var i = 0; i < js_urls.length; i++) {\n",
       "        var url = js_urls[i];\n",
       "        var s = document.createElement('script');\n",
       "        s.src = url;\n",
       "        s.async = false;\n",
       "        s.onreadystatechange = s.onload = function() {\n",
       "          window._bokeh_is_loading--;\n",
       "          if (window._bokeh_is_loading === 0) {\n",
       "            console.log(\"Bokeh: all BokehJS libraries loaded\");\n",
       "            run_callbacks()\n",
       "          }\n",
       "        };\n",
       "        s.onerror = function() {\n",
       "          console.warn(\"failed to load library \" + url);\n",
       "        };\n",
       "        console.log(\"Bokeh: injecting script tag for BokehJS library: \", url);\n",
       "        document.getElementsByTagName(\"head\")[0].appendChild(s);\n",
       "      }\n",
       "    };var element = document.getElementById(\"a83873b2-029a-4e4e-9565-a15fd68260f8\");\n",
       "    if (element == null) {\n",
       "      console.log(\"Bokeh: ERROR: autoload.js configured with elementid 'a83873b2-029a-4e4e-9565-a15fd68260f8' but no matching script tag was found. \")\n",
       "      return false;\n",
       "    }\n",
       "  \n",
       "    var js_urls = [];\n",
       "  \n",
       "    var inline_js = [\n",
       "      function(Bokeh) {\n",
       "        Bokeh.$(function() {\n",
       "            var docs_json = {\"5262d695-7c4b-4898-a348-f02c7ad4ce95\":{\"roots\":{\"references\":[{\"attributes\":{},\"id\":\"75ceb75f-e24f-4a7e-b515-f66babf041f5\",\"type\":\"ToolEvents\"},{\"attributes\":{\"line_alpha\":{\"value\":0.1},\"line_color\":{\"value\":\"#1f77b4\"},\"x\":{\"field\":\"x\"},\"y\":{\"field\":\"y\"}},\"id\":\"92ee45b7-7427-41bd-a97f-74c4740c31bb\",\"type\":\"Line\"},{\"attributes\":{\"callback\":null},\"id\":\"2f741a1b-98b2-4588-ac90-3288ec04d87a\",\"type\":\"DataRange1d\"},{\"attributes\":{\"plot\":null,\"text\":\"The approximated function (interpolation)\"},\"id\":\"bc9d4ef2-7f2b-43ba-b272-4b2e378151b8\",\"type\":\"Title\"},{\"attributes\":{\"fill_alpha\":{\"value\":0.1},\"fill_color\":{\"value\":\"#1f77b4\"},\"line_alpha\":{\"value\":0.1},\"line_color\":{\"value\":\"#1f77b4\"},\"x\":{\"field\":\"x\"},\"y\":{\"field\":\"y\"}},\"id\":\"0fb04148-3100-4e3f-9ea5-cdcd9391ddf3\",\"type\":\"Circle\"},{\"attributes\":{\"line_alpha\":{\"value\":0.1},\"line_color\":{\"value\":\"#1f77b4\"},\"x\":{\"field\":\"x\"},\"y\":{\"field\":\"y\"}},\"id\":\"812b90fd-5703-46aa-9635-f01939d740fb\",\"type\":\"Line\"},{\"attributes\":{\"data_source\":{\"id\":\"4ed72357-ba55-4977-aa58-1815eac6106b\",\"type\":\"ColumnDataSource\"},\"glyph\":{\"id\":\"1f68a47d-1f38-487a-a9fa-d20c310f0ff1\",\"type\":\"Circle\"},\"hover_glyph\":null,\"nonselection_glyph\":{\"id\":\"0fb04148-3100-4e3f-9ea5-cdcd9391ddf3\",\"type\":\"Circle\"},\"selection_glyph\":null},\"id\":\"6ac9dea2-5396-48d8-81d9-749ab1dd7a50\",\"type\":\"GlyphRenderer\"},{\"attributes\":{\"plot\":{\"id\":\"b54f213a-3cad-4fd3-b663-844fcef2d6bb\",\"subtype\":\"Figure\",\"type\":\"Plot\"},\"ticker\":{\"id\":\"6731c8e5-1080-4537-9663-2f752db1e4fe\",\"type\":\"BasicTicker\"}},\"id\":\"bf059fae-c050-448a-9cf8-89f64edf9eb7\",\"type\":\"Grid\"},{\"attributes\":{\"data_source\":{\"id\":\"3ca72f43-0f03-4de9-ba05-a2ebcaee2f1c\",\"type\":\"ColumnDataSource\"},\"glyph\":{\"id\":\"0eace8dd-74d5-47fc-b718-466df25440ee\",\"type\":\"Line\"},\"hover_glyph\":null,\"nonselection_glyph\":{\"id\":\"92ee45b7-7427-41bd-a97f-74c4740c31bb\",\"type\":\"Line\"},\"selection_glyph\":null},\"id\":\"bf20158a-8c6d-48bc-b3af-cf8776c8b32e\",\"type\":\"GlyphRenderer\"},{\"attributes\":{\"data_source\":{\"id\":\"0b78002b-60a5-4b7c-82e7-61cc70261e2c\",\"type\":\"ColumnDataSource\"},\"glyph\":{\"id\":\"7d2defca-39f3-4490-b18c-a1a4e60a97f6\",\"type\":\"Line\"},\"hover_glyph\":null,\"nonselection_glyph\":{\"id\":\"812b90fd-5703-46aa-9635-f01939d740fb\",\"type\":\"Line\"},\"selection_glyph\":null},\"id\":\"7689af70-f6bd-4fb8-8038-176787d81d28\",\"type\":\"GlyphRenderer\"},{\"attributes\":{\"formatter\":{\"id\":\"bcf6a1e4-d5df-4158-b317-8e17f87a6f97\",\"type\":\"BasicTickFormatter\"},\"plot\":{\"id\":\"b54f213a-3cad-4fd3-b663-844fcef2d6bb\",\"subtype\":\"Figure\",\"type\":\"Plot\"},\"ticker\":{\"id\":\"70ed63c5-325a-4cdb-8264-7082f76b754e\",\"type\":\"BasicTicker\"}},\"id\":\"d34580a1-8ff1-4aac-a4b2-0ca71240753f\",\"type\":\"LinearAxis\"},{\"attributes\":{},\"id\":\"bcf6a1e4-d5df-4158-b317-8e17f87a6f97\",\"type\":\"BasicTickFormatter\"},{\"attributes\":{\"children\":[{\"id\":\"7e2a849f-c14f-4100-8abb-fc010d36c713\",\"subtype\":\"Figure\",\"type\":\"Plot\"},{\"id\":\"b54f213a-3cad-4fd3-b663-844fcef2d6bb\",\"subtype\":\"Figure\",\"type\":\"Plot\"}]},\"id\":\"50370963-9100-48b2-a75c-fa36d12dbc22\",\"type\":\"Row\"},{\"attributes\":{\"dimension\":1,\"plot\":{\"id\":\"b54f213a-3cad-4fd3-b663-844fcef2d6bb\",\"subtype\":\"Figure\",\"type\":\"Plot\"},\"ticker\":{\"id\":\"70ed63c5-325a-4cdb-8264-7082f76b754e\",\"type\":\"BasicTicker\"}},\"id\":\"a28c19cc-0743-4f8c-a7f7-4169592e4b6f\",\"type\":\"Grid\"},{\"attributes\":{},\"id\":\"9bbbfaab-93c3-41dc-95b3-e0c039091d7d\",\"type\":\"BasicTicker\"},{\"attributes\":{\"formatter\":{\"id\":\"85d590b2-0ff0-472b-b888-873e3f515e2a\",\"type\":\"BasicTickFormatter\"},\"plot\":{\"id\":\"b54f213a-3cad-4fd3-b663-844fcef2d6bb\",\"subtype\":\"Figure\",\"type\":\"Plot\"},\"ticker\":{\"id\":\"6731c8e5-1080-4537-9663-2f752db1e4fe\",\"type\":\"BasicTicker\"}},\"id\":\"b172223e-2dd6-4702-928e-8b73fe50c928\",\"type\":\"LinearAxis\"},{\"attributes\":{\"dimension\":1,\"plot\":{\"id\":\"7e2a849f-c14f-4100-8abb-fc010d36c713\",\"subtype\":\"Figure\",\"type\":\"Plot\"},\"ticker\":{\"id\":\"d3d544fc-6f05-4e90-915e-070700e62048\",\"type\":\"BasicTicker\"}},\"id\":\"5843e408-4775-46ff-87e8-f64255bdbb83\",\"type\":\"Grid\"},{\"attributes\":{},\"id\":\"85d590b2-0ff0-472b-b888-873e3f515e2a\",\"type\":\"BasicTickFormatter\"},{\"attributes\":{\"bottom_units\":\"screen\",\"fill_alpha\":{\"value\":0.5},\"fill_color\":{\"value\":\"lightgrey\"},\"left_units\":\"screen\",\"level\":\"overlay\",\"line_alpha\":{\"value\":1.0},\"line_color\":{\"value\":\"black\"},\"line_dash\":[4,4],\"line_width\":{\"value\":2},\"plot\":null,\"render_mode\":\"css\",\"right_units\":\"screen\",\"top_units\":\"screen\"},\"id\":\"08456f70-f7bc-4eaf-b43b-df75f92fe411\",\"type\":\"BoxAnnotation\"},{\"attributes\":{\"plot\":null,\"text\":\"The function itself\"},\"id\":\"b847a857-b814-484f-8845-6a855ee18885\",\"type\":\"Title\"},{\"attributes\":{\"plot\":{\"id\":\"7e2a849f-c14f-4100-8abb-fc010d36c713\",\"subtype\":\"Figure\",\"type\":\"Plot\"}},\"id\":\"4c56be5a-5199-4e5a-b08e-18514f21bc70\",\"type\":\"ResetTool\"},{\"attributes\":{\"plot\":{\"id\":\"b54f213a-3cad-4fd3-b663-844fcef2d6bb\",\"subtype\":\"Figure\",\"type\":\"Plot\"}},\"id\":\"0b52febc-ca22-4c32-a364-ea58fc6a8de2\",\"type\":\"SaveTool\"},{\"attributes\":{},\"id\":\"6731c8e5-1080-4537-9663-2f752db1e4fe\",\"type\":\"BasicTicker\"},{\"attributes\":{\"plot\":{\"id\":\"b54f213a-3cad-4fd3-b663-844fcef2d6bb\",\"subtype\":\"Figure\",\"type\":\"Plot\"}},\"id\":\"e10c8ce7-b301-4afb-9666-b84217873ef3\",\"type\":\"ResetTool\"},{\"attributes\":{\"plot\":{\"id\":\"b54f213a-3cad-4fd3-b663-844fcef2d6bb\",\"subtype\":\"Figure\",\"type\":\"Plot\"}},\"id\":\"d11df9dc-6c8c-4f4e-aa3a-3f980aa332d7\",\"type\":\"HelpTool\"},{\"attributes\":{\"callback\":null},\"id\":\"3aa95cda-cc34-4261-9c0c-5ef892f13a2a\",\"type\":\"DataRange1d\"},{\"attributes\":{},\"id\":\"b96254a5-8657-41b0-9320-313e0af75c39\",\"type\":\"ToolEvents\"},{\"attributes\":{\"active_drag\":\"auto\",\"active_scroll\":\"auto\",\"active_tap\":\"auto\",\"tools\":[{\"id\":\"844aa42b-14fa-48e0-b2f8-227bd50e5479\",\"type\":\"PanTool\"},{\"id\":\"5bb0d920-eb71-4e3c-8f6e-a7ee985ce16f\",\"type\":\"WheelZoomTool\"},{\"id\":\"267dbdf1-c554-470d-bd9a-e8f368d31bbf\",\"type\":\"BoxZoomTool\"},{\"id\":\"0b52febc-ca22-4c32-a364-ea58fc6a8de2\",\"type\":\"SaveTool\"},{\"id\":\"e10c8ce7-b301-4afb-9666-b84217873ef3\",\"type\":\"ResetTool\"},{\"id\":\"d11df9dc-6c8c-4f4e-aa3a-3f980aa332d7\",\"type\":\"HelpTool\"}]},\"id\":\"ab2dfeb2-2691-47b3-ba42-e6c1d78ed260\",\"type\":\"Toolbar\"},{\"attributes\":{\"fill_color\":{\"value\":\"black\"},\"x\":{\"field\":\"x\"},\"y\":{\"field\":\"y\"}},\"id\":\"1f68a47d-1f38-487a-a9fa-d20c310f0ff1\",\"type\":\"Circle\"},{\"attributes\":{\"plot\":{\"id\":\"b54f213a-3cad-4fd3-b663-844fcef2d6bb\",\"subtype\":\"Figure\",\"type\":\"Plot\"}},\"id\":\"844aa42b-14fa-48e0-b2f8-227bd50e5479\",\"type\":\"PanTool\"},{\"attributes\":{\"overlay\":{\"id\":\"f16dc9c4-9b22-4188-a472-b5e06c4b5e50\",\"type\":\"BoxAnnotation\"},\"plot\":{\"id\":\"7e2a849f-c14f-4100-8abb-fc010d36c713\",\"subtype\":\"Figure\",\"type\":\"Plot\"}},\"id\":\"0eee5c4e-331f-4354-992b-aa9854a00e7d\",\"type\":\"BoxZoomTool\"},{\"attributes\":{\"formatter\":{\"id\":\"5817d44f-7e16-4f4c-a91d-efd6b0794297\",\"type\":\"BasicTickFormatter\"},\"plot\":{\"id\":\"7e2a849f-c14f-4100-8abb-fc010d36c713\",\"subtype\":\"Figure\",\"type\":\"Plot\"},\"ticker\":{\"id\":\"d3d544fc-6f05-4e90-915e-070700e62048\",\"type\":\"BasicTicker\"}},\"id\":\"be57c781-ab47-4635-98bf-f5fb8dc0d1d1\",\"type\":\"LinearAxis\"},{\"attributes\":{\"plot\":{\"id\":\"7e2a849f-c14f-4100-8abb-fc010d36c713\",\"subtype\":\"Figure\",\"type\":\"Plot\"}},\"id\":\"8fc3ac83-c6a9-4580-990a-63c5303411a0\",\"type\":\"PanTool\"},{\"attributes\":{\"plot\":{\"id\":\"7e2a849f-c14f-4100-8abb-fc010d36c713\",\"subtype\":\"Figure\",\"type\":\"Plot\"}},\"id\":\"0677996f-cc1f-40bd-b113-73a95239c0c0\",\"type\":\"WheelZoomTool\"},{\"attributes\":{\"callback\":null},\"id\":\"8aa35312-0d93-459b-8860-d47b32ad370d\",\"type\":\"DataRange1d\"},{\"attributes\":{\"callback\":null,\"column_names\":[\"x\",\"y\"],\"data\":{\"x\":[0.0,0.2564102564102564,0.5128205128205128,0.7692307692307692,1.0256410256410255,1.282051282051282,1.5384615384615383,1.7948717948717947,2.051282051282051,2.3076923076923075,2.564102564102564,2.8205128205128203,3.0769230769230766,3.333333333333333,3.5897435897435894,3.846153846153846,4.102564102564102,4.358974358974359,4.615384615384615,4.871794871794871,5.128205128205128,5.384615384615384,5.6410256410256405,5.897435897435897,6.153846153846153,6.41025641025641,6.666666666666666,6.9230769230769225,7.179487179487179,7.435897435897435,7.692307692307692,7.948717948717948,8.205128205128204,8.46153846153846,8.717948717948717,8.974358974358974,9.23076923076923,9.487179487179485,9.743589743589743,10.0],\"y\":[0.0,0.2536098107120388,0.4906368888968562,0.6955827937480333,0.8550467695410398,0.9586019780913493,0.9994772762780824,0.9749999593864729,0.8867705207012954,0.7405580003816644,0.5459227664188024,0.31559139282070037,0.06462450973522608,-0.19056796287548497,-0.4332998072961856,-0.6476995663440228,-0.8197483270747024,-0.9381963725595829,-0.9952987648124987,-0.9873217614567807,-0.9147869531700341,-0.7824371585417896,-0.5989263063699549,-0.3762535829985603,-0.12897884398843226,0.12672940816349976,0.37415123057121913,0.597108503425932,0.7810227653882762,0.9138684524412279,0.9869592109709069,0.9955158705836028,0.938978938737267,0.8210451841652754,0.649425917019657,0.43534277102035157,0.1927939567993758,-0.062361036218439865,-0.31343844098828155,-0.5440211108893699]}},\"id\":\"0b78002b-60a5-4b7c-82e7-61cc70261e2c\",\"type\":\"ColumnDataSource\"},{\"attributes\":{\"plot\":{\"id\":\"7e2a849f-c14f-4100-8abb-fc010d36c713\",\"subtype\":\"Figure\",\"type\":\"Plot\"},\"ticker\":{\"id\":\"9bbbfaab-93c3-41dc-95b3-e0c039091d7d\",\"type\":\"BasicTicker\"}},\"id\":\"f2d279aa-6531-4953-9a5e-d371b7192eff\",\"type\":\"Grid\"},{\"attributes\":{},\"id\":\"5817d44f-7e16-4f4c-a91d-efd6b0794297\",\"type\":\"BasicTickFormatter\"},{\"attributes\":{\"line_color\":{\"value\":\"blue\"},\"x\":{\"field\":\"x\"},\"y\":{\"field\":\"y\"}},\"id\":\"0eace8dd-74d5-47fc-b718-466df25440ee\",\"type\":\"Line\"},{\"attributes\":{\"callback\":null},\"id\":\"4135d118-7c13-442d-a27e-924163975a1f\",\"type\":\"DataRange1d\"},{\"attributes\":{},\"id\":\"d3d544fc-6f05-4e90-915e-070700e62048\",\"type\":\"BasicTicker\"},{\"attributes\":{\"line_color\":{\"value\":\"green\"},\"x\":{\"field\":\"x\"},\"y\":{\"field\":\"y\"}},\"id\":\"7d2defca-39f3-4490-b18c-a1a4e60a97f6\",\"type\":\"Line\"},{\"attributes\":{\"below\":[{\"id\":\"b172223e-2dd6-4702-928e-8b73fe50c928\",\"type\":\"LinearAxis\"}],\"left\":[{\"id\":\"d34580a1-8ff1-4aac-a4b2-0ca71240753f\",\"type\":\"LinearAxis\"}],\"plot_height\":400,\"plot_width\":400,\"renderers\":[{\"id\":\"b172223e-2dd6-4702-928e-8b73fe50c928\",\"type\":\"LinearAxis\"},{\"id\":\"bf059fae-c050-448a-9cf8-89f64edf9eb7\",\"type\":\"Grid\"},{\"id\":\"d34580a1-8ff1-4aac-a4b2-0ca71240753f\",\"type\":\"LinearAxis\"},{\"id\":\"a28c19cc-0743-4f8c-a7f7-4169592e4b6f\",\"type\":\"Grid\"},{\"id\":\"08456f70-f7bc-4eaf-b43b-df75f92fe411\",\"type\":\"BoxAnnotation\"},{\"id\":\"6ac9dea2-5396-48d8-81d9-749ab1dd7a50\",\"type\":\"GlyphRenderer\"},{\"id\":\"94b760de-4692-437a-a25b-3ab795253648\",\"type\":\"Legend\"},{\"id\":\"bf20158a-8c6d-48bc-b3af-cf8776c8b32e\",\"type\":\"GlyphRenderer\"}],\"title\":{\"id\":\"bc9d4ef2-7f2b-43ba-b272-4b2e378151b8\",\"type\":\"Title\"},\"tool_events\":{\"id\":\"b96254a5-8657-41b0-9320-313e0af75c39\",\"type\":\"ToolEvents\"},\"toolbar\":{\"id\":\"ab2dfeb2-2691-47b3-ba42-e6c1d78ed260\",\"type\":\"Toolbar\"},\"x_range\":{\"id\":\"3aa95cda-cc34-4261-9c0c-5ef892f13a2a\",\"type\":\"DataRange1d\"},\"y_range\":{\"id\":\"4135d118-7c13-442d-a27e-924163975a1f\",\"type\":\"DataRange1d\"}},\"id\":\"b54f213a-3cad-4fd3-b663-844fcef2d6bb\",\"subtype\":\"Figure\",\"type\":\"Plot\"},{\"attributes\":{\"overlay\":{\"id\":\"08456f70-f7bc-4eaf-b43b-df75f92fe411\",\"type\":\"BoxAnnotation\"},\"plot\":{\"id\":\"b54f213a-3cad-4fd3-b663-844fcef2d6bb\",\"subtype\":\"Figure\",\"type\":\"Plot\"}},\"id\":\"267dbdf1-c554-470d-bd9a-e8f368d31bbf\",\"type\":\"BoxZoomTool\"},{\"attributes\":{\"bottom_units\":\"screen\",\"fill_alpha\":{\"value\":0.5},\"fill_color\":{\"value\":\"lightgrey\"},\"left_units\":\"screen\",\"level\":\"overlay\",\"line_alpha\":{\"value\":1.0},\"line_color\":{\"value\":\"black\"},\"line_dash\":[4,4],\"line_width\":{\"value\":2},\"plot\":null,\"render_mode\":\"css\",\"right_units\":\"screen\",\"top_units\":\"screen\"},\"id\":\"f16dc9c4-9b22-4188-a472-b5e06c4b5e50\",\"type\":\"BoxAnnotation\"},{\"attributes\":{\"formatter\":{\"id\":\"a2a56454-a7d5-44bb-a14c-da81c16fc954\",\"type\":\"BasicTickFormatter\"},\"plot\":{\"id\":\"7e2a849f-c14f-4100-8abb-fc010d36c713\",\"subtype\":\"Figure\",\"type\":\"Plot\"},\"ticker\":{\"id\":\"9bbbfaab-93c3-41dc-95b3-e0c039091d7d\",\"type\":\"BasicTicker\"}},\"id\":\"71012544-06f4-4168-b038-e7efc7296303\",\"type\":\"LinearAxis\"},{\"attributes\":{},\"id\":\"a2a56454-a7d5-44bb-a14c-da81c16fc954\",\"type\":\"BasicTickFormatter\"},{\"attributes\":{\"legends\":[[\"Linear regression\",[{\"id\":\"bf20158a-8c6d-48bc-b3af-cf8776c8b32e\",\"type\":\"GlyphRenderer\"}]]],\"plot\":{\"id\":\"b54f213a-3cad-4fd3-b663-844fcef2d6bb\",\"subtype\":\"Figure\",\"type\":\"Plot\"}},\"id\":\"94b760de-4692-437a-a25b-3ab795253648\",\"type\":\"Legend\"},{\"attributes\":{\"callback\":null,\"column_names\":[\"x\",\"y\"],\"data\":{\"x\":[0.0,0.8975979010256552,1.7951958020513104,2.6927937030769655,3.5903916041026207,4.487989505128276,5.385587406153931,6.283185307179586],\"y\":[0.0,0.6219744464993201,0.8078771641894983,0.3622273696693019,-0.3306679387235961,-0.8577252160639101,-0.6242158768597597,-0.02246668695207088]}},\"id\":\"3ca72f43-0f03-4de9-ba05-a2ebcaee2f1c\",\"type\":\"ColumnDataSource\"},{\"attributes\":{\"plot\":{\"id\":\"b54f213a-3cad-4fd3-b663-844fcef2d6bb\",\"subtype\":\"Figure\",\"type\":\"Plot\"}},\"id\":\"5bb0d920-eb71-4e3c-8f6e-a7ee985ce16f\",\"type\":\"WheelZoomTool\"},{\"attributes\":{},\"id\":\"70ed63c5-325a-4cdb-8264-7082f76b754e\",\"type\":\"BasicTicker\"},{\"attributes\":{\"active_drag\":\"auto\",\"active_scroll\":\"auto\",\"active_tap\":\"auto\",\"tools\":[{\"id\":\"8fc3ac83-c6a9-4580-990a-63c5303411a0\",\"type\":\"PanTool\"},{\"id\":\"0677996f-cc1f-40bd-b113-73a95239c0c0\",\"type\":\"WheelZoomTool\"},{\"id\":\"0eee5c4e-331f-4354-992b-aa9854a00e7d\",\"type\":\"BoxZoomTool\"},{\"id\":\"6c42e1ca-ff63-416c-9fdc-06ccf6423543\",\"type\":\"SaveTool\"},{\"id\":\"4c56be5a-5199-4e5a-b08e-18514f21bc70\",\"type\":\"ResetTool\"},{\"id\":\"8a18f93b-e618-4eec-a69f-df4e0de48e95\",\"type\":\"HelpTool\"}]},\"id\":\"065fe341-2ffb-46a6-8851-42e8549ae977\",\"type\":\"Toolbar\"},{\"attributes\":{\"below\":[{\"id\":\"71012544-06f4-4168-b038-e7efc7296303\",\"type\":\"LinearAxis\"}],\"left\":[{\"id\":\"be57c781-ab47-4635-98bf-f5fb8dc0d1d1\",\"type\":\"LinearAxis\"}],\"plot_height\":400,\"plot_width\":400,\"renderers\":[{\"id\":\"71012544-06f4-4168-b038-e7efc7296303\",\"type\":\"LinearAxis\"},{\"id\":\"f2d279aa-6531-4953-9a5e-d371b7192eff\",\"type\":\"Grid\"},{\"id\":\"be57c781-ab47-4635-98bf-f5fb8dc0d1d1\",\"type\":\"LinearAxis\"},{\"id\":\"5843e408-4775-46ff-87e8-f64255bdbb83\",\"type\":\"Grid\"},{\"id\":\"f16dc9c4-9b22-4188-a472-b5e06c4b5e50\",\"type\":\"BoxAnnotation\"},{\"id\":\"7689af70-f6bd-4fb8-8038-176787d81d28\",\"type\":\"GlyphRenderer\"}],\"title\":{\"id\":\"b847a857-b814-484f-8845-6a855ee18885\",\"type\":\"Title\"},\"tool_events\":{\"id\":\"75ceb75f-e24f-4a7e-b515-f66babf041f5\",\"type\":\"ToolEvents\"},\"toolbar\":{\"id\":\"065fe341-2ffb-46a6-8851-42e8549ae977\",\"type\":\"Toolbar\"},\"x_range\":{\"id\":\"2f741a1b-98b2-4588-ac90-3288ec04d87a\",\"type\":\"DataRange1d\"},\"y_range\":{\"id\":\"8aa35312-0d93-459b-8860-d47b32ad370d\",\"type\":\"DataRange1d\"}},\"id\":\"7e2a849f-c14f-4100-8abb-fc010d36c713\",\"subtype\":\"Figure\",\"type\":\"Plot\"},{\"attributes\":{\"plot\":{\"id\":\"7e2a849f-c14f-4100-8abb-fc010d36c713\",\"subtype\":\"Figure\",\"type\":\"Plot\"}},\"id\":\"6c42e1ca-ff63-416c-9fdc-06ccf6423543\",\"type\":\"SaveTool\"},{\"attributes\":{\"callback\":null,\"column_names\":[\"x\",\"y\"],\"data\":{\"x\":[0.0,0.8975979010256552,1.7951958020513104,2.6927937030769655,3.5903916041026207,4.487989505128276,5.385587406153931,6.283185307179586],\"y\":[0.0,0.6219744464993201,0.8078771641894983,0.3622273696693019,-0.3306679387235961,-0.8577252160639101,-0.6242158768597597,-0.02246668695207088]}},\"id\":\"4ed72357-ba55-4977-aa58-1815eac6106b\",\"type\":\"ColumnDataSource\"},{\"attributes\":{\"plot\":{\"id\":\"7e2a849f-c14f-4100-8abb-fc010d36c713\",\"subtype\":\"Figure\",\"type\":\"Plot\"}},\"id\":\"8a18f93b-e618-4eec-a69f-df4e0de48e95\",\"type\":\"HelpTool\"}],\"root_ids\":[\"50370963-9100-48b2-a75c-fa36d12dbc22\"]},\"title\":\"Bokeh Application\",\"version\":\"0.12.2\"}};\n",
       "            var render_items = [{\"docid\":\"5262d695-7c4b-4898-a348-f02c7ad4ce95\",\"elementid\":\"a83873b2-029a-4e4e-9565-a15fd68260f8\",\"modelid\":\"50370963-9100-48b2-a75c-fa36d12dbc22\",\"notebook_comms_target\":\"c8593955-0e6a-4805-8a9d-8eca8278cf50\"}];\n",
       "            \n",
       "            Bokeh.embed.embed_items(docs_json, render_items);\n",
       "        });\n",
       "      },\n",
       "      function(Bokeh) {\n",
       "      }\n",
       "    ];\n",
       "  \n",
       "    function run_inline_js() {\n",
       "      \n",
       "      if ((window.Bokeh !== undefined) || (force === \"1\")) {\n",
       "        for (var i = 0; i < inline_js.length; i++) {\n",
       "          inline_js[i](window.Bokeh);\n",
       "        }if (force === \"1\") {\n",
       "          display_loaded();\n",
       "        }} else if (Date.now() < window._bokeh_timeout) {\n",
       "        setTimeout(run_inline_js, 100);\n",
       "      } else if (!window._bokeh_failed_load) {\n",
       "        console.log(\"Bokeh: BokehJS failed to load within specified timeout.\");\n",
       "        window._bokeh_failed_load = true;\n",
       "      } else if (!force) {\n",
       "        var cell = $(\"#a83873b2-029a-4e4e-9565-a15fd68260f8\").parents('.cell').data().cell;\n",
       "        cell.output_area.append_execute_result(NB_LOAD_WARNING)\n",
       "      }\n",
       "  \n",
       "    }\n",
       "  \n",
       "    if (window._bokeh_is_loading === 0) {\n",
       "      console.log(\"Bokeh: BokehJS loaded, going straight to plotting\");\n",
       "      run_inline_js();\n",
       "    } else {\n",
       "      load_libs(js_urls, function() {\n",
       "        console.log(\"Bokeh: BokehJS plotting callback run at\", now());\n",
       "        run_inline_js();\n",
       "      });\n",
       "    }\n",
       "  }(this));\n",
       "</script>"
      ]
     },
     "metadata": {},
     "output_type": "display_data"
    },
    {
     "data": {
      "text/plain": [
       "<function __main__.interpolation>"
      ]
     },
     "execution_count": 5,
     "metadata": {},
     "output_type": "execute_result"
    }
   ],
   "source": [
    "interact(interpolation, n_samples = (2, 15, 1))"
   ]
  },
  {
   "cell_type": "markdown",
   "metadata": {},
   "source": [
    "You can notice that the more we have n_samples, the more our approximated function is accurate. "
   ]
  },
  {
   "cell_type": "code",
   "execution_count": null,
   "metadata": {
    "collapsed": true
   },
   "outputs": [],
   "source": []
  }
 ],
 "metadata": {
  "anaconda-cloud": {},
  "kernelspec": {
   "display_name": "Python [default]",
   "language": "python",
   "name": "python3"
  },
  "language_info": {
   "codemirror_mode": {
    "name": "ipython",
    "version": 3
   },
   "file_extension": ".py",
   "mimetype": "text/x-python",
   "name": "python",
   "nbconvert_exporter": "python",
   "pygments_lexer": "ipython3",
   "version": "3.5.2"
  },
  "widgets": {
   "state": {
    "766326631ca340dca9f5d7f9586169fc": {
     "views": [
      {
       "cell_index": 8
      }
     ]
    },
    "ab828df5e55343c2a998c5c9b34594ec": {
     "views": [
      {
       "cell_index": 16
      }
     ]
    }
   },
   "version": "1.2.0"
  }
 },
 "nbformat": 4,
 "nbformat_minor": 2
}
