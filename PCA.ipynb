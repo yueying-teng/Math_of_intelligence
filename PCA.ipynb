{
 "cells": [
  {
   "cell_type": "markdown",
   "metadata": {},
   "source": [
    "\n",
    "http://people.duke.edu/~ccc14/sta-663-2017/13A_LinearAlgebra1.html\n",
    "\n",
    "https://en.wikipedia.org/wiki/Matrix_decomposition\n",
    "\n",
    "https://lazyprogrammer.me/tutorial-principal-components-analysis-pca/\n",
    "\n"
   ]
  },
  {
   "cell_type": "code",
   "execution_count": 59,
   "metadata": {
    "collapsed": true
   },
   "outputs": [],
   "source": [
    "import numpy as np\n",
    "import pandas as pd\n",
    "from sklearn.decomposition import PCA\n",
    "import seaborn as sns \n",
    "import math\n",
    "\n",
    "import matplotlib.pyplot as plt\n",
    "% matplotlib inline \n"
   ]
  },
  {
   "cell_type": "code",
   "execution_count": 52,
   "metadata": {},
   "outputs": [
    {
     "name": "stderr",
     "output_type": "stream",
     "text": [
      "C:\\Users\\1098071\\AppData\\Local\\Continuum\\Anaconda3\\lib\\site-packages\\ipykernel_launcher.py:7: SettingWithCopyWarning: \n",
      "A value is trying to be set on a copy of a slice from a DataFrame\n",
      "\n",
      "See the caveats in the documentation: http://pandas.pydata.org/pandas-docs/stable/indexing.html#indexing-view-versus-copy\n",
      "  import sys\n"
     ]
    },
    {
     "data": {
      "text/html": [
       "<div>\n",
       "<style>\n",
       "    .dataframe thead tr:only-child th {\n",
       "        text-align: right;\n",
       "    }\n",
       "\n",
       "    .dataframe thead th {\n",
       "        text-align: left;\n",
       "    }\n",
       "\n",
       "    .dataframe tbody tr th {\n",
       "        vertical-align: top;\n",
       "    }\n",
       "</style>\n",
       "<table border=\"1\" class=\"dataframe\">\n",
       "  <thead>\n",
       "    <tr style=\"text-align: right;\">\n",
       "      <th></th>\n",
       "      <th>sepal_len</th>\n",
       "      <th>sepal_wid</th>\n",
       "      <th>petal_len</th>\n",
       "      <th>petal_wid</th>\n",
       "      <th>class</th>\n",
       "    </tr>\n",
       "  </thead>\n",
       "  <tbody>\n",
       "    <tr>\n",
       "      <th>145</th>\n",
       "      <td>6.7</td>\n",
       "      <td>3.0</td>\n",
       "      <td>5.2</td>\n",
       "      <td>2.3</td>\n",
       "      <td>Iris-virginica</td>\n",
       "    </tr>\n",
       "    <tr>\n",
       "      <th>146</th>\n",
       "      <td>6.3</td>\n",
       "      <td>2.5</td>\n",
       "      <td>5.0</td>\n",
       "      <td>1.9</td>\n",
       "      <td>Iris-virginica</td>\n",
       "    </tr>\n",
       "    <tr>\n",
       "      <th>147</th>\n",
       "      <td>6.5</td>\n",
       "      <td>3.0</td>\n",
       "      <td>5.2</td>\n",
       "      <td>2.0</td>\n",
       "      <td>Iris-virginica</td>\n",
       "    </tr>\n",
       "    <tr>\n",
       "      <th>148</th>\n",
       "      <td>6.2</td>\n",
       "      <td>3.4</td>\n",
       "      <td>5.4</td>\n",
       "      <td>2.3</td>\n",
       "      <td>Iris-virginica</td>\n",
       "    </tr>\n",
       "    <tr>\n",
       "      <th>149</th>\n",
       "      <td>5.9</td>\n",
       "      <td>3.0</td>\n",
       "      <td>5.1</td>\n",
       "      <td>1.8</td>\n",
       "      <td>Iris-virginica</td>\n",
       "    </tr>\n",
       "  </tbody>\n",
       "</table>\n",
       "</div>"
      ],
      "text/plain": [
       "     sepal_len  sepal_wid  petal_len  petal_wid           class\n",
       "145        6.7        3.0        5.2        2.3  Iris-virginica\n",
       "146        6.3        2.5        5.0        1.9  Iris-virginica\n",
       "147        6.5        3.0        5.2        2.0  Iris-virginica\n",
       "148        6.2        3.4        5.4        2.3  Iris-virginica\n",
       "149        5.9        3.0        5.1        1.8  Iris-virginica"
      ]
     },
     "execution_count": 52,
     "metadata": {},
     "output_type": "execute_result"
    }
   ],
   "source": [
    "# load iris data\n",
    "d = pd.read_csv('iris.csv')\n",
    "# remove index column\n",
    "df = d[d.columns[1:]]\n",
    "df.columns=['sepal_len', 'sepal_wid', 'petal_len', 'petal_wid', 'class']\n",
    "# drop nan\n",
    "df.dropna(how = 'all', inplace = True)\n",
    "\n",
    "df.tail()"
   ]
  },
  {
   "cell_type": "code",
   "execution_count": 66,
   "metadata": {},
   "outputs": [],
   "source": [
    "X = df.iloc[:, :-1].values\n",
    "y = df.iloc[:,-1].values"
   ]
  },
  {
   "cell_type": "markdown",
   "metadata": {},
   "source": [
    "### EDA"
   ]
  },
  {
   "cell_type": "code",
   "execution_count": 79,
   "metadata": {},
   "outputs": [
    {
     "data": {
      "text/plain": [
       "<matplotlib.legend.Legend at 0xe8e4c88>"
      ]
     },
     "execution_count": 79,
     "metadata": {},
     "output_type": "execute_result"
    },
    {
     "data": {
      "image/png": "[encoded data removed]",
      "text/plain": [
       "<matplotlib.figure.Figure at 0xe819da0>"
      ]
     },
     "metadata": {},
     "output_type": "display_data"
    }
   ],
   "source": [
    "feature_dict = {0: 'sepal length [cm]', 1: 'sepal width [cm]', 2: 'petal length [cm]', 3: 'petal width [cm]'}\n",
    "\n",
    "plt.figure(figsize = (9, 8)) \n",
    "for cnt in range(4):\n",
    "    plt.subplot(2, 2, cnt + 1)\n",
    "    for lab in ('Iris-setosa', 'Iris-versicolor', 'Iris-virginica'):\n",
    "        plt.hist(X[y == lab, cnt], label = lab, bins = 10, alpha = 0.4)\n",
    "    plt.xlabel(feature_dict[cnt])\n",
    "plt.legend(loc = 'upper right', fancybox = True, fontsize = 8)"
   ]
  },
  {
   "cell_type": "code",
   "execution_count": 83,
   "metadata": {},
   "outputs": [
    {
     "data": {
      "text/plain": [
       "array([ 5.1,  4.9,  4.7,  4.6,  5. ,  5.4,  4.6,  5. ,  4.4,  4.9,  5.4,\n",
       "        4.8,  4.8,  4.3,  5.8,  5.7,  5.4,  5.1,  5.7,  5.1,  5.4,  5.1,\n",
       "        4.6,  5.1,  4.8,  5. ,  5. ,  5.2,  5.2,  4.7,  4.8,  5.4,  5.2,\n",
       "        5.5,  4.9,  5. ,  5.5,  4.9,  4.4,  5.1,  5. ,  4.5,  4.4,  5. ,\n",
       "        5.1,  4.8,  5.1,  4.6,  5.3,  5. ])"
      ]
     },
     "execution_count": 83,
     "metadata": {},
     "output_type": "execute_result"
    }
   ],
   "source": [
    "# X[:, 0][y == 'Iris-setosa']\n",
    "# X[y == 'Iris-setosa', 0]"
   ]
  },
  {
   "cell_type": "markdown",
   "metadata": {},
   "source": [
    "### Standardizing "
   ]
  },
  {
   "cell_type": "code",
   "execution_count": 96,
   "metadata": {},
   "outputs": [],
   "source": [
    "# transform the data onto unit scale(mean = 0, variance = 1)\n",
    "from sklearn.preprocessing import StandardScaler \n",
    "X_std = StandardScaler().fit_transform(X)"
   ]
  },
  {
   "cell_type": "markdown",
   "metadata": {},
   "source": [
    "### Eigendecomposition"
   ]
  },
  {
   "cell_type": "code",
   "execution_count": 101,
   "metadata": {},
   "outputs": [
    {
     "name": "stdout",
     "output_type": "stream",
     "text": [
      "[[ 1.00671141 -0.11010327  0.87760486  0.82344326]\n",
      " [-0.11010327  1.00671141 -0.42333835 -0.358937  ]\n",
      " [ 0.87760486 -0.42333835  1.00671141  0.96921855]\n",
      " [ 0.82344326 -0.358937    0.96921855  1.00671141]]\n"
     ]
    }
   ],
   "source": [
    "# eigen pairs of hte covarince matrix\n",
    "# eigenvalues explain the variance of the data along the new feature axes.\n",
    "\n",
    "mean_vec = np.mean(X_std, axis = 0)\n",
    "cov_mat = (X_std - mean_vec).T.dot(X_std - mean_vec)/ (X_std.shape[0] - 1)\n",
    "\n",
    "print(cov_mat)"
   ]
  },
  {
   "cell_type": "code",
   "execution_count": 106,
   "metadata": {},
   "outputs": [
    {
     "name": "stdout",
     "output_type": "stream",
     "text": [
      "Eigen values \n",
      "[ 2.93035378  0.92740362  0.14834223  0.02074601]\n",
      "Eigen vectors \n",
      "[[ 0.52237162 -0.37231836 -0.72101681  0.26199559]\n",
      " [-0.26335492 -0.92555649  0.24203288 -0.12413481]\n",
      " [ 0.58125401 -0.02109478  0.14089226 -0.80115427]\n",
      " [ 0.56561105 -0.06541577  0.6338014   0.52354627]]\n"
     ]
    }
   ],
   "source": [
    "# eigen decomposition on covariance matrix\n",
    "\n",
    "eig_vals, eig_vecs = np.linalg.eig(cov_mat)\n",
    "\n",
    "print ('Eigen values \\n%s' %eig_vals)\n",
    "print ('Eigen vectors \\n%s' %eig_vec)"
   ]
  },
  {
   "cell_type": "code",
   "execution_count": null,
   "metadata": {
    "collapsed": true
   },
   "outputs": [],
   "source": []
  },
  {
   "cell_type": "markdown",
   "metadata": {},
   "source": [
    "While the eigendecomposition of the covariance or correlation matrix may be more intuitiuve, most PCA implementations perform a Singular Vector Decomposition (SVD) to improve the computational efficiency."
   ]
  },
  {
   "cell_type": "code",
   "execution_count": 105,
   "metadata": {},
   "outputs": [
    {
     "name": "stdout",
     "output_type": "stream",
     "text": [
      "Vectors \n",
      "[[-0.52237162 -0.37231836  0.72101681  0.26199559]\n",
      " [ 0.26335492 -0.92555649 -0.24203288 -0.12413481]\n",
      " [-0.58125401 -0.02109478 -0.14089226 -0.80115427]\n",
      " [-0.56561105 -0.06541577 -0.6338014   0.52354627]]\n"
     ]
    }
   ],
   "source": [
    "u, s, v = np.linalg.svd(X_std.T)\n",
    "print ('Vectors \\n%s' %u)"
   ]
  },
  {
   "cell_type": "markdown",
   "metadata": {},
   "source": [
    "### Selecting Principal Components "
   ]
  },
  {
   "cell_type": "code",
   "execution_count": 123,
   "metadata": {},
   "outputs": [
    {
     "name": "stdout",
     "output_type": "stream",
     "text": [
      "2.93035377559\n",
      "0.927403621517\n",
      "0.148342226482\n",
      "0.0207460139956\n"
     ]
    }
   ],
   "source": [
    "# sort the eigen pairs \n",
    "# eigen vecotr only defines the direction of the new axis. they have the same unit length of 1.\n",
    "# rank eigenvalues form top to bottom and select the top K (K < d) with the corresponding eigen vectors for the new axis \n",
    "\n",
    "# list of eigenpair tuples \n",
    "# according to the documentation - the column ``v[:,i]`` is the eigenvector corresponding to the eigenvalue ``w[i]``.\n",
    "eig_pairs = [(np.abs(eig_vals[i]), eig_vecs[:, i]) for i in range(len(eig_vals))]\n",
    "\n",
    "# sort the eign pairs list of tuples from high to low \n",
    "eig_pairs.sort(key = lambda x: x[0], reverse = True)\n",
    "\n",
    "# confirm that the list is sorted correctly \n",
    "for i in eig_pairs:\n",
    "    print (i[0])"
   ]
  },
  {
   "cell_type": "markdown",
   "metadata": {},
   "source": [
    "### Explained variance "
   ]
  },
  {
   "cell_type": "markdown",
   "metadata": {},
   "source": [
    "The explained variance tells how much information(variance) can be attributed to each of the principal components."
   ]
  },
  {
   "cell_type": "code",
   "execution_count": 125,
   "metadata": {},
   "outputs": [],
   "source": [
    "# calculate explained varince using eigen values, as stated in the attribute of Trace(Matrix)\n",
    "\n",
    "tot = sum(eig_vals)\n",
    "var_exp = [(i/ tot * 100) for i in sorted(eig_vals, reverse = True)]\n",
    "cum_var_exp = np.cumsum(var_exp)"
   ]
  },
  {
   "cell_type": "code",
   "execution_count": 126,
   "metadata": {},
   "outputs": [
    {
     "data": {
      "image/png": "[encoded data removed]",
      "text/plain": [
       "<matplotlib.figure.Figure at 0xeb32b38>"
      ]
     },
     "metadata": {},
     "output_type": "display_data"
    }
   ],
   "source": [
    "plt.figure(figsize = (6, 4))\n",
    "\n",
    "plt.bar(range(4), var_exp, alpha = 0.5, align = 'center', label = 'varince explained individually')\n",
    "plt.step(range(4), cum_var_exp, where = 'mid', label = 'varince explained cumulatively')\n",
    "\n",
    "plt.ylabel('Explained variance ratio')\n",
    "plt.xlabel('Principal components')\n",
    "plt.legend(loc = 'best')\n",
    "plt.tight_layout()"
   ]
  },
  {
   "cell_type": "markdown",
   "metadata": {},
   "source": [
    "The plot above clearly shows that most of the variance (72.77% of the variance to be precise) can be explained by the first principal component alone. The second principal component still bears some information (23.03%) while the third and fourth principal components can safely be dropped without losing to much information. Together, the first two principal components contain 95.8% of the information."
   ]
  },
  {
   "cell_type": "markdown",
   "metadata": {},
   "source": [
    "### Projection Matrix"
   ]
  },
  {
   "cell_type": "markdown",
   "metadata": {},
   "source": [
    "Construct the projection matrix that will be used to transform the Iris data onto the new feature subspace, which is a matrix of the top k concatenated eigenvectors.\n",
    "\n",
    "We are reducing the number of eigen vectors from 4 to 2 here by choosing the top 2 eigen vectors with the highest eigen values. The projection matrix will have the shape of d x k, where k is the number of chosen eigen vectors, d is the number of dimensions in the original dataset. Each column is a principal component in the projection matrix. "
   ]
  },
  {
   "cell_type": "code",
   "execution_count": 133,
   "metadata": {},
   "outputs": [
    {
     "name": "stdout",
     "output_type": "stream",
     "text": [
      "[[ 0.52237162 -0.37231836]\n",
      " [-0.26335492 -0.92555649]\n",
      " [ 0.58125401 -0.02109478]\n",
      " [ 0.56561105 -0.06541577]]\n"
     ]
    }
   ],
   "source": [
    "# Stack the arrays horizontally(column wise) \n",
    "# the goal is to contruct a 2d matrix from the first two eigen vectors- reshape the np arrays\n",
    "\n",
    "matrix_w = np.hstack((eig_pairs[0][1].reshape(4, 1), eig_pairs[1][1].reshape(4, 1)))\n",
    "print (matrix_w)"
   ]
  },
  {
   "cell_type": "markdown",
   "metadata": {},
   "source": [
    "### Data projection onto new feature space "
   ]
  },
  {
   "cell_type": "markdown",
   "metadata": {},
   "source": [
    "Transform data from the original feature space to the new subsapce by using Y = X x W, where Y is  150 x 2 matrix of the tranformed data.\n",
    "\n",
    "http://www4.ncsu.edu/~slrace/LinearAlgebra2017/Slides/PCAPrint.pdf"
   ]
  },
  {
   "cell_type": "code",
   "execution_count": 134,
   "metadata": {
    "collapsed": true
   },
   "outputs": [],
   "source": [
    "Y = X_std.dot(matrix_w)"
   ]
  },
  {
   "cell_type": "code",
   "execution_count": 142,
   "metadata": {},
   "outputs": [
    {
     "data": {
      "image/png": "[encoded data removed]",
      "text/plain": [
       "<matplotlib.figure.Figure at 0xec69f28>"
      ]
     },
     "metadata": {},
     "output_type": "display_data"
    }
   ],
   "source": [
    "plt.figure(figsize = (6, 4))\n",
    "\n",
    "# zip method returns a tuple\n",
    "for lab, col in zip(('Iris-setosa', 'Iris-versicolor', 'Iris-virginica'), ('blue', 'red', 'green')):\n",
    "    plt.scatter(Y[y == lab, 0], Y[y == lab, 1], label = lab, c = col, alpha = 0.7)\n",
    "    \n",
    "plt.xlabel('Principal Component 1')\n",
    "plt.ylabel('Principal Component 2')\n",
    "plt.legend(loc = 'lower center')\n",
    "plt.tight_layout()"
   ]
  },
  {
   "cell_type": "code",
   "execution_count": null,
   "metadata": {},
   "outputs": [],
   "source": []
  },
  {
   "cell_type": "code",
   "execution_count": 143,
   "metadata": {
    "collapsed": true
   },
   "outputs": [],
   "source": [
    "# built in PCA\n",
    "\n",
    "from sklearn.decomposition import PCA as sklearnpca\n",
    "sklearn_pca = sklearnpca(n_components = 2)\n",
    "y_sklearn = sklearn_pca.fit_transform(X_std)"
   ]
  },
  {
   "cell_type": "code",
   "execution_count": 150,
   "metadata": {},
   "outputs": [
    {
     "data": {
      "image/png": "[encoded data removed]",
      "text/plain": [
       "<matplotlib.figure.Figure at 0xff5e1d0>"
      ]
     },
     "metadata": {},
     "output_type": "display_data"
    }
   ],
   "source": [
    "plt.figure(figsize = (6, 4))\n",
    "\n",
    "for lab, col in zip(('Iris-setosa', 'Iris-versicolor', 'Iris-virginica'), ('blue', 'red', 'green')):\n",
    "    plt.scatter(y_sklearn[y == lab, 0], y_sklearn[y == lab, 1], label = lab, c = col, alpha = 0.7)\n",
    "    \n",
    "plt.xlabel('Principal Component 1')\n",
    "plt.ylabel('Principal Component 2')\n",
    "plt.legend(loc='lower center')\n",
    "plt.tight_layout()"
   ]
  },
  {
   "cell_type": "code",
   "execution_count": null,
   "metadata": {},
   "outputs": [],
   "source": []
  },
  {
   "cell_type": "code",
   "execution_count": 145,
   "metadata": {
    "scrolled": true
   },
   "outputs": [
    {
     "name": "stdout",
     "output_type": "stream",
     "text": [
      "Help on method fit in module sklearn.decomposition.pca:\n",
      "\n",
      "fit(X, y=None) method of sklearn.decomposition.pca.PCA instance\n",
      "    Fit the model with X.\n",
      "    \n",
      "    Parameters\n",
      "    ----------\n",
      "    X: array-like, shape (n_samples, n_features)\n",
      "        Training data, where n_samples in the number of samples\n",
      "        and n_features is the number of features.\n",
      "    \n",
      "    Returns\n",
      "    -------\n",
      "    self : object\n",
      "        Returns the instance itself.\n",
      "\n"
     ]
    }
   ],
   "source": [
    "help(sklearn_pca.fit)"
   ]
  },
  {
   "cell_type": "code",
   "execution_count": 146,
   "metadata": {},
   "outputs": [
    {
     "name": "stdout",
     "output_type": "stream",
     "text": [
      "Help on method transform in module sklearn.decomposition.base:\n",
      "\n",
      "transform(X, y=None) method of sklearn.decomposition.pca.PCA instance\n",
      "    Apply dimensionality reduction to X.\n",
      "    \n",
      "    X is projected on the first principal components previously extracted\n",
      "    from a training set.\n",
      "    \n",
      "    Parameters\n",
      "    ----------\n",
      "    X : array-like, shape (n_samples, n_features)\n",
      "        New data, where n_samples is the number of samples\n",
      "        and n_features is the number of features.\n",
      "    \n",
      "    Returns\n",
      "    -------\n",
      "    X_new : array-like, shape (n_samples, n_components)\n",
      "    \n",
      "    Examples\n",
      "    --------\n",
      "    \n",
      "    >>> import numpy as np\n",
      "    >>> from sklearn.decomposition import IncrementalPCA\n",
      "    >>> X = np.array([[-1, -1], [-2, -1], [-3, -2], [1, 1], [2, 1], [3, 2]])\n",
      "    >>> ipca = IncrementalPCA(n_components=2, batch_size=3)\n",
      "    >>> ipca.fit(X)\n",
      "    IncrementalPCA(batch_size=3, copy=True, n_components=2, whiten=False)\n",
      "    >>> ipca.transform(X) # doctest: +SKIP\n",
      "\n"
     ]
    }
   ],
   "source": [
    "help(sklearn_pca.transform)"
   ]
  },
  {
   "cell_type": "code",
   "execution_count": 147,
   "metadata": {},
   "outputs": [
    {
     "name": "stdout",
     "output_type": "stream",
     "text": [
      "Help on method fit_transform in module sklearn.decomposition.pca:\n",
      "\n",
      "fit_transform(X, y=None) method of sklearn.decomposition.pca.PCA instance\n",
      "    Fit the model with X and apply the dimensionality reduction on X.\n",
      "    \n",
      "    Parameters\n",
      "    ----------\n",
      "    X : array-like, shape (n_samples, n_features)\n",
      "        Training data, where n_samples is the number of samples\n",
      "        and n_features is the number of features.\n",
      "    \n",
      "    Returns\n",
      "    -------\n",
      "    X_new : array-like, shape (n_samples, n_components)\n",
      "\n"
     ]
    }
   ],
   "source": [
    "help(sklearn_pca.fit_transform)"
   ]
  },
  {
   "cell_type": "code",
   "execution_count": null,
   "metadata": {
    "collapsed": true
   },
   "outputs": [],
   "source": []
  },
  {
   "cell_type": "code",
   "execution_count": null,
   "metadata": {
    "collapsed": true
   },
   "outputs": [],
   "source": []
  },
  {
   "cell_type": "code",
   "execution_count": null,
   "metadata": {
    "collapsed": true
   },
   "outputs": [],
   "source": []
  },
  {
   "cell_type": "markdown",
   "metadata": {},
   "source": [
    "**Consider the following points when choosing the method of matrix decomposition:**\n",
    "\n",
    "- all of them approximate the matrix in some way.\n",
    "- some may make the problem easier to solve.\n",
    "- the algorithm.\n",
    "  - Is there an efficient way to find the decomposition? (especially for large matrices. for example SVD is computed more efficiently for large matrices than eigen-decomposition.)\n",
    "  - Can we obtain it with an online algorithm? (updating factorization when new data samples comes in without recomputing all the steps)\n",
    "  \n",
    "**Some points on the reason of matrix decompostion.**\n",
    "\n",
    "How do you actually solve a large system of linear equations on a computer and how do you actually diagonalize a large matrix (that theory tells you is diagonalizable) on a computer. These are very difficult problems since there is a huge gap between the theoretical results and actual computations. That gap is caused of course by rounding errors on a computer. Loads of books are written on the subject as, needless to say, it's of immense importance. Many factorizations of matrices (e.g., LU and QR) are meant to address such issues. To make computations more robust and more efficient.\n",
    "\n",
    "...\n"
   ]
  },
  {
   "cell_type": "markdown",
   "metadata": {},
   "source": [
    "### PCA\n",
    "\n",
    "PCA finds a matrix Q that, when multiplied by the original data matrix X, returns a linearly transformed data matrix Z, where:\n",
    "\n",
    "#### Z = XQ\n",
    "\n",
    "The interesting thing about PCA is how it chooses Q.\n",
    "\n",
    "PCA reduces dimensionality by moving as much “information” as possible into as few dimensions as possible. The information here is measured by unpredictability, i.e. variance. The end result is that the transformed matrix Z has most of its variance in the first column, less variance in the second column, even less variance in the third column, etc.\n",
    "\n",
    "### Eigenvalues & Eigenvectors\n",
    "\n",
    "when multiply a vector by a matrix, the direction of the vector is changed.\n",
    "\n",
    "Eigenvalues λ and eigenvectors v have the property that, if multiplied by a matrix, say A, is the same as multiplying the eigenvector by a constant – the eigenvalue, i.e. the eigenvector does not change direction, it only gets shorter or longer by a factor of λ. In other words:\n",
    "\n",
    "#### Av = λv\n",
    "\n",
    "where A is the matrix, v is the eigenvector and λ the eigenvalue.\n",
    "\n",
    "In the case of PCA, all the eigenvectors from the empirical covariance matrix are lined upsuch that the corresponding λ, eigenvallues, are in descending order. In matrix form, the above can be expressed by:\n",
    "\n",
    "#### AV = VΛ\n",
    "\n",
    "where V is the matrix with eigenvectors as columns, which is orthonormal, and Λ is a diagonal matrix of eigenvalues.\n"
   ]
  },
  {
   "cell_type": "markdown",
   "metadata": {},
   "source": [
    "### SVD, Matrix Diagonalization in finding the eigenpairs\n",
    "\n",
    "The method from textbook – solving a polynomial to get the eigenvalues, plugging the eigenvalues into the eigenvalue equation to get the eigenvectors, etc. doesn’t really translate to computer code.\n",
    "\n",
    "#### SVD\n",
    "\n",
    "- Square the diagonal matrix S, and divide by sum(S) to obtain eigenvalues\n",
    "- Matrix Vt (or U) will contain the eigenvectors\n",
    "\n",
    "\n",
    "Since Λ is a diagonal matrix, there are no correlations in the transformed data.\n",
    "\n",
    "** The variance of each dimension of Z is equal to the eigenvalues.**\n",
    "\n",
    "In addition, because we sorted the eigenvalues in descending order, the first dimension/coluumn of Z has the most variance, the second dimension/coluumn has the second-most variance, etc. So most of the information is kept in the leading dimensions/columns, as promised.\n"
   ]
  },
  {
   "cell_type": "code",
   "execution_count": null,
   "metadata": {
    "collapsed": true
   },
   "outputs": [],
   "source": []
  },
  {
   "cell_type": "code",
   "execution_count": null,
   "metadata": {},
   "outputs": [],
   "source": []
  },
  {
   "cell_type": "code",
   "execution_count": 19,
   "metadata": {},
   "outputs": [
    {
     "data": {
      "image/png": "[encoded data removed]",
      "text/plain": [
       "<matplotlib.figure.Figure at 0xcc5ea90>"
      ]
     },
     "metadata": {},
     "output_type": "display_data"
    }
   ],
   "source": [
    "pca = PCA()\n",
    "\n",
    "x = np.random.random((100,10)) # generate an N = 100, D = 10 random data matrix\n",
    "\n",
    "# 1. find the principal components which are the linear combiation of the origianl data dimensions. \n",
    "# The full set of principal components has the same number as the number of dimensions in the original dataset\n",
    "# 2. project the data to the span consists of the full set of principal components \n",
    "\n",
    "z = pca.fit_transform(x)\n",
    "\n",
    "# visualize the covariance of the principal components in z\n",
    "plt.imshow(np.cov(z.T))\n",
    "plt.show()"
   ]
  },
  {
   "cell_type": "code",
   "execution_count": 18,
   "metadata": {
    "collapsed": true
   },
   "outputs": [],
   "source": [
    "# PCA summary function - where the input variable pca is a PCA object\n",
    "\n",
    "def pca_summary(pca, standardised_data, out = True):\n",
    "    names = [\"PC\" + str(i) for i in range(1, len(pca.explained_variance_ratio_) +  1)]\n",
    "    \n",
    "    a = list(np.std(pca.transform(standardised_data), axis = 0))\n",
    "    \n",
    "    # the highest eigenvalue indicates the highest variance in the data was observed in the direction of its eigenvector\n",
    "    # The first principal component is calculated such that it accounts for the greatest possible variance in the data set.\n",
    "    b = list(pca.explained_variance_ratio_)\n",
    "    c = [np.sum(pca.explained_variance_ratio_[:i]) for i in range(1, len(pca.explained_variance_ratio_) + 1)]\n",
    "    \n",
    "    columns = pd.MultiIndex.from_tuples([(\"sdev\", \"Standard deviation\"), (\"varprop\", \"Proportion of Variance\"), (\"cumprop\", \"Cumulative Proportion\")])\n",
    "    summary = pd.DataFrame(list(zip(a, b, c)), index = names, columns = columns)\n",
    "    \n",
    "    if out:\n",
    "        print(\"Importance of components:\")\n",
    "#         display(summary)\n",
    "    \n",
    "    return summary"
   ]
  },
  {
   "cell_type": "code",
   "execution_count": null,
   "metadata": {
    "collapsed": true
   },
   "outputs": [],
   "source": []
  },
  {
   "cell_type": "markdown",
   "metadata": {},
   "source": [
    "###  The first PC preserves the largest variance in the projected data "
   ]
  },
  {
   "cell_type": "code",
   "execution_count": 4,
   "metadata": {},
   "outputs": [
    {
     "name": "stdout",
     "output_type": "stream",
     "text": [
      "Importance of components:\n"
     ]
    },
    {
     "data": {
      "text/html": [
       "<div>\n",
       "<style>\n",
       "    .dataframe thead tr:only-child th {\n",
       "        text-align: right;\n",
       "    }\n",
       "\n",
       "    .dataframe thead th {\n",
       "        text-align: left;\n",
       "    }\n",
       "\n",
       "    .dataframe tbody tr th {\n",
       "        vertical-align: top;\n",
       "    }\n",
       "</style>\n",
       "<table border=\"1\" class=\"dataframe\">\n",
       "  <thead>\n",
       "    <tr>\n",
       "      <th></th>\n",
       "      <th>sdev</th>\n",
       "      <th>varprop</th>\n",
       "      <th>cumprop</th>\n",
       "    </tr>\n",
       "    <tr>\n",
       "      <th></th>\n",
       "      <th>Standard deviation</th>\n",
       "      <th>Proportion of Variance</th>\n",
       "      <th>Cumulative Proportion</th>\n",
       "    </tr>\n",
       "  </thead>\n",
       "  <tbody>\n",
       "    <tr>\n",
       "      <th>PC1</th>\n",
       "      <td>0.359499</td>\n",
       "      <td>0.162672</td>\n",
       "      <td>0.162672</td>\n",
       "    </tr>\n",
       "    <tr>\n",
       "      <th>PC2</th>\n",
       "      <td>0.333629</td>\n",
       "      <td>0.140103</td>\n",
       "      <td>0.302775</td>\n",
       "    </tr>\n",
       "    <tr>\n",
       "      <th>PC3</th>\n",
       "      <td>0.306590</td>\n",
       "      <td>0.118314</td>\n",
       "      <td>0.421089</td>\n",
       "    </tr>\n",
       "    <tr>\n",
       "      <th>PC4</th>\n",
       "      <td>0.288277</td>\n",
       "      <td>0.104602</td>\n",
       "      <td>0.525691</td>\n",
       "    </tr>\n",
       "    <tr>\n",
       "      <th>PC5</th>\n",
       "      <td>0.271000</td>\n",
       "      <td>0.092439</td>\n",
       "      <td>0.618130</td>\n",
       "    </tr>\n",
       "    <tr>\n",
       "      <th>PC6</th>\n",
       "      <td>0.265269</td>\n",
       "      <td>0.088571</td>\n",
       "      <td>0.706701</td>\n",
       "    </tr>\n",
       "    <tr>\n",
       "      <th>PC7</th>\n",
       "      <td>0.252984</td>\n",
       "      <td>0.080557</td>\n",
       "      <td>0.787258</td>\n",
       "    </tr>\n",
       "    <tr>\n",
       "      <th>PC8</th>\n",
       "      <td>0.245934</td>\n",
       "      <td>0.076130</td>\n",
       "      <td>0.863388</td>\n",
       "    </tr>\n",
       "    <tr>\n",
       "      <th>PC9</th>\n",
       "      <td>0.240030</td>\n",
       "      <td>0.072519</td>\n",
       "      <td>0.935906</td>\n",
       "    </tr>\n",
       "    <tr>\n",
       "      <th>PC10</th>\n",
       "      <td>0.225657</td>\n",
       "      <td>0.064094</td>\n",
       "      <td>1.000000</td>\n",
       "    </tr>\n",
       "  </tbody>\n",
       "</table>\n",
       "</div>"
      ],
      "text/plain": [
       "                   sdev                varprop               cumprop\n",
       "     Standard deviation Proportion of Variance Cumulative Proportion\n",
       "PC1            0.359499               0.162672              0.162672\n",
       "PC2            0.333629               0.140103              0.302775\n",
       "PC3            0.306590               0.118314              0.421089\n",
       "PC4            0.288277               0.104602              0.525691\n",
       "PC5            0.271000               0.092439              0.618130\n",
       "PC6            0.265269               0.088571              0.706701\n",
       "PC7            0.252984               0.080557              0.787258\n",
       "PC8            0.245934               0.076130              0.863388\n",
       "PC9            0.240030               0.072519              0.935906\n",
       "PC10           0.225657               0.064094              1.000000"
      ]
     },
     "execution_count": 4,
     "metadata": {},
     "output_type": "execute_result"
    }
   ],
   "source": [
    "pca = PCA().fit(x)\n",
    "summary = pca_summary(pca, x)\n",
    "summary"
   ]
  },
  {
   "cell_type": "code",
   "execution_count": 5,
   "metadata": {},
   "outputs": [
    {
     "name": "stdout",
     "output_type": "stream",
     "text": [
      "[ 0.35949925  0.33362928  0.3065904   0.28827738  0.27100002  0.26526869\n",
      "  0.25298445  0.24593386  0.2400301   0.22565688]\n",
      "0.359499251521\n"
     ]
    },
    {
     "data": {
      "text/plain": [
       "0.35949925152149775"
      ]
     },
     "execution_count": 5,
     "metadata": {},
     "output_type": "execute_result"
    }
   ],
   "source": [
    "print (np.std(pca.transform(x), axis = 0))\n",
    "print (np.std(pca.transform(x)[:, 0]))\n",
    "\n",
    "# the first PC preserves the greatest variance in the projected data \n",
    "onedim = PCA(n_components = 1).fit_transform(x)\n",
    "np.std(onedim)"
   ]
  },
  {
   "cell_type": "markdown",
   "metadata": {},
   "source": [
    "#### Observe that the off-diagonals are 0 and that the variances are in decreasing order. Can also confirm that QTQ=I."
   ]
  },
  {
   "cell_type": "code",
   "execution_count": 6,
   "metadata": {},
   "outputs": [
    {
     "data": {
      "text/plain": [
       "array([[ 0.46898991, -0.08504879,  0.1869969 , -0.34550821,  0.46180893,\n",
       "         0.30755472,  0.14620205,  0.09092644, -0.31493179,  0.42636758],\n",
       "       [ 0.24653261, -0.38227058,  0.12029659,  0.14602039, -0.29251086,\n",
       "         0.16114432, -0.48974683, -0.39295611, -0.46948189, -0.17631746],\n",
       "       [ 0.36667878,  0.01889615, -0.47158942, -0.35084926, -0.1369054 ,\n",
       "         0.26549766,  0.18531684, -0.45418513,  0.38621394, -0.20168802],\n",
       "       [ 0.27506536,  0.10508615, -0.30994671, -0.14350025,  0.26033994,\n",
       "        -0.50966752, -0.64800353,  0.08460151,  0.15060151,  0.13911143],\n",
       "       [ 0.00262817, -0.37120536,  0.60527104, -0.49256533, -0.16957931,\n",
       "        -0.25520077, -0.03249754, -0.00799016,  0.39120344, -0.07198192],\n",
       "       [-0.52427818, -0.5019041 , -0.42880928, -0.34185703,  0.07809983,\n",
       "        -0.15679051,  0.0998848 , -0.12831047, -0.26288225,  0.21505944],\n",
       "       [ 0.08612727, -0.0634536 , -0.20127949, -0.33020301, -0.16425799,\n",
       "         0.16123443, -0.06664213,  0.68968947, -0.21626752, -0.5090645 ],\n",
       "       [-0.16158473,  0.46476083,  0.02438589, -0.35345821, -0.57651207,\n",
       "         0.16039932, -0.2104137 ,  0.01184255, -0.11767324,  0.46476348],\n",
       "       [-0.16785333, -0.33549202, -0.07786943,  0.1954773 ,  0.05978484,\n",
       "         0.57680605, -0.36591536,  0.23983194,  0.47261381,  0.25286096],\n",
       "       [-0.41542636,  0.33608142,  0.18626638, -0.28974068,  0.46569531,\n",
       "         0.27395659, -0.30146289, -0.272062  , -0.04932588, -0.36955434]])"
      ]
     },
     "execution_count": 6,
     "metadata": {},
     "output_type": "execute_result"
    }
   ],
   "source": [
    "# show the full set of principal components \n",
    "pca.components_"
   ]
  },
  {
   "cell_type": "code",
   "execution_count": 17,
   "metadata": {},
   "outputs": [
    {
     "data": {
      "image/png": "[encoded data removed]",
      "text/plain": [
       "<matplotlib.figure.Figure at 0xcb25588>"
      ]
     },
     "metadata": {},
     "output_type": "display_data"
    },
    {
     "name": "stdout",
     "output_type": "stream",
     "text": [
      "[[ 1.  0. -0. -0.  0.  0.  0. -0.  0. -0.]\n",
      " [ 0.  1.  0.  0. -0. -0. -0. -0.  0. -0.]\n",
      " [-0.  0.  1.  0.  0. -0.  0.  0. -0.  0.]\n",
      " [-0.  0.  0.  1.  0. -0.  0.  0.  0.  0.]\n",
      " [ 0. -0.  0.  0.  1.  0.  0. -0. -0.  0.]\n",
      " [ 0. -0. -0. -0.  0.  1. -0. -0. -0.  0.]\n",
      " [ 0. -0.  0.  0.  0. -0.  1.  0. -0. -0.]\n",
      " [-0. -0.  0.  0. -0. -0.  0.  1. -0. -0.]\n",
      " [ 0.  0. -0.  0. -0. -0. -0. -0.  1.  0.]\n",
      " [-0. -0.  0.  0.  0.  0. -0. -0.  0.  1.]]\n"
     ]
    }
   ],
   "source": [
    "QTQ = pca.components_.T.dot(pca.components_)\n",
    "plt.imshow(QTQ)\n",
    "plt.show()\n",
    "\n",
    "print (np.around(QTQ, decimals=2))"
   ]
  },
  {
   "cell_type": "code",
   "execution_count": null,
   "metadata": {
    "collapsed": true
   },
   "outputs": [],
   "source": []
  },
  {
   "cell_type": "markdown",
   "metadata": {},
   "source": [
    "#### PCA is fundamentally a dimensionality reduction algorithm, but it can also be useful as a tool for visualization, for noise filtering, for feature extraction and engineering, and much more."
   ]
  },
  {
   "cell_type": "code",
   "execution_count": 15,
   "metadata": {},
   "outputs": [
    {
     "data": {
      "text/plain": [
       "(-2.7378957575985226,\n",
       " 2.5788989913065881,\n",
       " -0.94549527304399739,\n",
       " 1.0172909457553052)"
      ]
     },
     "execution_count": 15,
     "metadata": {},
     "output_type": "execute_result"
    },
    {
     "data": {
      "image/png": "[encoded data removed]",
      "text/plain": [
       "<matplotlib.figure.Figure at 0xcb0ee48>"
      ]
     },
     "metadata": {},
     "output_type": "display_data"
    }
   ],
   "source": [
    "rng = np.random.RandomState(1)\n",
    "\n",
    "X = np.dot(rng.rand(2, 2), rng.randn(2, 200)).T\n",
    "plt.scatter(X[:, 0], X[:, 1])\n",
    "plt.axis('equal')"
   ]
  },
  {
   "cell_type": "code",
   "execution_count": null,
   "metadata": {},
   "outputs": [],
   "source": []
  },
  {
   "cell_type": "markdown",
   "metadata": {},
   "source": [
    "Unlike Linear Regression, rather than attempting to predict the y values from the x values, the unsupervised learning method PCA attempts to learn about the relationship between the x and y values. In principal component analysis, this relationship is quantified by finding a list of the principal axes in the data, and using those axes to describe the dataset."
   ]
  },
  {
   "cell_type": "code",
   "execution_count": 21,
   "metadata": {},
   "outputs": [
    {
     "data": {
      "text/plain": [
       "PCA(copy=True, iterated_power='auto', n_components=2, random_state=None,\n",
       "  svd_solver='auto', tol=0.0, whiten=False)"
      ]
     },
     "execution_count": 21,
     "metadata": {},
     "output_type": "execute_result"
    }
   ],
   "source": [
    "from sklearn.decomposition import PCA\n",
    "pca = PCA(n_components = 2)\n",
    "pca.fit(X)"
   ]
  },
  {
   "cell_type": "markdown",
   "metadata": {},
   "source": [
    "\n",
    "The fit learns some quantities from the data, most importantly the \"components\" and \"explained variance\":"
   ]
  },
  {
   "cell_type": "code",
   "execution_count": null,
   "metadata": {
    "collapsed": true
   },
   "outputs": [],
   "source": [
    "print(pca.components_)\n",
    "print ('==')\n",
    "print(pca.explained_variance_)"
   ]
  },
  {
   "cell_type": "markdown",
   "metadata": {},
   "source": [
    "visualize the numbers as vectors over the input data, using the 'components' to define the directions of the vectors and the **'explained varaince' to define the squared length of the vectors**"
   ]
  },
  {
   "cell_type": "code",
   "execution_count": 23,
   "metadata": {},
   "outputs": [],
   "source": [
    "def draw_vector(v0, v1, ax = None):\n",
    "    ax = ax or plt.gca()\n",
    "    arrowprops = dict(arrowstyle = '->', linewidth = 2, shrinkA = 0, shrinkB = 0)\n",
    "    ax.annotate('', v1, v0, arrowprops = arrowprops)"
   ]
  },
  {
   "cell_type": "code",
   "execution_count": 24,
   "metadata": {},
   "outputs": [
    {
     "data": {
      "text/plain": [
       "(-2.7378957575985226,\n",
       " 2.5788989913065881,\n",
       " -0.94549527304399739,\n",
       " 1.0172909457553052)"
      ]
     },
     "execution_count": 24,
     "metadata": {},
     "output_type": "execute_result"
    },
    {
     "data": {
      "image/png": "[encoded data removed]",
      "text/plain": [
       "<matplotlib.figure.Figure at 0xcd2e940>"
      ]
     },
     "metadata": {},
     "output_type": "display_data"
    }
   ],
   "source": [
    "plt.scatter(X[:, 0], X[:, 1], alpha = 0.2)\n",
    "for length, vector in zip(pca.explained_variance_, pca.components_):\n",
    "    v = vector * 3 * np.sqrt(length)\n",
    "    draw_vector(pca.mean_, pca.mean_ + v)\n",
    "plt.axis('equal')"
   ]
  },
  {
   "cell_type": "markdown",
   "metadata": {},
   "source": [
    "These vectors represent the principal axes of the data, and the length of the vector is an indication of how \"important\" that axis is in describing the distribution of the data—more precisely, it is a measure of the variance of the data when projected onto that axis. The projection of each data point onto the principal axes are the \"principal components\" of the data."
   ]
  },
  {
   "cell_type": "code",
   "execution_count": null,
   "metadata": {},
   "outputs": [],
   "source": []
  },
  {
   "cell_type": "code",
   "execution_count": 36,
   "metadata": {},
   "outputs": [
    {
     "name": "stdout",
     "output_type": "stream",
     "text": [
      "original shape:    (200, 2)\n",
      "transformed shape: (200, 1)\n"
     ]
    }
   ],
   "source": [
    "# Using PCA for dimensionality reduction involves zeroing out one or more of the smallest principal components, resulting in a lower-dimensional projection of the data that preserves the maximal data variance.\n",
    "\n",
    "pca = PCA(n_components = 1)\n",
    "pca.fit(X)\n",
    "X_pca = pca.transform(X)\n",
    "\n",
    "print(\"original shape:   \", X.shape)\n",
    "print(\"transformed shape:\", X_pca.shape)"
   ]
  },
  {
   "cell_type": "markdown",
   "metadata": {},
   "source": [
    "The transformed data is redudced to one dimension.\n",
    "\n",
    "** perform inverse transformation of this reduced data and plot it along with the original data.**"
   ]
  },
  {
   "cell_type": "code",
   "execution_count": 38,
   "metadata": {},
   "outputs": [
    {
     "data": {
      "text/plain": [
       "(-2.7649537820213026,\n",
       " 2.6551825979217609,\n",
       " -0.99198805419665281,\n",
       " 1.0195048877149555)"
      ]
     },
     "execution_count": 38,
     "metadata": {},
     "output_type": "execute_result"
    },
    {
     "data": {
      "image/png": "[encoded data removed]",
      "text/plain": [
       "<matplotlib.figure.Figure at 0xcd86908>"
      ]
     },
     "metadata": {},
     "output_type": "display_data"
    }
   ],
   "source": [
    "X_new = pca.inverse_transform(X_pca)\n",
    "\n",
    "plt.scatter(X[:, 0], X[:, 1], alpha = 0.2)\n",
    "plt.scatter(X_new[:, 0], X_new[:, 1], alpha = 0.8, color = 'b')\n",
    "plt.axis('equal')"
   ]
  },
  {
   "cell_type": "markdown",
   "metadata": {},
   "source": [
    "The light points are the original data, while the dark points are the projected version. This makes clear what a PCA dimensionality reduction means: the information along the least important principal axis or axes is removed, leaving only the component(s) of the data with the highest variance. The fraction of variance that is cut out (proportional to the spread of points about the line formed in this figure) is roughly a measure of how much \"information\" is discarded in this reduction of dimensionality. This reduced-dimension dataset is in some senses \"good enough\" to encode the most important relationships between the points: despite reducing the dimension of the data by 50%, the overall relationship between the data points are mostly preserved.\n"
   ]
  },
  {
   "cell_type": "markdown",
   "metadata": {},
   "source": [
    "The purpose of principal component analysis is to find the best low-dimensional representation of the variation in a multivariate data set. For example, in the case of the wine data set, we have 13 chemical concentrations describing wine samples from three different cultivars. We can carry out a principal component analysis to investigate whether we can capture most of the variation between samples using a smaller number of new variables (principal components), where each of these new variables is a linear combination of all or some of the 13 chemical concentrations.\n",
    "\n",
    "Principal Component Analysis (PCA) Vs. Multiple Discriminant Analysis (MDA) \n",
    "\n",
    "- Both are **linear** transformation methods and closely related to each other.\n",
    "\n",
    "- In PCA, we are interested to find the directions (components) that maximize the variance of the projected dataset, where in MDA, we are additionally interested to find the directions that maximize the separation (or discrimination) between different classes (for example, in pattern classification problems where our dataset consists of multiple classes. In contrast to PCA, which ignores the class labels). In other words, via PCA, we are projecting the entire set of data (without class labels) onto a different subspace, and in MDA, we are trying to determine a suitable subspace to distinguish between patterns that belong to different classes. Or, roughly speaking in PCA we are trying to find the axes with maximum variances where the data is most spread (within a class, since PCA treats the whole data set as one class), and in MDA we are additionally maximizing the spread between classes. In typical pattern recognition problems, a PCA is often followed by an MDA.(classificaiton mostly, or is regression considered as well)\n",
    "\n",
    "**PCA Steps:**\n",
    "\n",
    "- Take the whole dataset consisting of d-dimensional samples ignoring the class labels\n",
    "- Compute the d-dimensional mean vector (i.e., the means for every dimension/ feature/ column of the whole dataset)\n",
    "- Compute the scatter matrix (alternatively, the covariance matrix) of the whole dataset\n",
    "- Compute eigenvectors (e1,e2,...,ed) and corresponding eigenvalues (λ1,λ2,...,λd)\n",
    "- Sort the eigenvectors by decreasing eigenvalues and choose k eigenvectors with the largest eigenvalues to form a d×k dimensional matrix W (where every **column** represents an eigenvector)\n",
    "- Use this **d×k eigenvector matrix to transform the samples onto the new subspace.** This can be summarized by the mathematical equation: y = W Transpose × x (where x is a d×1-dimensional vector representing one sample, and y is the transformed **k×1-dimensional sample in the new subspace.**)\n",
    "\n",
    "PCA is mathematically defined as an orthogonal linear transformation that transforms the data into a new coordinate system such that the greatest varince by some projection of the data comes to lie on the first coordinate (first Principal Component), the second greatest varince on the second coordinate, and so on.\n"
   ]
  },
  {
   "cell_type": "markdown",
   "metadata": {},
   "source": [
    "#### Feature scaling\n",
    "\n",
    "Since the range of values of raw data varies widely, in some machine learning algorithms, the objective function of the algorithm may not work properly without normalization. For example, the majority classifiers calculate the distance between two points by the Euclidean distance. If one of the features has a broad range of values, the distance will be governed by this feature. Therefore, the range of all features should be normalized so that each feature contributes approximately proportionately to the final distance.\n",
    "\n",
    "Another reason for feature scalling is that gradient descent converges much faster with features scaled than without. (wiki feature sacling)\n",
    "\n",
    "http://sebastianraschka.com/Articles/2014_about_feature_scaling.html\n",
    "\n",
    "http://ufldl.stanford.edu/tutorial/unsupervised/PCAWhitening/\n",
    "\n",
    "**PCA**\n",
    "\n",
    "- purpose of mean vector subtraction from the data matrix (normalizing the data) before PCA\n",
    "\n",
    "  - makes the math easier in calculating the covariance matrix and its decomposition\n",
    "  - plus it does not affect the varince information in the original data matrix\n",
    "- if it is to standerdize the data matrix (deducting the mean vector and dividing the standard deviation)\n",
    "\n",
    "  - variance for all features are kept to the same [0,1] range\n",
    "  - covariance matrix is not affected\n",
    "\n",
    "Technically PCA includes centering (mean subtraction) of the data. This is done in order to calculate the covariance matrix. Eigendecomposition is then applied to the covariance matrix, with the eigenvalues corresponding to the variance of the data along the eigenvectors.\n",
    "\n",
    "An alternative, but equivalent approach, is to use a singular value decomposition (SVD) of the data matrix. Mean subtraction must be done prior to the SVD in order for this to be equivalent.\n",
    "\n",
    "Normalization (dividing by the variance) is not necessary.\n",
    "\n",
    "**SVD**\n",
    "\n",
    "https://alyssaq.github.io/2015/singular-value-decomposition-visualisation/"
   ]
  },
  {
   "cell_type": "code",
   "execution_count": null,
   "metadata": {
    "collapsed": true
   },
   "outputs": [],
   "source": []
  },
  {
   "cell_type": "code",
   "execution_count": null,
   "metadata": {
    "collapsed": true
   },
   "outputs": [],
   "source": []
  },
  {
   "cell_type": "code",
   "execution_count": null,
   "metadata": {
    "collapsed": true
   },
   "outputs": [],
   "source": []
  }
 ],
 "metadata": {
  "kernelspec": {
   "display_name": "Python 3",
   "language": "python",
   "name": "python3"
  },
  "language_info": {
   "codemirror_mode": {
    "name": "ipython",
    "version": 3
   },
   "file_extension": ".py",
   "mimetype": "text/x-python",
   "name": "python",
   "nbconvert_exporter": "python",
   "pygments_lexer": "ipython3",
   "version": "3.6.1"
  }
 },
 "nbformat": 4,
 "nbformat_minor": 2
}
