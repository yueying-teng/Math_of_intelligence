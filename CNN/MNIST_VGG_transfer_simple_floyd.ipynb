{
 "cells": [
  {
   "cell_type": "markdown",
   "metadata": {},
   "source": [
    "https://github.com/keras-team/keras/blob/master/examples/mnist_transfer_cnn.py\n",
    "\n",
    "** Transfer learning toy example**\n",
    "\n",
    "- Train a simple convnet on the MNIST dataset the first 5 digits [0...4].\n",
    "- Freeze convolutional layers and fine-tune dense/output layers for the classification for the rest digits [5...9].\n",
    "\n",
    "Get to 99.8% test accuracy after 5 epochs for the first five digits classifier and 99.2% for the last five digits after transfer + fine-tuning."
   ]
  },
  {
   "cell_type": "code",
   "execution_count": 1,
   "metadata": {},
   "outputs": [
    {
     "name": "stderr",
     "output_type": "stream",
     "text": [
      "Using TensorFlow backend.\n"
     ]
    }
   ],
   "source": [
    "from __future__ import print_function \n",
    "\n",
    "import datetime\n",
    "import keras \n",
    "from keras.datasets import mnist\n",
    "from keras.models import Sequential\n",
    "from keras.layers import Dense, Dropout, Activation, Flatten \n",
    "from keras.layers import Conv2D, MaxPooling2D\n",
    "from keras import backend as K\n",
    "\n",
    "from scipy.misc import imresize"
   ]
  },
  {
   "cell_type": "code",
   "execution_count": 22,
   "metadata": {
    "collapsed": true
   },
   "outputs": [],
   "source": [
    "now = datetime.datetime.now\n",
    "\n",
    "batch_size = 128\n",
    "\n",
    "num_classes = 5\n",
    "\n",
    "epochs = 5"
   ]
  },
  {
   "cell_type": "code",
   "execution_count": 23,
   "metadata": {
    "collapsed": true
   },
   "outputs": [],
   "source": [
    "# input image dimensions \n",
    "img_rows, img_cols = 28, 28\n",
    "\n",
    "# number of convolutional filters to use \n",
    "filters = 32\n",
    "\n",
    "# convolutional kernel size \n",
    "kernel_size = 3\n",
    "\n",
    "# size of pooling area for max pooling\n",
    "pool_size = 2\n"
   ]
  },
  {
   "cell_type": "code",
   "execution_count": 24,
   "metadata": {
    "collapsed": true
   },
   "outputs": [],
   "source": [
    "if K.image_data_format() == 'channels_first':\n",
    "    input_shape = (1, img_rows, img_cols)\n",
    "else:\n",
    "    # tf backend has K.image_data_format() == 'channels_last'\n",
    "    input_shape = (img_rows, img_cols, 1)"
   ]
  },
  {
   "cell_type": "code",
   "execution_count": 25,
   "metadata": {
    "collapsed": true
   },
   "outputs": [],
   "source": [
    "def train_model(model, train, test, num_classes):\n",
    "    \n",
    "    # change input data size so they match tensorflow requirements\n",
    "    x_train = train[0].reshape((train[0].shape[0],) + input_shape)\n",
    "    x_test = test[0].reshape((test[0].shape[0],) + input_shape)\n",
    "    \n",
    "    x_train = x_train.astype('float32')\n",
    "    x_test = x_test.astype('float32')\n",
    "    # normalization like \n",
    "    x_train /= 255\n",
    "    x_test /= 255\n",
    "    \n",
    "    print('x_train shape:', x_train.shape)\n",
    "    print(x_train.shape[0], 'train samples')\n",
    "    print(x_test.shape[0], 'test samples')\n",
    "    \n",
    "    # one hot encode class vectors \n",
    "    y_train = keras.utils.to_categorical(train[1], num_classes)\n",
    "    y_test = keras.utils.to_categorical(test[1], num_classes)\n",
    "    \n",
    "    # compile for training\n",
    "    model.compile(loss = 'categorical_crossentropy', optimizer = 'adadelta', metrics = ['accuracy'])\n",
    "    \n",
    "    t = now()\n",
    "    model.fit(x_train, y_train, batch_size = batch_size, epochs = epochs, verbose = 1, validation_data = (x_test, y_test))\n",
    "    \n",
    "    print('Training time: %s' % (now() - t))\n",
    "    score = model.evaluate(x_test, y_test, verbose=0)\n",
    "    print('Test score:', score[0])\n",
    "    print('Test accuracy:', score[1])"
   ]
  },
  {
   "cell_type": "code",
   "execution_count": 26,
   "metadata": {},
   "outputs": [
    {
     "name": "stdout",
     "output_type": "stream",
     "text": [
      "(60000, 28, 28)\n",
      "(28, 28)\n"
     ]
    }
   ],
   "source": [
    "# load the data\n",
    "\n",
    "(x_train, y_train), (x_test, y_test) = mnist.load_data()\n",
    "\n",
    "print(x_train.shape)\n",
    "print(x_train[0].shape)"
   ]
  },
  {
   "cell_type": "code",
   "execution_count": 27,
   "metadata": {},
   "outputs": [
    {
     "name": "stdout",
     "output_type": "stream",
     "text": [
      "(30596, 28, 28)\n",
      "(28, 28)\n"
     ]
    }
   ],
   "source": [
    "# create two datasets one with digits below 5 and the other above\n",
    "\n",
    "x_train_lt5 = x_train[y_train < 5]\n",
    "y_train_lt5 = y_train[y_train < 5]\n",
    "x_test_lt5 = x_test[y_test < 5]\n",
    "y_test_lt5 = y_test[y_test < 5]\n",
    "\n",
    "x_train_gte5 = x_train[y_train >= 5]\n",
    "y_train_gte5 = y_train[y_train >= 5] - 5\n",
    "x_test_gte5 = x_test[y_test >= 5]\n",
    "y_test_gte5 = y_test[y_test >= 5] - 5\n",
    "\n",
    "print(x_train_lt5.shape)\n",
    "print(x_train_lt5[0].shape)"
   ]
  },
  {
   "cell_type": "code",
   "execution_count": 161,
   "metadata": {
    "collapsed": true
   },
   "outputs": [],
   "source": [
    "# define two groups of layers: feature(convolutions) and classification(dense)\n",
    "\n",
    "feature_layers = [Conv2D(filters, kernel_size, padding = 'valid', input_shape = input_shape),\n",
    "                 Activation('relu'),\n",
    "                 Conv2D(filters, kernel_size),\n",
    "                 Activation('relu'),\n",
    "                 MaxPooling2D(pool_size = pool_size),\n",
    "                 Dropout(0.25),\n",
    "                 Flatten()]\n",
    "\n",
    "\n",
    "classification_layers = [Dense(128),\n",
    "                         Activation('relu'),\n",
    "                         Dropout(0.5), \n",
    "                         Dense(num_classes), \n",
    "                         Activation('softmax')]"
   ]
  },
  {
   "cell_type": "code",
   "execution_count": 162,
   "metadata": {
    "collapsed": true
   },
   "outputs": [],
   "source": [
    "# create the complete model\n",
    "\n",
    "model_fc = Sequential(feature_layers + classification_layers)"
   ]
  },
  {
   "cell_type": "code",
   "execution_count": 163,
   "metadata": {},
   "outputs": [
    {
     "name": "stdout",
     "output_type": "stream",
     "text": [
      "_________________________________________________________________\n",
      "Layer (type)                 Output Shape              Param #   \n",
      "=================================================================\n",
      "conv2d_7 (Conv2D)            (None, 26, 26, 32)        320       \n",
      "_________________________________________________________________\n",
      "activation_13 (Activation)   (None, 26, 26, 32)        0         \n",
      "_________________________________________________________________\n",
      "conv2d_8 (Conv2D)            (None, 24, 24, 32)        9248      \n",
      "_________________________________________________________________\n",
      "activation_14 (Activation)   (None, 24, 24, 32)        0         \n",
      "_________________________________________________________________\n",
      "max_pooling2d_4 (MaxPooling2 (None, 12, 12, 32)        0         \n",
      "_________________________________________________________________\n",
      "dropout_7 (Dropout)          (None, 12, 12, 32)        0         \n",
      "_________________________________________________________________\n",
      "flatten_4 (Flatten)          (None, 4608)              0         \n",
      "_________________________________________________________________\n",
      "dense_9 (Dense)              (None, 128)               589952    \n",
      "_________________________________________________________________\n",
      "activation_15 (Activation)   (None, 128)               0         \n",
      "_________________________________________________________________\n",
      "dropout_8 (Dropout)          (None, 128)               0         \n",
      "_________________________________________________________________\n",
      "dense_10 (Dense)             (None, 10)                1290      \n",
      "_________________________________________________________________\n",
      "activation_16 (Activation)   (None, 10)                0         \n",
      "=================================================================\n",
      "Total params: 600,810\n",
      "Trainable params: 600,810\n",
      "Non-trainable params: 0\n",
      "_________________________________________________________________\n"
     ]
    }
   ],
   "source": [
    "model_fc.summary()"
   ]
  },
  {
   "cell_type": "code",
   "execution_count": 30,
   "metadata": {},
   "outputs": [
    {
     "name": "stdout",
     "output_type": "stream",
     "text": [
      "x_train shape: (30596, 28, 28, 1)\n",
      "30596 train samples\n",
      "5139 test samples\n",
      "Train on 30596 samples, validate on 5139 samples\n",
      "Epoch 1/5\n",
      "30596/30596 [==============================] - 53s 2ms/step - loss: 0.1744 - acc: 0.9437 - val_loss: 0.0274 - val_acc: 0.9903\n",
      "Epoch 2/5\n",
      "30596/30596 [==============================] - 55s 2ms/step - loss: 0.0477 - acc: 0.9854 - val_loss: 0.0174 - val_acc: 0.9942\n",
      "Epoch 3/5\n",
      "30596/30596 [==============================] - 57s 2ms/step - loss: 0.0321 - acc: 0.9908 - val_loss: 0.0098 - val_acc: 0.9969\n",
      "Epoch 4/5\n",
      "30596/30596 [==============================] - 51s 2ms/step - loss: 0.0262 - acc: 0.9923 - val_loss: 0.0179 - val_acc: 0.9946\n",
      "Epoch 5/5\n",
      "30596/30596 [==============================] - 52s 2ms/step - loss: 0.0215 - acc: 0.9934 - val_loss: 0.0085 - val_acc: 0.9973\n",
      "Training time: 0:04:28.141054\n",
      "Test score: 0.008491175898898667\n",
      "Test accuracy: 0.9972757345787118\n"
     ]
    }
   ],
   "source": [
    "# train model for 5-digit clasification [0...4]\n",
    "\n",
    "train_model(model_fc, (x_train_lt5, y_train_lt5), (x_test_lt5, y_test_lt5), num_classes)"
   ]
  },
  {
   "cell_type": "code",
   "execution_count": 31,
   "metadata": {
    "collapsed": true
   },
   "outputs": [],
   "source": [
    "# freeze feature layers and rebuild the model for a different classification task [5...9]\n",
    "\n",
    "for l in feature_layers:\n",
    "    l.trainable = False"
   ]
  },
  {
   "cell_type": "code",
   "execution_count": 32,
   "metadata": {},
   "outputs": [
    {
     "name": "stdout",
     "output_type": "stream",
     "text": [
      "x_train shape: (29404, 28, 28, 1)\n",
      "29404 train samples\n",
      "4861 test samples\n",
      "Train on 29404 samples, validate on 4861 samples\n",
      "Epoch 1/5\n",
      "29404/29404 [==============================] - 21s 704us/step - loss: 0.2463 - acc: 0.9245 - val_loss: 0.0523 - val_acc: 0.9842\n",
      "Epoch 2/5\n",
      "29404/29404 [==============================] - 21s 718us/step - loss: 0.0801 - acc: 0.9764 - val_loss: 0.0385 - val_acc: 0.9872\n",
      "Epoch 3/5\n",
      "29404/29404 [==============================] - 19s 658us/step - loss: 0.0595 - acc: 0.9813 - val_loss: 0.0305 - val_acc: 0.9895\n",
      "Epoch 4/5\n",
      "29404/29404 [==============================] - 20s 665us/step - loss: 0.0504 - acc: 0.9838 - val_loss: 0.0318 - val_acc: 0.9893\n",
      "Epoch 5/5\n",
      "29404/29404 [==============================] - 19s 644us/step - loss: 0.0467 - acc: 0.9855 - val_loss: 0.0237 - val_acc: 0.9930\n",
      "Training time: 0:01:39.823435\n",
      "Test score: 0.023744944033462122\n",
      "Test accuracy: 0.9930055544126722\n"
     ]
    }
   ],
   "source": [
    "# tranfer - train dense layers for new classification task [5...9]. training using new task data \n",
    "\n",
    "train_model(model_fc , (x_train_gte5, y_train_gte5), (x_test_gte5, y_test_gte5), num_classes)"
   ]
  },
  {
   "cell_type": "code",
   "execution_count": null,
   "metadata": {
    "collapsed": true
   },
   "outputs": [],
   "source": []
  },
  {
   "cell_type": "markdown",
   "metadata": {},
   "source": [
    "## transfer learning with VGG and MNIST\n",
    "\n",
    "- **retrain output dense layer only/ using VGG as feature extractor(bottleneck feature)** The output layer in a vgg16 is a softmax activation with 1000 categories. Remove this layer and use the remaining model to extract features. Retrain a separated classificstion layer only using the features extracted from VGG. **cannot use data augmentation in this case**\n",
    "\n",
    "- **retrain all layers but with replaced Dense layer/ using VGG as feature extractor(bottleneck feature)** The output layer in a vgg16 is a softmax activation with 1000 categories. Remove this layer and replace it with a softmax layer of 10 categories. Retrain the modified VGG model using the features extracted from VGG without Dense layer.**can use data augmentation in this case**\n",
    "\n",
    "- **freeze the weights of the first few layers** the first few layers capture universal features like curves and edges, which are also relevant to the new problem. VGG architectue is not changed in this case, but image size is **different** from which (224 x 224) VGG is trained on. Easier to retrain on the Dense layer Repalced VGG16. - fine tuning?"
   ]
  },
  {
   "cell_type": "markdown",
   "metadata": {},
   "source": [
    "## VGG16 as feature extractor & feed the features to a simple linear model\n",
    "\n",
    "### VGG16 has requirement on minimium input size, which cannot be met by MNIST input without modification "
   ]
  },
  {
   "cell_type": "code",
   "execution_count": 2,
   "metadata": {
    "collapsed": true
   },
   "outputs": [],
   "source": [
    "# retrain output dense layer only\n",
    "\n",
    "from keras.applications.vgg16 import VGG16\n",
    "import numpy as np\n",
    "\n",
    "import matplotlib.pyplot as plt\n",
    "% matplotlib inline"
   ]
  },
  {
   "cell_type": "code",
   "execution_count": 3,
   "metadata": {},
   "outputs": [
    {
     "name": "stdout",
     "output_type": "stream",
     "text": [
      "Downloading data from https://s3.amazonaws.com/img-datasets/mnist.npz\n",
      "10469376/11490434 [==========================>...] - ETA: 0s"
     ]
    }
   ],
   "source": [
    "(x_train, y_train), (x_test, y_test) = mnist.load_data()"
   ]
  },
  {
   "cell_type": "code",
   "execution_count": 4,
   "metadata": {
    "collapsed": true
   },
   "outputs": [],
   "source": [
    "img_rows, img_cols = 28, 28\n",
    "\n",
    "batch_size = 32\n",
    "\n",
    "num_classes = 10\n",
    "\n",
    "epochs = 30"
   ]
  },
  {
   "cell_type": "code",
   "execution_count": 5,
   "metadata": {},
   "outputs": [
    {
     "name": "stdout",
     "output_type": "stream",
     "text": [
      "Downloading data from https://github.com/fchollet/deep-learning-models/releases/download/v0.1/vgg16_weights_tf_dim_ordering_tf_kernels_notop.h5\n",
      "57360384/58889256 [============================>.] - ETA: 0s_________________________________________________________________\n",
      "Layer (type)                 Output Shape              Param #   \n",
      "=================================================================\n",
      "input_1 (InputLayer)         (None, None, None, 3)     0         \n",
      "_________________________________________________________________\n",
      "block1_conv1 (Conv2D)        (None, None, None, 64)    1792      \n",
      "_________________________________________________________________\n",
      "block1_conv2 (Conv2D)        (None, None, None, 64)    36928     \n",
      "_________________________________________________________________\n",
      "block1_pool (MaxPooling2D)   (None, None, None, 64)    0         \n",
      "_________________________________________________________________\n",
      "block2_conv1 (Conv2D)        (None, None, None, 128)   73856     \n",
      "_________________________________________________________________\n",
      "block2_conv2 (Conv2D)        (None, None, None, 128)   147584    \n",
      "_________________________________________________________________\n",
      "block2_pool (MaxPooling2D)   (None, None, None, 128)   0         \n",
      "_________________________________________________________________\n",
      "block3_conv1 (Conv2D)        (None, None, None, 256)   295168    \n",
      "_________________________________________________________________\n",
      "block3_conv2 (Conv2D)        (None, None, None, 256)   590080    \n",
      "_________________________________________________________________\n",
      "block3_conv3 (Conv2D)        (None, None, None, 256)   590080    \n",
      "_________________________________________________________________\n",
      "block3_pool (MaxPooling2D)   (None, None, None, 256)   0         \n",
      "_________________________________________________________________\n",
      "block4_conv1 (Conv2D)        (None, None, None, 512)   1180160   \n",
      "_________________________________________________________________\n",
      "block4_conv2 (Conv2D)        (None, None, None, 512)   2359808   \n",
      "_________________________________________________________________\n",
      "block4_conv3 (Conv2D)        (None, None, None, 512)   2359808   \n",
      "_________________________________________________________________\n",
      "block4_pool (MaxPooling2D)   (None, None, None, 512)   0         \n",
      "_________________________________________________________________\n",
      "block5_conv1 (Conv2D)        (None, None, None, 512)   2359808   \n",
      "_________________________________________________________________\n",
      "block5_conv2 (Conv2D)        (None, None, None, 512)   2359808   \n",
      "_________________________________________________________________\n",
      "block5_conv3 (Conv2D)        (None, None, None, 512)   2359808   \n",
      "_________________________________________________________________\n",
      "block5_pool (MaxPooling2D)   (None, None, None, 512)   0         \n",
      "=================================================================\n",
      "Total params: 14,714,688\n",
      "Trainable params: 14,714,688\n",
      "Non-trainable params: 0\n",
      "_________________________________________________________________\n"
     ]
    }
   ],
   "source": [
    "# load VGG16 model weights\n",
    "\n",
    "model = VGG16(weights = 'imagenet', include_top = False)\n",
    "model.summary()"
   ]
  },
  {
   "cell_type": "code",
   "execution_count": 6,
   "metadata": {
    "collapsed": true
   },
   "outputs": [],
   "source": [
    "# check which backend is used and reshape the data to match Keras' expectation \n",
    "\n",
    "if K.image_data_format() == 'channels_first':\n",
    "    x_train = x_train.reshape(x_train.shape[0], 1, img_rows, img_cols)\n",
    "    x_test = x_test.reshape(x_test.shape[0], 1, img_rows, img_cols)\n",
    "    input_shape = (1, img_rows, img_cols)\n",
    "else:\n",
    "    x_train = x_train.reshape(x_train.shape[0], img_rows, img_cols, 1)\n",
    "    x_test = x_test.reshape(x_test.shape[0], img_rows, img_cols, 1)\n",
    "    input_shape = (img_rows, img_cols, 1)"
   ]
  },
  {
   "cell_type": "markdown",
   "metadata": {},
   "source": [
    "### repeat the gray scale channel to create three channels for all images before resizing them "
   ]
  },
  {
   "cell_type": "code",
   "execution_count": 7,
   "metadata": {
    "collapsed": true,
    "scrolled": false
   },
   "outputs": [],
   "source": [
    "# VGG is trained on color images - repeat grayscale image over three color channels\n",
    "# np.repeat - if ``axis = 0`` it will be the first dimension and if ``axis = -1`` it will be the last dimension.\n",
    "# expand channels for both training and testing images \n",
    "\n",
    "train_color_channel = []\n",
    "for i in range(x_train.shape[0]):\n",
    "    train_color_channel.append(np.repeat(x_train[i], 3, axis = -1))\n",
    "    \n",
    "test_color_channel = []\n",
    "for i in range(x_test.shape[0]):\n",
    "    test_color_channel.append(np.repeat(x_test[i], 3, axis = -1))"
   ]
  },
  {
   "cell_type": "code",
   "execution_count": 8,
   "metadata": {},
   "outputs": [
    {
     "data": {
      "text/plain": [
       "(60000, 28, 28, 3)"
      ]
     },
     "execution_count": 8,
     "metadata": {},
     "output_type": "execute_result"
    }
   ],
   "source": [
    "# change unit8 data type\n",
    "\n",
    "x_train = np.array(train_color_channel).astype('float32')\n",
    "x_test = np.array(test_color_channel).astype('float32')\n",
    "\n",
    "x_train.shape"
   ]
  },
  {
   "cell_type": "markdown",
   "metadata": {},
   "source": [
    "### resize images to meet VGG16 minimum requirement on input size "
   ]
  },
  {
   "cell_type": "code",
   "execution_count": 9,
   "metadata": {
    "collapsed": true,
    "scrolled": true
   },
   "outputs": [],
   "source": [
    "### resize does not work for images with only one color channel, but for 3 and 4 channels \n",
    "\n",
    "from skimage.transform import resize \n",
    "\n",
    "def resize (images):\n",
    "    x = np.zeros((images.shape[0], 56, 56, 3))\n",
    "    for i in range(images.shape[0]):\n",
    "        x[i] = imresize(images[i], (56, 56, 3), interp = 'bilinear', mode = None)\n",
    "    \n",
    "    return x"
   ]
  },
  {
   "cell_type": "code",
   "execution_count": 10,
   "metadata": {
    "scrolled": true
   },
   "outputs": [
    {
     "name": "stdout",
     "output_type": "stream",
     "text": [
      "x_train shape: (60000, 56, 56, 3)\n",
      "number of train samples:  60000\n",
      "number of test samples:  10000\n",
      "number of train sample labels:  60000\n"
     ]
    }
   ],
   "source": [
    "# resize images from (28, 28) to (56, 56)\n",
    "x_train = resize(x_train)\n",
    "x_test = resize(x_test)\n",
    "\n",
    "\n",
    "# normalization like \n",
    "x_train /= 255\n",
    "x_test /= 255\n",
    "\n",
    "print('x_train shape:', x_train.shape)\n",
    "print('number of train samples: ', x_train.shape[0])\n",
    "print('number of test samples: ', x_test.shape[0])\n",
    "print('number of train sample labels: ', y_train.shape[0])\n",
    "\n",
    "\n",
    "# one hot encode class vectors\n",
    "y_train = keras.utils.to_categorical(y_train, num_classes)\n",
    "y_test = keras.utils.to_categorical(y_test, num_classes)"
   ]
  },
  {
   "cell_type": "code",
   "execution_count": 41,
   "metadata": {
    "collapsed": true
   },
   "outputs": [],
   "source": [
    "np.save('x_train.npy', x_train)\n",
    "np.save('x_test.npy', x_test)\n",
    "np.save('y_train.npy', y_train)\n",
    "np.save('y_test.npy', y_test)"
   ]
  },
  {
   "cell_type": "code",
   "execution_count": null,
   "metadata": {
    "collapsed": true
   },
   "outputs": [],
   "source": [
    "# extract features from training and testing data using pretrained VGG16 without top \n",
    "\n",
    "now = datetime.datetime.now\n",
    "t = now()\n",
    "\n",
    "feature_train = model.predict(x_train)\n",
    "feature_test = model.predict(x_test)\n",
    "\n",
    "print('Feature extracting time: %s' % (now() - t))\n",
    "\n",
    "print(feature_train.shape)\n",
    "print(feature_test.shape)\n"
   ]
  },
  {
   "cell_type": "code",
   "execution_count": 11,
   "metadata": {},
   "outputs": [
    {
     "name": "stdout",
     "output_type": "stream",
     "text": [
      "(60000, 1, 1, 512)\n",
      "(10000, 1, 1, 512)\n"
     ]
    }
   ],
   "source": [
    "# load features extracted using FloydHub\n",
    "\n",
    "feature_train = np.load('feature_train.npy')\n",
    "feature_test = np.load('feature_test.npy')\n",
    "\n",
    "print(feature_train.shape)\n",
    "print(feature_test.shape)"
   ]
  },
  {
   "cell_type": "code",
   "execution_count": null,
   "metadata": {
    "collapsed": true
   },
   "outputs": [],
   "source": []
  },
  {
   "cell_type": "code",
   "execution_count": 21,
   "metadata": {},
   "outputs": [
    {
     "name": "stdout",
     "output_type": "stream",
     "text": [
      "_________________________________________________________________\n",
      "Layer (type)                 Output Shape              Param #   \n",
      "=================================================================\n",
      "flatten_2 (Flatten)          (None, 512)               0         \n",
      "_________________________________________________________________\n",
      "dense_8 (Dense)              (None, 256)               131328    \n",
      "_________________________________________________________________\n",
      "dropout_4 (Dropout)          (None, 256)               0         \n",
      "_________________________________________________________________\n",
      "dense_9 (Dense)              (None, 10)                2570      \n",
      "=================================================================\n",
      "Total params: 133,898\n",
      "Trainable params: 133,898\n",
      "Non-trainable params: 0\n",
      "_________________________________________________________________\n"
     ]
    }
   ],
   "source": [
    "# load the data without reshaping\n",
    "\n",
    "feature_train = np.load('feature_train.npy')\n",
    "feature_test = np.load('feature_test.npy')\n",
    "\n",
    "# create the simple linear model that will be fed with extracted features \n",
    "\n",
    "new_model = Sequential()\n",
    "\n",
    "# input_shape is the image/feature shape \n",
    "new_model.add(Flatten(input_shape = (1, 1, 512)))\n",
    "\n",
    "new_model.add(Dense(256, activation = 'relu', input_shape = (512, )))\n",
    "new_model.add(Dropout(0.5))\n",
    "new_model.add(Dense(10, activation = 'softmax'))\n",
    "\n",
    "new_model.summary()"
   ]
  },
  {
   "cell_type": "code",
   "execution_count": 22,
   "metadata": {
    "collapsed": true
   },
   "outputs": [
    {
     "name": "stdout",
     "output_type": "stream",
     "text": [
      "Train on 60000 samples, validate on 10000 samples\n",
      "Epoch 1/30\n",
      "60000/60000 [==============================] - 7s 115us/step - loss: 0.3908 - acc: 0.8829 - val_loss: 0.1429 - val_acc: 0.9585\n",
      "Epoch 2/30\n",
      "60000/60000 [==============================] - 6s 98us/step - loss: 0.1700 - acc: 0.9471 - val_loss: 0.1123 - val_acc: 0.9674\n",
      "Epoch 3/30\n",
      "60000/60000 [==============================] - 6s 96us/step - loss: 0.1400 - acc: 0.9562 - val_loss: 0.1190 - val_acc: 0.9621\n",
      "Epoch 4/30\n",
      "60000/60000 [==============================] - 6s 108us/step - loss: 0.1241 - acc: 0.9606 - val_loss: 0.0869 - val_acc: 0.9726\n",
      "Epoch 5/30\n",
      "60000/60000 [==============================] - 5s 91us/step - loss: 0.1138 - acc: 0.9636 - val_loss: 0.0840 - val_acc: 0.9727\n",
      "Epoch 6/30\n",
      "60000/60000 [==============================] - 5s 92us/step - loss: 0.1063 - acc: 0.9659 - val_loss: 0.0770 - val_acc: 0.9766\n",
      "Epoch 7/30\n",
      "60000/60000 [==============================] - 5s 90us/step - loss: 0.1013 - acc: 0.9674 - val_loss: 0.0772 - val_acc: 0.9751\n",
      "Epoch 8/30\n",
      "60000/60000 [==============================] - 5s 81us/step - loss: 0.0978 - acc: 0.9681 - val_loss: 0.0776 - val_acc: 0.9758\n",
      "Epoch 9/30\n",
      "60000/60000 [==============================] - 5s 86us/step - loss: 0.0921 - acc: 0.9701 - val_loss: 0.0732 - val_acc: 0.9766\n",
      "Epoch 10/30\n",
      "60000/60000 [==============================] - 5s 76us/step - loss: 0.0901 - acc: 0.9705 - val_loss: 0.0735 - val_acc: 0.9771\n",
      "Epoch 11/30\n",
      "60000/60000 [==============================] - 5s 76us/step - loss: 0.0875 - acc: 0.9715 - val_loss: 0.0697 - val_acc: 0.9780\n",
      "Epoch 12/30\n",
      "60000/60000 [==============================] - 5s 77us/step - loss: 0.0850 - acc: 0.9725 - val_loss: 0.0689 - val_acc: 0.9772\n",
      "Epoch 13/30\n",
      "60000/60000 [==============================] - 5s 85us/step - loss: 0.0810 - acc: 0.9737 - val_loss: 0.0700 - val_acc: 0.9774\n",
      "Epoch 14/30\n",
      "60000/60000 [==============================] - 5s 88us/step - loss: 0.0822 - acc: 0.9730 - val_loss: 0.0721 - val_acc: 0.9778\n",
      "Epoch 15/30\n",
      "60000/60000 [==============================] - 5s 80us/step - loss: 0.0787 - acc: 0.9742 - val_loss: 0.0686 - val_acc: 0.9775\n",
      "Epoch 16/30\n",
      "60000/60000 [==============================] - 5s 79us/step - loss: 0.0779 - acc: 0.9746 - val_loss: 0.0677 - val_acc: 0.9786\n",
      "Epoch 17/30\n",
      "60000/60000 [==============================] - 5s 77us/step - loss: 0.0745 - acc: 0.9754 - val_loss: 0.0686 - val_acc: 0.9776\n",
      "Epoch 18/30\n",
      "60000/60000 [==============================] - 5s 77us/step - loss: 0.0746 - acc: 0.9755 - val_loss: 0.0646 - val_acc: 0.9797\n",
      "Epoch 19/30\n",
      "60000/60000 [==============================] - 5s 77us/step - loss: 0.0722 - acc: 0.9757 - val_loss: 0.0708 - val_acc: 0.9776\n",
      "Epoch 20/30\n",
      "60000/60000 [==============================] - 5s 83us/step - loss: 0.0703 - acc: 0.9770 - val_loss: 0.0642 - val_acc: 0.9810\n",
      "Epoch 21/30\n",
      "60000/60000 [==============================] - 6s 94us/step - loss: 0.0703 - acc: 0.9770 - val_loss: 0.0651 - val_acc: 0.9796\n",
      "Epoch 22/30\n",
      "60000/60000 [==============================] - 6s 102us/step - loss: 0.0676 - acc: 0.9774 - val_loss: 0.0644 - val_acc: 0.9790\n",
      "Epoch 23/30\n",
      "60000/60000 [==============================] - 6s 104us/step - loss: 0.0670 - acc: 0.9780 - val_loss: 0.0759 - val_acc: 0.9775\n",
      "Epoch 24/30\n",
      "60000/60000 [==============================] - 6s 102us/step - loss: 0.0668 - acc: 0.9779 - val_loss: 0.0642 - val_acc: 0.9812\n",
      "Epoch 25/30\n",
      "60000/60000 [==============================] - 6s 103us/step - loss: 0.0653 - acc: 0.9782 - val_loss: 0.0629 - val_acc: 0.9808\n",
      "Epoch 26/30\n",
      "60000/60000 [==============================] - 6s 103us/step - loss: 0.0635 - acc: 0.9789 - val_loss: 0.0697 - val_acc: 0.9804\n",
      "Epoch 27/30\n",
      "60000/60000 [==============================] - 6s 99us/step - loss: 0.0618 - acc: 0.9800 - val_loss: 0.0670 - val_acc: 0.9802\n",
      "Epoch 28/30\n",
      "60000/60000 [==============================] - 6s 96us/step - loss: 0.0621 - acc: 0.9795 - val_loss: 0.0650 - val_acc: 0.9807\n",
      "Epoch 29/30\n",
      "60000/60000 [==============================] - 6s 102us/step - loss: 0.0613 - acc: 0.9793 - val_loss: 0.0668 - val_acc: 0.9816\n",
      "Epoch 30/30\n",
      "60000/60000 [==============================] - 6s 102us/step - loss: 0.0616 - acc: 0.9794 - val_loss: 0.0704 - val_acc: 0.9796\n"
     ]
    }
   ],
   "source": [
    "\n",
    "# model compile \n",
    "new_model.compile(optimizer = 'adam', loss = 'categorical_crossentropy', metrics = ['accuracy'])\n",
    "\n",
    "# model fitting \n",
    "# - x_train in the original model.fit has to be of (num_exampels, nrows, ncols, nchannels)\n",
    "# - now only the Dense layer is trained, x_trian's size should match this requiremnt \n",
    "\n",
    "history = new_model.fit(feature_train, y_train, batch_size = batch_size, \n",
    "                        epochs = epochs, validation_data = (feature_test, y_test))\n"
   ]
  },
  {
   "cell_type": "code",
   "execution_count": 23,
   "metadata": {},
   "outputs": [
    {
     "name": "stdout",
     "output_type": "stream",
     "text": [
      "10000/10000 [==============================] - 0s 32us/step\n"
     ]
    },
    {
     "data": {
      "text/plain": [
       "[0.07039157128121806, 0.9796]"
      ]
     },
     "execution_count": 23,
     "metadata": {},
     "output_type": "execute_result"
    }
   ],
   "source": [
    "new_model.evaluate(feature_test, y_test)"
   ]
  },
  {
   "cell_type": "code",
   "execution_count": null,
   "metadata": {
    "collapsed": true
   },
   "outputs": [],
   "source": []
  },
  {
   "cell_type": "markdown",
   "metadata": {},
   "source": [
    "#### reshaped feature data "
   ]
  },
  {
   "cell_type": "code",
   "execution_count": 25,
   "metadata": {
    "collapsed": true
   },
   "outputs": [
    {
     "name": "stdout",
     "output_type": "stream",
     "text": [
      "_________________________________________________________________\n",
      "Layer (type)                 Output Shape              Param #   \n",
      "=================================================================\n",
      "dense_12 (Dense)             (None, 256)               131328    \n",
      "_________________________________________________________________\n",
      "dropout_6 (Dropout)          (None, 256)               0         \n",
      "_________________________________________________________________\n",
      "dense_13 (Dense)             (None, 10)                2570      \n",
      "=================================================================\n",
      "Total params: 133,898\n",
      "Trainable params: 133,898\n",
      "Non-trainable params: 0\n",
      "_________________________________________________________________\n",
      "None\n",
      "Train on 60000 samples, validate on 10000 samples\n",
      "Epoch 1/30\n",
      "60000/60000 [==============================] - 6s 104us/step - loss: 0.3822 - acc: 0.8853 - val_loss: 0.1357 - val_acc: 0.9603\n",
      "Epoch 2/30\n",
      "60000/60000 [==============================] - 6s 95us/step - loss: 0.1662 - acc: 0.9477 - val_loss: 0.1120 - val_acc: 0.9651\n",
      "Epoch 3/30\n",
      "60000/60000 [==============================] - 6s 108us/step - loss: 0.1380 - acc: 0.9560 - val_loss: 0.0944 - val_acc: 0.9710\n",
      "Epoch 4/30\n",
      "60000/60000 [==============================] - 6s 104us/step - loss: 0.1234 - acc: 0.9609 - val_loss: 0.0917 - val_acc: 0.9720\n",
      "Epoch 5/30\n",
      "60000/60000 [==============================] - 7s 110us/step - loss: 0.1139 - acc: 0.9635 - val_loss: 0.0854 - val_acc: 0.9736\n",
      "Epoch 6/30\n",
      "60000/60000 [==============================] - 6s 103us/step - loss: 0.1055 - acc: 0.9662 - val_loss: 0.0780 - val_acc: 0.9763\n",
      "Epoch 7/30\n",
      "60000/60000 [==============================] - 6s 98us/step - loss: 0.1025 - acc: 0.9666 - val_loss: 0.0792 - val_acc: 0.9749\n",
      "Epoch 8/30\n",
      "60000/60000 [==============================] - 6s 103us/step - loss: 0.0940 - acc: 0.9701 - val_loss: 0.0758 - val_acc: 0.9751\n",
      "Epoch 9/30\n",
      "60000/60000 [==============================] - 6s 100us/step - loss: 0.0939 - acc: 0.9694 - val_loss: 0.0786 - val_acc: 0.9759\n",
      "Epoch 10/30\n",
      "60000/60000 [==============================] - 6s 104us/step - loss: 0.0914 - acc: 0.9698 - val_loss: 0.0781 - val_acc: 0.9757\n",
      "Epoch 11/30\n",
      "60000/60000 [==============================] - 7s 109us/step - loss: 0.0868 - acc: 0.9718 - val_loss: 0.0702 - val_acc: 0.9784\n",
      "Epoch 12/30\n",
      "60000/60000 [==============================] - 6s 105us/step - loss: 0.0872 - acc: 0.9713 - val_loss: 0.0679 - val_acc: 0.9791\n",
      "Epoch 13/30\n",
      "60000/60000 [==============================] - 6s 108us/step - loss: 0.0832 - acc: 0.9731 - val_loss: 0.0739 - val_acc: 0.9782\n",
      "Epoch 14/30\n",
      "60000/60000 [==============================] - 6s 102us/step - loss: 0.0807 - acc: 0.9735 - val_loss: 0.0709 - val_acc: 0.9784\n",
      "Epoch 15/30\n",
      "60000/60000 [==============================] - 6s 105us/step - loss: 0.0796 - acc: 0.9738 - val_loss: 0.0688 - val_acc: 0.9809\n",
      "Epoch 16/30\n",
      "60000/60000 [==============================] - 6s 103us/step - loss: 0.0768 - acc: 0.9749 - val_loss: 0.0693 - val_acc: 0.9789\n",
      "Epoch 17/30\n",
      "60000/60000 [==============================] - 6s 102us/step - loss: 0.0744 - acc: 0.9754 - val_loss: 0.0684 - val_acc: 0.9803\n",
      "Epoch 18/30\n",
      "60000/60000 [==============================] - 6s 108us/step - loss: 0.0728 - acc: 0.9763 - val_loss: 0.0631 - val_acc: 0.9808\n",
      "Epoch 19/30\n",
      "60000/60000 [==============================] - 7s 115us/step - loss: 0.0724 - acc: 0.9762 - val_loss: 0.0668 - val_acc: 0.9808\n",
      "Epoch 20/30\n",
      "60000/60000 [==============================] - 7s 118us/step - loss: 0.0691 - acc: 0.9771 - val_loss: 0.0716 - val_acc: 0.9786\n",
      "Epoch 21/30\n",
      "60000/60000 [==============================] - 6s 105us/step - loss: 0.0706 - acc: 0.9770 - val_loss: 0.0707 - val_acc: 0.9773\n",
      "Epoch 22/30\n",
      "60000/60000 [==============================] - 7s 112us/step - loss: 0.0674 - acc: 0.9783 - val_loss: 0.0661 - val_acc: 0.9805\n",
      "Epoch 23/30\n",
      "60000/60000 [==============================] - 7s 109us/step - loss: 0.0669 - acc: 0.9774 - val_loss: 0.0683 - val_acc: 0.9798: 1s - los\n",
      "Epoch 24/30\n",
      "60000/60000 [==============================] - 7s 109us/step - loss: 0.0666 - acc: 0.9785 - val_loss: 0.0650 - val_acc: 0.9808\n",
      "Epoch 25/30\n",
      "60000/60000 [==============================] - 7s 113us/step - loss: 0.0638 - acc: 0.9792 - val_loss: 0.0657 - val_acc: 0.9810\n",
      "Epoch 26/30\n",
      "60000/60000 [==============================] - 7s 111us/step - loss: 0.0648 - acc: 0.9787 - val_loss: 0.0666 - val_acc: 0.9809\n",
      "Epoch 27/30\n",
      "60000/60000 [==============================] - 7s 108us/step - loss: 0.0614 - acc: 0.9793 - val_loss: 0.0717 - val_acc: 0.9788\n",
      "Epoch 28/30\n",
      "60000/60000 [==============================] - 7s 110us/step - loss: 0.0621 - acc: 0.9792 - val_loss: 0.0689 - val_acc: 0.9805\n",
      "Epoch 29/30\n",
      "60000/60000 [==============================] - 7s 115us/step - loss: 0.0596 - acc: 0.9800 - val_loss: 0.0630 - val_acc: 0.9824\n",
      "Epoch 30/30\n",
      "60000/60000 [==============================] - 6s 100us/step - loss: 0.0599 - acc: 0.9803 - val_loss: 0.0636 - val_acc: 0.9819\n"
     ]
    }
   ],
   "source": [
    "# reshaping the feature data is like flattening the input. Therefore, flatten layer is not needed again \n",
    "\n",
    "flatten_train = feature_train.reshape((feature_train.shape[0], 512))\n",
    "flatten_test = feature_test.reshape((feature_test.shape[0], 512))\n",
    "\n",
    "# create the simple linear model that will be fed with extracted features \n",
    "\n",
    "reshape_feature_model = Sequential()\n",
    "\n",
    "# input_shape is the image/feature shape \n",
    "# new_model.add(Flatten(input_shape = (1, 1, 512)))\n",
    "\n",
    "reshape_feature_model.add(Dense(256, activation = 'relu', input_shape = (512, )))\n",
    "reshape_feature_model.add(Dropout(0.5))\n",
    "reshape_feature_model.add(Dense(10, activation = 'softmax'))\n",
    "\n",
    "print (reshape_feature_model.summary())\n",
    "\n",
    "\n",
    "# model compile \n",
    "reshape_feature_model.compile(optimizer = 'adam', loss = 'categorical_crossentropy', metrics = ['accuracy'])\n",
    "\n",
    "# model fitting \n",
    "# - x_train in the original model.fit has to be of (num_exampels, nrows, ncols, nchannels)\n",
    "# - now only the Dense layer is trained, x_trian's size should match this requiremnt \n",
    "\n",
    "history = reshape_feature_model.fit(flatten_train, y_train, batch_size = batch_size, \n",
    "                        epochs = epochs, validation_data = (flatten_test, y_test))\n"
   ]
  },
  {
   "cell_type": "code",
   "execution_count": 26,
   "metadata": {},
   "outputs": [
    {
     "name": "stdout",
     "output_type": "stream",
     "text": [
      "10000/10000 [==============================] - 0s 34us/step\n"
     ]
    },
    {
     "data": {
      "text/plain": [
       "[0.06362211907025193, 0.9819]"
      ]
     },
     "execution_count": 26,
     "metadata": {},
     "output_type": "execute_result"
    }
   ],
   "source": [
    "reshape_feature_model.evaluate(flatten_test, y_test)"
   ]
  },
  {
   "cell_type": "code",
   "execution_count": null,
   "metadata": {
    "collapsed": true
   },
   "outputs": [],
   "source": []
  },
  {
   "cell_type": "code",
   "execution_count": 20,
   "metadata": {},
   "outputs": [
    {
     "name": "stdout",
     "output_type": "stream",
     "text": [
      "10000/10000 [==============================] - 0s 34us/step\n"
     ]
    },
    {
     "data": {
      "text/plain": [
       "[0.06543155931796063, 0.9812]"
      ]
     },
     "execution_count": 20,
     "metadata": {},
     "output_type": "execute_result"
    }
   ],
   "source": [
    "# # save trained model weights \n",
    "\n",
    "# new_model.save_weights('vgg_feature_extractor.h5')\n",
    "\n",
    "# # load weights for model evaluation \n",
    "# new_model.load_weights('vgg_feature_extractor.h5')\n",
    "\n",
    "new_model.evaluate(feature_test, y_test)"
   ]
  },
  {
   "cell_type": "markdown",
   "metadata": {},
   "source": [
    "#### technically new_model and reshape_feature_model should have similar performance ?"
   ]
  },
  {
   "cell_type": "code",
   "execution_count": null,
   "metadata": {
    "collapsed": true
   },
   "outputs": [],
   "source": []
  },
  {
   "cell_type": "code",
   "execution_count": null,
   "metadata": {
    "collapsed": true
   },
   "outputs": [],
   "source": []
  },
  {
   "cell_type": "markdown",
   "metadata": {},
   "source": [
    "### training results "
   ]
  },
  {
   "cell_type": "code",
   "execution_count": 27,
   "metadata": {},
   "outputs": [
    {
     "name": "stdout",
     "output_type": "stream",
     "text": [
      "dict_keys(['val_loss', 'val_acc', 'loss', 'acc'])\n"
     ]
    },
    {
     "data": {
      "text/plain": [
       "Text(0.5,1,'Training and Testing loss')"
      ]
     },
     "execution_count": 27,
     "metadata": {},
     "output_type": "execute_result"
    },
    {
     "data": {
      "image/png": "[encoded data removed]",
      "text/plain": [
       "<Figure size 1008x360 with 2 Axes>"
      ]
     },
     "metadata": {},
     "output_type": "display_data"
    }
   ],
   "source": [
    "print (history.history.keys())\n",
    "\n",
    "train_acc = history.history['acc']\n",
    "train_loss = history.history['loss']\n",
    "val_acc = history.history['val_acc']\n",
    "val_loss = history.history['val_loss']\n",
    "\n",
    "\n",
    "fig = plt.figure(figsize = (14, 5))\n",
    "fig.add_subplot(1, 2, 1)\n",
    "epochs = range(1, len(train_acc) + 1)\n",
    "plt.plot(epochs, train_acc, 'bo', label = 'Training accuracy')\n",
    "plt.plot(epochs, val_acc, 'b-', label = 'Validation accurcy')\n",
    "plt.legend()\n",
    "plt.title('Training and Testing accuracy')\n",
    "\n",
    "fig.add_subplot(1, 2, 2)\n",
    "epochs = range(1, len(train_acc) + 1)\n",
    "plt.plot(epochs, train_loss, 'bo', label = 'Training loss')\n",
    "plt.plot(epochs, val_loss, 'b-', label = 'Validation loss')\n",
    "plt.legend()\n",
    "plt.title('Training and Testing loss')"
   ]
  },
  {
   "cell_type": "code",
   "execution_count": null,
   "metadata": {
    "collapsed": true
   },
   "outputs": [],
   "source": [
    "\n"
   ]
  },
  {
   "cell_type": "markdown",
   "metadata": {},
   "source": [
    "## VGG16 as feature extractor & feed the features to the top layer repalced VGG\n",
    "\n",
    "with data augmentation and adapting learning rate "
   ]
  },
  {
   "cell_type": "code",
   "execution_count": 11,
   "metadata": {},
   "outputs": [
    {
     "name": "stdout",
     "output_type": "stream",
     "text": [
      "_________________________________________________________________\n",
      "Layer (type)                 Output Shape              Param #   \n",
      "=================================================================\n",
      "input_2 (InputLayer)         (None, 56, 56, 3)         0         \n",
      "_________________________________________________________________\n",
      "block1_conv1 (Conv2D)        (None, 56, 56, 64)        1792      \n",
      "_________________________________________________________________\n",
      "block1_conv2 (Conv2D)        (None, 56, 56, 64)        36928     \n",
      "_________________________________________________________________\n",
      "block1_pool (MaxPooling2D)   (None, 28, 28, 64)        0         \n",
      "_________________________________________________________________\n",
      "block2_conv1 (Conv2D)        (None, 28, 28, 128)       73856     \n",
      "_________________________________________________________________\n",
      "block2_conv2 (Conv2D)        (None, 28, 28, 128)       147584    \n",
      "_________________________________________________________________\n",
      "block2_pool (MaxPooling2D)   (None, 14, 14, 128)       0         \n",
      "_________________________________________________________________\n",
      "block3_conv1 (Conv2D)        (None, 14, 14, 256)       295168    \n",
      "_________________________________________________________________\n",
      "block3_conv2 (Conv2D)        (None, 14, 14, 256)       590080    \n",
      "_________________________________________________________________\n",
      "block3_conv3 (Conv2D)        (None, 14, 14, 256)       590080    \n",
      "_________________________________________________________________\n",
      "block3_pool (MaxPooling2D)   (None, 7, 7, 256)         0         \n",
      "_________________________________________________________________\n",
      "block4_conv1 (Conv2D)        (None, 7, 7, 512)         1180160   \n",
      "_________________________________________________________________\n",
      "block4_conv2 (Conv2D)        (None, 7, 7, 512)         2359808   \n",
      "_________________________________________________________________\n",
      "block4_conv3 (Conv2D)        (None, 7, 7, 512)         2359808   \n",
      "_________________________________________________________________\n",
      "block4_pool (MaxPooling2D)   (None, 3, 3, 512)         0         \n",
      "_________________________________________________________________\n",
      "block5_conv1 (Conv2D)        (None, 3, 3, 512)         2359808   \n",
      "_________________________________________________________________\n",
      "block5_conv2 (Conv2D)        (None, 3, 3, 512)         2359808   \n",
      "_________________________________________________________________\n",
      "block5_conv3 (Conv2D)        (None, 3, 3, 512)         2359808   \n",
      "_________________________________________________________________\n",
      "block5_pool (MaxPooling2D)   (None, 1, 1, 512)         0         \n",
      "=================================================================\n",
      "Total params: 14,714,688\n",
      "Trainable params: 14,714,688\n",
      "Non-trainable params: 0\n",
      "_________________________________________________________________\n"
     ]
    }
   ],
   "source": [
    "conv_base = VGG16(weights = 'imagenet', include_top = False, input_shape = (56, 56, 3))\n",
    "conv_base.summary()"
   ]
  },
  {
   "cell_type": "code",
   "execution_count": 43,
   "metadata": {},
   "outputs": [
    {
     "name": "stdout",
     "output_type": "stream",
     "text": [
      "(60000, 10)\n",
      "(60000, 56, 56, 3)\n"
     ]
    }
   ],
   "source": [
    "# load the preprocessed MNIST data (56, 56, 3)\n",
    "\n",
    "x_train = np.load('x_train.npy')\n",
    "x_test = np.load('x_test.npy')\n",
    "y_train = np.load('y_train.npy')\n",
    "y_test = np.load('y_test.npy')\n",
    "\n",
    "print(y_train.shape)\n",
    "print(x_train.shape)"
   ]
  },
  {
   "cell_type": "code",
   "execution_count": 12,
   "metadata": {},
   "outputs": [
    {
     "name": "stdout",
     "output_type": "stream",
     "text": [
      "_________________________________________________________________\n",
      "Layer (type)                 Output Shape              Param #   \n",
      "=================================================================\n",
      "vgg16 (Model)                (None, 1, 1, 512)         14714688  \n",
      "_________________________________________________________________\n",
      "flatten_1 (Flatten)          (None, 512)               0         \n",
      "_________________________________________________________________\n",
      "dense_1 (Dense)              (None, 256)               131328    \n",
      "_________________________________________________________________\n",
      "dropout_1 (Dropout)          (None, 256)               0         \n",
      "_________________________________________________________________\n",
      "dense_2 (Dense)              (None, 10)                2570      \n",
      "=================================================================\n",
      "Total params: 14,848,586\n",
      "Trainable params: 14,848,586\n",
      "Non-trainable params: 0\n",
      "_________________________________________________________________\n"
     ]
    }
   ],
   "source": [
    "# stack the Dense layer on top of top layer removed VGG16\n",
    "\n",
    "replaced_model = Sequential()\n",
    "\n",
    "replaced_model.add(conv_base)\n",
    "replaced_model.add(Flatten())\n",
    "replaced_model.add(Dense(256, activation = 'relu'))\n",
    "replaced_model.add(Dropout(0.5))\n",
    "replaced_model.add(Dense(10, activation = 'softmax'))\n",
    "\n",
    "replaced_model.summary()"
   ]
  },
  {
   "cell_type": "code",
   "execution_count": 13,
   "metadata": {},
   "outputs": [
    {
     "name": "stdout",
     "output_type": "stream",
     "text": [
      "number of trainable weight matrics before freezing: 30\n",
      "number of trainable weight matrics after freezing: 4\n"
     ]
    }
   ],
   "source": [
    "print ('number of trainable weight matrics before freezing:', len(replaced_model.trainable_weights))\n",
    "\n",
    "conv_base.trainable = False\n",
    "\n",
    "print ('number of trainable weight matrics after freezing:', len(replaced_model.trainable_weights))\n"
   ]
  },
  {
   "cell_type": "code",
   "execution_count": null,
   "metadata": {
    "collapsed": true
   },
   "outputs": [],
   "source": []
  },
  {
   "cell_type": "markdown",
   "metadata": {},
   "source": [
    "#### Data augmentation & Adapting learning rate "
   ]
  },
  {
   "cell_type": "code",
   "execution_count": 14,
   "metadata": {
    "collapsed": true
   },
   "outputs": [],
   "source": [
    "from keras.preprocessing.image import ImageDataGenerator\n",
    "from keras import optimizers "
   ]
  },
  {
   "cell_type": "code",
   "execution_count": 15,
   "metadata": {
    "collapsed": true
   },
   "outputs": [],
   "source": [
    "# ImageDataGenerator - Generates batches of tensor image data with real-time data augmentation, augmented data is looped in BATCHS\n",
    "\n",
    "train_datagen = ImageDataGenerator(# rescale = 1./255,\n",
    "    rotation_range = 40,\n",
    "    width_shift_range = 0.2,\n",
    "    height_shift_range = 0.2,\n",
    "    shear_range = 0.2,\n",
    "    zoom_range = 0.2,\n",
    "    horizontal_flip = True,\n",
    "    fill_mode = 'nearest'\n",
    ")\n",
    "\n",
    "# testing data shouldn't be augmented\n",
    "test_datagen = ImageDataGenerator()\n",
    "\n",
    "# Compute the internal data stats related to the data-dependent transformations, based on an array of sample data. \n",
    "# Only required if featurewise_center or featurewise_std_normalization or zca_whitening.\n",
    "\n",
    "# train_datagen.fit(x_train)\n",
    "# test_datagen.fit(x_test)"
   ]
  },
  {
   "cell_type": "code",
   "execution_count": null,
   "metadata": {
    "collapsed": true
   },
   "outputs": [],
   "source": []
  },
  {
   "cell_type": "code",
   "execution_count": null,
   "metadata": {},
   "outputs": [
    {
     "name": "stdout",
     "output_type": "stream",
     "text": [
      "Epoch 1/5\n",
      "1266/1875 [===================>..........] - ETA: 101s - loss: 2.3015 - acc: 0.1125"
     ]
    }
   ],
   "source": [
    "from keras.callbacks import ReduceLROnPlateau, CSVLogger, EarlyStopping\n",
    "\n",
    "# define Callback functions which will be called by model during runtime when specified conditions are satisfied\n",
    "\n",
    "# ReduceLROnPlateau - Reduce learning rate when a metric has stopped improving\n",
    "lr_reducer = ReduceLROnPlateau(factor = np.sqrt(0.1), #  new_lr = lr * factor\n",
    "                               cooldown = 0, # number of epochs to wait before resuming normal operation after lr has been reduced.\n",
    "                               patience = 2, min_lr = 0.5e-6)\n",
    "csv_logger = CSVLogger('./vgg16imagenetpretrained_mnist0_data_argumentation.csv')\n",
    "early_stopper = EarlyStopping(min_delta = 0.001, patience = 10)\n",
    "\n",
    "opt = optimizers.rmsprop(lr = 0.0001, decay = 1e-6)\n",
    "\n",
    "# model compilation \n",
    "replaced_model.compile(loss = 'categorical_crossentropy', optimizer = 'adam', metrics = ['accuracy'])\n",
    "\n",
    "\n",
    "# model fitting\n",
    "batch_size = 32\n",
    "epochs = 5\n",
    "\n",
    "# fit_generator - Fits the model on data generated batch-by-batch by a Python generator\n",
    "# train_datagen.flow - flow method takes numpy data & label arrays and generates batches of augmented/normalized data.\n",
    "history = replaced_model.fit_generator(train_datagen.flow(x_train, y_train, batch_size = batch_size), \n",
    "                             steps_per_epoch = len(x_train)// batch_size, \n",
    "                                       epochs = epochs, validation_data = (x_test, y_test),\n",
    "                                      callbacks = [lr_reducer, early_stopper, csv_logger])"
   ]
  },
  {
   "cell_type": "code",
   "execution_count": null,
   "metadata": {
    "collapsed": true
   },
   "outputs": [],
   "source": [
    "replaced_model.save_weights(\"mnist_adam_vgg_lr_reducer.h5\")"
   ]
  },
  {
   "cell_type": "code",
   "execution_count": null,
   "metadata": {
    "collapsed": true
   },
   "outputs": [],
   "source": []
  },
  {
   "cell_type": "code",
   "execution_count": null,
   "metadata": {
    "collapsed": true
   },
   "outputs": [],
   "source": []
  },
  {
   "cell_type": "code",
   "execution_count": null,
   "metadata": {
    "collapsed": true
   },
   "outputs": [],
   "source": []
  },
  {
   "cell_type": "code",
   "execution_count": null,
   "metadata": {
    "collapsed": true
   },
   "outputs": [],
   "source": []
  },
  {
   "cell_type": "code",
   "execution_count": null,
   "metadata": {
    "collapsed": true
   },
   "outputs": [],
   "source": [
    "# Freeze the layers which you don't want to train. Here I am freezing the first 5 layers.\n",
    "for layer in model.layers[:5]:\n",
    "    layer.trainable = False\n",
    "\n",
    "#Adding custom Layers \n",
    "x = model.output\n",
    "x = Flatten()(x)\n",
    "x = Dense(1024, activation=\"relu\")(x)\n",
    "x = Dropout(0.5)(x)\n",
    "x = Dense(1024, activation=\"relu\")(x)\n",
    "predictions = Dense(16, activation=\"softmax\")(x)\n",
    "\n",
    "# creating the final model \n",
    "model_final = Model(input = model.input, output = predictions)\n",
    "\n",
    "# compile the model \n",
    "model_final.compile(loss = \"categorical_crossentropy\", optimizer = optimizers.SGD(lr=0.0001, momentum=0.9), metrics=[\"accuracy\"])\n",
    "\n",
    "# Initiate the train and test generators with data Augumentation \n",
    "train_datagen = ImageDataGenerator(\n",
    "rescale = 1./255,\n",
    "horizontal_flip = True,\n",
    "fill_mode = \"nearest\",\n",
    "zoom_range = 0.3,\n",
    "width_shift_range = 0.3,\n",
    "height_shift_range=0.3,\n",
    "rotation_range=30)\n",
    "\n",
    "test_datagen = ImageDataGenerator(\n",
    "rescale = 1./255,\n",
    "horizontal_flip = True,\n",
    "fill_mode = \"nearest\",\n",
    "zoom_range = 0.3,\n",
    "width_shift_range = 0.3,\n",
    "height_shift_range=0.3,\n",
    "rotation_range=30)\n",
    "\n",
    "train_generator = train_datagen.flow_from_directory(\n",
    "train_data_dir,\n",
    "target_size = (img_height, img_width),\n",
    "batch_size = batch_size, \n",
    "class_mode = \"categorical\")\n",
    "\n",
    "validation_generator = test_datagen.flow_from_directory(\n",
    "validation_data_dir,\n",
    "target_size = (img_height, img_width),\n",
    "class_mode = \"categorical\")\n",
    "\n",
    "# Save the model according to the conditions  \n",
    "checkpoint = ModelCheckpoint(\"vgg16_1.h5\", monitor='val_acc', verbose=1, save_best_only=True, save_weights_only=False, mode='auto', period=1)\n",
    "early = EarlyStopping(monitor='val_acc', min_delta=0, patience=10, verbose=1, mode='auto')\n",
    "\n",
    "\n",
    "# Train the model \n",
    "model_final.fit_generator(\n",
    "train_generator,\n",
    "samples_per_epoch = nb_train_samples,\n",
    "epochs = epochs,\n",
    "validation_data = validation_generator,\n",
    "nb_val_samples = nb_validation_samples,\n",
    "callbacks = [checkpoint, early])\n",
    "\n"
   ]
  },
  {
   "cell_type": "code",
   "execution_count": null,
   "metadata": {
    "collapsed": true
   },
   "outputs": [],
   "source": []
  }
 ],
 "metadata": {
  "kernelspec": {
   "display_name": "Python 3",
   "language": "python",
   "name": "python3"
  },
  "language_info": {
   "codemirror_mode": {
    "name": "ipython",
    "version": 3
   },
   "file_extension": ".py",
   "mimetype": "text/x-python",
   "name": "python",
   "nbconvert_exporter": "python",
   "pygments_lexer": "ipython3",
   "version": "3.5.3"
  }
 },
 "nbformat": 4,
 "nbformat_minor": 2
}
