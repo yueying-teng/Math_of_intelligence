{
 "cells": [
  {
   "cell_type": "code",
   "execution_count": 1,
   "metadata": {
    "collapsed": true
   },
   "outputs": [],
   "source": [
    "import matplotlib.pyplot as plt\n",
    "%matplotlib inline \n",
    "\n",
    "import numpy as np\n",
    "import pandas as pd"
   ]
  },
  {
   "cell_type": "code",
   "execution_count": 6,
   "metadata": {},
   "outputs": [
    {
     "data": {
      "text/html": [
       "<div>\n",
       "<style>\n",
       "    .dataframe thead tr:only-child th {\n",
       "        text-align: right;\n",
       "    }\n",
       "\n",
       "    .dataframe thead th {\n",
       "        text-align: left;\n",
       "    }\n",
       "\n",
       "    .dataframe tbody tr th {\n",
       "        vertical-align: top;\n",
       "    }\n",
       "</style>\n",
       "<table border=\"1\" class=\"dataframe\">\n",
       "  <thead>\n",
       "    <tr style=\"text-align: right;\">\n",
       "      <th></th>\n",
       "      <th>0</th>\n",
       "      <th>1</th>\n",
       "      <th>2</th>\n",
       "      <th>3</th>\n",
       "      <th>4</th>\n",
       "      <th>5</th>\n",
       "      <th>6</th>\n",
       "      <th>7</th>\n",
       "    </tr>\n",
       "  </thead>\n",
       "  <tbody>\n",
       "    <tr>\n",
       "      <th>0</th>\n",
       "      <td>15.26</td>\n",
       "      <td>14.84</td>\n",
       "      <td>0.8710</td>\n",
       "      <td>5.763</td>\n",
       "      <td>3.312</td>\n",
       "      <td>2.221</td>\n",
       "      <td>5.220</td>\n",
       "      <td>1</td>\n",
       "    </tr>\n",
       "    <tr>\n",
       "      <th>1</th>\n",
       "      <td>14.88</td>\n",
       "      <td>14.57</td>\n",
       "      <td>0.8811</td>\n",
       "      <td>5.554</td>\n",
       "      <td>3.333</td>\n",
       "      <td>1.018</td>\n",
       "      <td>4.956</td>\n",
       "      <td>1</td>\n",
       "    </tr>\n",
       "    <tr>\n",
       "      <th>2</th>\n",
       "      <td>14.29</td>\n",
       "      <td>14.09</td>\n",
       "      <td>0.9050</td>\n",
       "      <td>5.291</td>\n",
       "      <td>3.337</td>\n",
       "      <td>2.699</td>\n",
       "      <td>4.825</td>\n",
       "      <td>1</td>\n",
       "    </tr>\n",
       "    <tr>\n",
       "      <th>3</th>\n",
       "      <td>13.84</td>\n",
       "      <td>13.94</td>\n",
       "      <td>0.8955</td>\n",
       "      <td>5.324</td>\n",
       "      <td>3.379</td>\n",
       "      <td>2.259</td>\n",
       "      <td>4.805</td>\n",
       "      <td>1</td>\n",
       "    </tr>\n",
       "    <tr>\n",
       "      <th>4</th>\n",
       "      <td>16.14</td>\n",
       "      <td>14.99</td>\n",
       "      <td>0.9034</td>\n",
       "      <td>5.658</td>\n",
       "      <td>3.562</td>\n",
       "      <td>1.355</td>\n",
       "      <td>5.175</td>\n",
       "      <td>1</td>\n",
       "    </tr>\n",
       "  </tbody>\n",
       "</table>\n",
       "</div>"
      ],
      "text/plain": [
       "       0      1       2      3      4      5      6  7\n",
       "0  15.26  14.84  0.8710  5.763  3.312  2.221  5.220  1\n",
       "1  14.88  14.57  0.8811  5.554  3.333  1.018  4.956  1\n",
       "2  14.29  14.09  0.9050  5.291  3.337  2.699  4.825  1\n",
       "3  13.84  13.94  0.8955  5.324  3.379  2.259  4.805  1\n",
       "4  16.14  14.99  0.9034  5.658  3.562  1.355  5.175  1"
      ]
     },
     "execution_count": 6,
     "metadata": {},
     "output_type": "execute_result"
    }
   ],
   "source": [
    "df = pd.read_csv('seeds_dataset.csv', header = None)\n",
    "df.head()"
   ]
  },
  {
   "cell_type": "code",
   "execution_count": 13,
   "metadata": {},
   "outputs": [],
   "source": [
    "x = df[df.columns[: -1]]\n",
    "y = df[df.columns[-1]]"
   ]
  },
  {
   "cell_type": "code",
   "execution_count": 28,
   "metadata": {},
   "outputs": [
    {
     "name": "stdout",
     "output_type": "stream",
     "text": [
      "(210, 7)\n"
     ]
    },
    {
     "data": {
      "text/plain": [
       "array([1, 2, 3])"
      ]
     },
     "execution_count": 28,
     "metadata": {},
     "output_type": "execute_result"
    }
   ],
   "source": [
    "print (x.shape)\n",
    "y.unique()"
   ]
  },
  {
   "cell_type": "code",
   "execution_count": null,
   "metadata": {
    "collapsed": true
   },
   "outputs": [],
   "source": []
  },
  {
   "cell_type": "code",
   "execution_count": 32,
   "metadata": {},
   "outputs": [
    {
     "data": {
      "text/plain": [
       "<matplotlib.collections.PathCollection at 0x11b8badd8>"
      ]
     },
     "execution_count": 32,
     "metadata": {},
     "output_type": "execute_result"
    },
    {
     "data": {
      "image/png": "[encoded data removed]",
      "text/plain": [
       "<matplotlib.figure.Figure at 0x11b80feb8>"
      ]
     },
     "metadata": {},
     "output_type": "display_data"
    }
   ],
   "source": [
    "# Generate a dataset and plot it\n",
    "import sklearn.datasets\n",
    "\n",
    "np.random.seed(0)\n",
    "x, y = sklearn.datasets.make_moons(200, noise = 0.20)\n",
    "plt.scatter(x[:,0], x[:,1], s = 40, c = y, cmap = plt.cm.Spectral)"
   ]
  },
  {
   "cell_type": "code",
   "execution_count": null,
   "metadata": {
    "collapsed": true
   },
   "outputs": [],
   "source": []
  },
  {
   "cell_type": "markdown",
   "metadata": {},
   "source": [
    "forward propagation\n",
    "\n",
    "$$\n",
    "\\begin{aligned}\n",
    "z_1 = xW_1 + b_1 \\\\\n",
    "a_1 = \\tanh(z_1) \\\\\n",
    "z_2 = a_1W_2 + b_2 \\\\\n",
    "a_2 = \\hat{y} = \\mathrm{softmax}(z_2)\n",
    "\\end{aligned}\n",
    "$$"
   ]
  },
  {
   "cell_type": "markdown",
   "metadata": {},
   "source": [
    "back propagation\n",
    "\n",
    "$$\n",
    "\\begin{aligned}\n",
    "\\delta_3 = \\hat{y} - y \\\\\n",
    "\\frac{\\partial{L}}{\\partial{W_2}} = a_1^T \\delta_3  \\\\\n",
    "\\frac{\\partial{L}}{\\partial{W_1}} = x^T \\delta_2\\\\\n",
    "\\delta_2 = (1 - \\tanh^2z_1) \\circ \\delta_3W_2^T \\\\\n",
    "\\frac{\\partial{L}}{\\partial{b_2}} = \\delta_3\\\\\n",
    "\\frac{\\partial{L}}{\\partial{b_1}} = \\delta_2 \\\\\n",
    "\\end{aligned}\n",
    "$$"
   ]
  },
  {
   "cell_type": "markdown",
   "metadata": {},
   "source": [
    "cross-entropy loss\n",
    "\n",
    "$$\n",
    "\\begin{aligned}\n",
    "L(y,\\hat{y}) = - \\frac{1}{N} \\sum_{n \\in N} \\sum_{i \\in C} y_{n,i} \\log\\hat{y}_{n,i}\n",
    "\\end{aligned}\n",
    "$$"
   ]
  },
  {
   "cell_type": "code",
   "execution_count": 43,
   "metadata": {},
   "outputs": [],
   "source": [
    "num_examples = len(x) # training data size\n",
    "nn_input_dim = 2 # input layer dimension\n",
    "nn_output_dim = 2 # output layer dimension \n",
    "\n",
    "# gradient descent parameters - picked randomly for now\n",
    "epsilon = 0.01 # learning rate for gradient descent\n",
    "reg_lambda = 0.01 # regularization\n"
   ]
  },
  {
   "cell_type": "code",
   "execution_count": 44,
   "metadata": {
    "collapsed": true
   },
   "outputs": [],
   "source": [
    "# evaluate total loss on the dataset\n",
    "\n",
    "def calculate_loss(model):\n",
    "    w1, b1, w2, b2 = model['w1'], model['b1'], model['w2'], model['b2']\n",
    "    \n",
    "    # forward propagation\n",
    "    z1 = x.dot(w1) + b1\n",
    "    a1 = np.tanh(z1)\n",
    "    z2 = a1.dot(w2) + b2\n",
    "    # soft max for two dimensional output\n",
    "    exp_scores = np.exp(z2)\n",
    "    probs = exp_scores/ np.sum(exp_scores, axis = 1, keepdims = True)\n",
    "    \n",
    "    # cross-entropy loss\n",
    "    corect_logprobs = -np.log(probs[range(num_examples), y])\n",
    "    data_loss = np.sum(corect_logprobs)\n",
    "    # add regularization term to loss function\n",
    "    data_loss += reg_lambda/2 * (np.sum(np.square(w1)) + np.sum(np.square(w2)))\n",
    "    \n",
    "    return 1/ num_examples * data_loss"
   ]
  },
  {
   "cell_type": "code",
   "execution_count": 49,
   "metadata": {
    "collapsed": true
   },
   "outputs": [],
   "source": [
    "# output prediction - output layer dimension is determined by the number of classes, each neuron standing for a class\n",
    "def predict(model, x):\n",
    "    w1, b1, w2, b2 = model['w1'], model['b1'], model['w2'], model['b2']\n",
    "    \n",
    "    # forward propagation\n",
    "    z1 = x.dot(w1) + b1\n",
    "    a1 = np.tanh(z1)\n",
    "    z2 = a1.dot(w2) + b2\n",
    "    # soft max for two dimensional output\n",
    "    exp_scores = np.exp(z2)\n",
    "    probs = exp_scores/ np.sum(exp_scores, axis = 1, keepdims = True)\n",
    "    \n",
    "    return np.argmax(probs, axis = 1)\n"
   ]
  },
  {
   "cell_type": "code",
   "execution_count": 53,
   "metadata": {
    "collapsed": true
   },
   "outputs": [],
   "source": [
    "# nn_hdim: Number of neurons in the hidden layer\n",
    "# num_passes: Number of passes through the training data for gradient descent\n",
    "# print_loss: If True, print the loss every 1000 iterations\n",
    "\n",
    "def build_model(nn_hdim, num_passes = 20000, print_loss = False):\n",
    "    # parameter initialization\n",
    "    np.random.seed(0)\n",
    "    w1 = np.random.randn(nn_input_dim, nn_hdim)/ np.sqrt(nn_input_dim)\n",
    "#     w1 = np.random.randn(nn_input_dim, nn_hdim)\n",
    "    b1 = np.zeros((1, nn_hdim))\n",
    "    w2 = np.random.rand(nn_hdim, nn_output_dim)/ np.sqrt(nn_hdim)\n",
    "#     w2 = np.random.rand(nn_hdim, nn_output_dim)\n",
    "    b2 = np.zeros((1, nn_output_dim))\n",
    "    \n",
    "    model = {}\n",
    "    \n",
    "    # batch gradient descent\n",
    "    for i in range(0, num_passes):\n",
    "        \n",
    "        # forward propagation\n",
    "        z1 = x.dot(w1) + b1\n",
    "        a1 = np.tanh(z1)\n",
    "        z2 = a1.dot(w2) + b2\n",
    "        # soft max for two dimensional output\n",
    "        exp_scores = np.exp(z2)\n",
    "        probs = exp_scores/ np.sum(exp_scores, axis = 1, keepdims = True)\n",
    "    \n",
    "        # backpropagation\n",
    "        delta3 = probs\n",
    "        delta3[range(num_examples), y] -= 1\n",
    "        dw2 = (a1.T).dot(delta3)\n",
    "        db2 = np.sum(delta3, axis = 0, keepdims = True)\n",
    "        delta2 = delta3.dot(w2.T) * (1 - np.power(a1, 2))\n",
    "        dw1 = np.dot(x.T, delta2)\n",
    "        db1 = np.sum(delta2, axis = 0)\n",
    "        \n",
    "        # add regularization terms\n",
    "        dw2 += reg_lambda * w2\n",
    "        dw1 += reg_lambda * w1\n",
    "        \n",
    "        # update gradient descent parameter\n",
    "        w1 += - epsilon * dw1\n",
    "        b1 += - epsilon * db1 \n",
    "        w2 += - epsilon * dw2\n",
    "        b2 += - epsilon * db2\n",
    "        \n",
    "        # assign updated parameters to the model\n",
    "        model = {'w1': w1, 'b1': b1, 'w2': w2, 'b2': b2}\n",
    "        \n",
    "        # print the loss optionally \n",
    "        if print_loss and i % 1000 == 0:\n",
    "            print('Loss after iteration %i: %f' %(i, calculate_loss(model)))\n",
    "    \n",
    "    return model"
   ]
  },
  {
   "cell_type": "code",
   "execution_count": null,
   "metadata": {
    "collapsed": true
   },
   "outputs": [],
   "source": []
  },
  {
   "cell_type": "code",
   "execution_count": 57,
   "metadata": {},
   "outputs": [],
   "source": [
    "def plot_decision_boundary(pred_func):\n",
    "    # Set min and max values and give it some padding\n",
    "    x_min, x_max = x[:, 0].min() - .5, x[:, 0].max() + .5\n",
    "    y_min, y_max = x[:, 1].min() - .5, x[:, 1].max() + .5\n",
    "    h = 0.01\n",
    "    \n",
    "    # Generate a grid of points with distance h between them\n",
    "    xx, yy = np.meshgrid(np.arange(x_min, x_max, h), np.arange(y_min, y_max, h))\n",
    "    \n",
    "    # Predict the function value for the whole gid\n",
    "    Z = pred_func(np.c_[xx.ravel(), yy.ravel()])\n",
    "    Z = Z.reshape(xx.shape)\n",
    "    \n",
    "    # Plot the contour and training examples\n",
    "    fig = plt.figure(figsize = (7, 5))\n",
    "    plt.contourf(xx, yy, Z, cmap = plt.cm.Spectral)\n",
    "    plt.scatter(x[:, 0], x[:, 1], c = y, cmap = plt.cm.Spectral, alpha = 0.7)"
   ]
  },
  {
   "cell_type": "code",
   "execution_count": 139,
   "metadata": {},
   "outputs": [
    {
     "name": "stdout",
     "output_type": "stream",
     "text": [
      "Loss after iteration 0: 0.412746\n",
      "Loss after iteration 1000: 0.069036\n",
      "Loss after iteration 2000: 0.070785\n",
      "Loss after iteration 3000: 0.070770\n",
      "Loss after iteration 4000: 0.070772\n",
      "Loss after iteration 5000: 0.070772\n",
      "Loss after iteration 6000: 0.070771\n",
      "Loss after iteration 7000: 0.070770\n",
      "Loss after iteration 8000: 0.070768\n",
      "Loss after iteration 9000: 0.070767\n",
      "Loss after iteration 10000: 0.070766\n",
      "Loss after iteration 11000: 0.070764\n",
      "Loss after iteration 12000: 0.070763\n",
      "Loss after iteration 13000: 0.070762\n",
      "Loss after iteration 14000: 0.070762\n",
      "Loss after iteration 15000: 0.070761\n",
      "Loss after iteration 16000: 0.070760\n",
      "Loss after iteration 17000: 0.070760\n",
      "Loss after iteration 18000: 0.070760\n",
      "Loss after iteration 19000: 0.070759\n"
     ]
    },
    {
     "data": {
      "image/png": "[encoded data removed]",
      "text/plain": [
       "<matplotlib.figure.Figure at 0x11d1c2748>"
      ]
     },
     "metadata": {},
     "output_type": "display_data"
    }
   ],
   "source": [
    "# use the network above to train 3 neuron a single hidden layer nn\n",
    "\n",
    "model = build_model(3, print_loss = True)\n",
    "\n",
    "plot_decision_boundary(lambda x: predict(model, x))"
   ]
  },
  {
   "cell_type": "code",
   "execution_count": null,
   "metadata": {
    "collapsed": true
   },
   "outputs": [],
   "source": []
  }
 ],
 "metadata": {
  "kernelspec": {
   "display_name": "Python 3",
   "language": "python",
   "name": "python3"
  },
  "language_info": {
   "codemirror_mode": {
    "name": "ipython",
    "version": 3
   },
   "file_extension": ".py",
   "mimetype": "text/x-python",
   "name": "python",
   "nbconvert_exporter": "python",
   "pygments_lexer": "ipython3",
   "version": "3.5.2"
  }
 },
 "nbformat": 4,
 "nbformat_minor": 2
}
