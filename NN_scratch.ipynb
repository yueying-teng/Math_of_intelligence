{
 "cells": [
  {
   "cell_type": "code",
   "execution_count": 1,
   "metadata": {
    "collapsed": true
   },
   "outputs": [],
   "source": [
    "import matplotlib.pyplot as plt\n",
    "%matplotlib inline \n",
    "\n",
    "import numpy as np\n",
    "import pandas as pd"
   ]
  },
  {
   "cell_type": "code",
   "execution_count": 30,
   "metadata": {},
   "outputs": [
    {
     "name": "stdout",
     "output_type": "stream",
     "text": [
      "Int64Index([0, 1, 2, 3, 4, 5, 6, 7], dtype='int64')\n"
     ]
    }
   ],
   "source": [
    "df = pd.read_csv('seeds_dataset.csv', header = None)\n",
    "df.head()\n",
    "\n",
    "print (df.columns)"
   ]
  },
  {
   "cell_type": "code",
   "execution_count": 31,
   "metadata": {},
   "outputs": [
    {
     "name": "stdout",
     "output_type": "stream",
     "text": [
      "Index(['0', '1', '2', '3', '4', '5', '6', '7'], dtype='object')\n"
     ]
    }
   ],
   "source": [
    "# change integer column names to strings\n",
    "\n",
    "df.columns = df.columns.map(str)\n",
    "print (df.columns)"
   ]
  },
  {
   "cell_type": "code",
   "execution_count": 32,
   "metadata": {
    "collapsed": true
   },
   "outputs": [],
   "source": [
    "# change class labels to numbers starting from 0\n",
    "\n",
    "df['7'] = df['7'] - 1"
   ]
  },
  {
   "cell_type": "code",
   "execution_count": 33,
   "metadata": {
    "collapsed": true
   },
   "outputs": [],
   "source": [
    "seed_x = df[df.columns[: -1]]\n",
    "seed_y = df[df.columns[-1]]"
   ]
  },
  {
   "cell_type": "code",
   "execution_count": null,
   "metadata": {
    "collapsed": true
   },
   "outputs": [],
   "source": []
  },
  {
   "cell_type": "code",
   "execution_count": 6,
   "metadata": {
    "collapsed": true
   },
   "outputs": [],
   "source": [
    "# # Generate a dataset and plot it\n",
    "# import sklearn.datasets\n",
    "\n",
    "# np.random.seed(0)\n",
    "# x, y = sklearn.datasets.make_moons(200, noise = 0.20)\n",
    "# plt.scatter(x[:,0], x[:,1], s = 40, c = y, cmap = plt.cm.Spectral)"
   ]
  },
  {
   "cell_type": "code",
   "execution_count": null,
   "metadata": {
    "collapsed": true
   },
   "outputs": [],
   "source": []
  },
  {
   "cell_type": "markdown",
   "metadata": {},
   "source": [
    "forward propagation\n",
    "\n",
    "$$\n",
    "\\begin{aligned}\n",
    "z_1 = xW_1 + b_1 \\\\\n",
    "a_1 = \\tanh(z_1) \\\\\n",
    "z_2 = a_1W_2 + b_2 \\\\\n",
    "a_2 = \\hat{y} = \\mathrm{softmax}(z_2)\n",
    "\\end{aligned}\n",
    "$$"
   ]
  },
  {
   "cell_type": "markdown",
   "metadata": {},
   "source": [
    "back propagation\n",
    "\n",
    "$$\n",
    "\\begin{aligned}\n",
    "\\delta_3 = \\hat{y} - y \\\\\n",
    "\\frac{\\partial{L}}{\\partial{W_2}} = a_1^T \\delta_3  \\\\\n",
    "\\frac{\\partial{L}}{\\partial{W_1}} = x^T \\delta_2\\\\\n",
    "\\delta_2 = (1 - \\tanh^2z_1) \\circ \\delta_3W_2^T \\\\\n",
    "\\frac{\\partial{L}}{\\partial{b_2}} = \\delta_3\\\\\n",
    "\\frac{\\partial{L}}{\\partial{b_1}} = \\delta_2 \\\\\n",
    "\\end{aligned}\n",
    "$$"
   ]
  },
  {
   "cell_type": "markdown",
   "metadata": {},
   "source": [
    "cross-entropy loss for softmax function\n",
    "\n",
    "$$\n",
    "\\begin{aligned}\n",
    "L(y,\\hat{y}) = - \\frac{1}{N} \\sum_{n \\in N} \\sum_{i \\in C} y_{n,i} \\log\\hat{y}_{n,i}\n",
    "\\end{aligned}\n",
    "$$"
   ]
  },
  {
   "cell_type": "code",
   "execution_count": 23,
   "metadata": {
    "collapsed": true
   },
   "outputs": [],
   "source": [
    "# num_examples = len(x) # training data size\n",
    "# nn_input_dim = 2 # input layer dimension\n",
    "# nn_output_dim = 2 # output layer dimension \n",
    "\n",
    "\n",
    "num_examples = seed_x.shape[0]\n",
    "nn_input_dim = len(seed_x.iloc[1])\n",
    "nn_output_dim = len(seed_y.unique())\n",
    "\n",
    "\n",
    "# gradient descent parameters - picked randomly for now\n",
    "epsilon = 0.001 # learning rate for gradient descent\n",
    "reg_lambda = 0.1 # regularization\n"
   ]
  },
  {
   "cell_type": "code",
   "execution_count": 8,
   "metadata": {
    "collapsed": true
   },
   "outputs": [],
   "source": [
    "# evaluate total loss on the dataset\n",
    "\n",
    "def calculate_loss(model, x, y):\n",
    "    w1, b1, w2, b2 = model['w1'], model['b1'], model['w2'], model['b2']\n",
    "    \n",
    "    # forward propagation\n",
    "    z1 = x.dot(w1) + b1\n",
    "    a1 = np.tanh(z1)\n",
    "    z2 = a1.dot(w2) + b2\n",
    "    # soft max for two dimensional output\n",
    "    exp_scores = np.exp(z2)\n",
    "    probs = exp_scores/ np.sum(exp_scores, axis = 1, keepdims = True)\n",
    "    \n",
    "    # cross-entropy loss\n",
    "    corect_logprobs = -np.log(probs[range(num_examples), y])\n",
    "    data_loss = np.sum(corect_logprobs)\n",
    "    # add regularization term to loss function\n",
    "    data_loss += reg_lambda/2 * (np.sum(np.square(w1)) + np.sum(np.square(w2)))\n",
    "    \n",
    "    return 1/ num_examples * data_loss"
   ]
  },
  {
   "cell_type": "code",
   "execution_count": 9,
   "metadata": {
    "collapsed": true
   },
   "outputs": [],
   "source": [
    "# output prediction - output layer dimension is determined by the number of classes, each neuron standing for a class\n",
    "def predict(model, x):\n",
    "    w1, b1, w2, b2 = model['w1'], model['b1'], model['w2'], model['b2']\n",
    "    \n",
    "    # forward propagation\n",
    "    z1 = x.dot(w1) + b1\n",
    "    a1 = np.tanh(z1)\n",
    "    z2 = a1.dot(w2) + b2\n",
    "    # soft max for J dimensional output\n",
    "    exp_scores = np.exp(z2)\n",
    "    probs = exp_scores/ np.sum(exp_scores, axis = 1, keepdims = True)\n",
    "    \n",
    "    return np.argmax(probs, axis = 1)\n"
   ]
  },
  {
   "cell_type": "code",
   "execution_count": 44,
   "metadata": {
    "collapsed": true
   },
   "outputs": [],
   "source": [
    "# nn_hdim: Number of neurons in the hidden layer\n",
    "# num_passes: Number of passes through the training data for gradient descent\n",
    "# print_loss: If True, print the loss every 1000 iterations\n",
    "\n",
    "def build_model(x, y, nn_hdim, num_passes = 200000, print_loss = False):\n",
    "    \n",
    "    # parameter initialization\n",
    "    np.random.seed(0)\n",
    "    w1 = np.random.randn(nn_input_dim, nn_hdim)/ np.sqrt(nn_input_dim)\n",
    "    b1 = np.zeros((1, nn_hdim))\n",
    "    w2 = np.random.rand(nn_hdim, nn_output_dim)/ np.sqrt(nn_hdim)\n",
    "    b2 = np.zeros((1, nn_output_dim))\n",
    "    \n",
    "    model = {}\n",
    "    \n",
    "    # batch gradient descent\n",
    "    for i in range(0, num_passes):\n",
    "        \n",
    "        # forward propagation\n",
    "        z1 = x.dot(w1) + b1\n",
    "        a1 = np.tanh(z1)\n",
    "        z2 = a1.dot(w2) + b2\n",
    "        # soft max for two dimensional output\n",
    "        exp_scores = np.exp(z2)\n",
    "        probs = exp_scores/ np.sum(exp_scores, axis = 1, keepdims = True)\n",
    "    \n",
    "        # backpropagation\n",
    "        delta3 = probs\n",
    "        delta3[range(num_examples), y] -= 1\n",
    "        dw2 = (a1.T).dot(delta3)\n",
    "        db2 = np.sum(delta3, axis = 0, keepdims = True)\n",
    "        delta2 = delta3.dot(w2.T) * (1 - np.power(a1, 2))\n",
    "        dw1 = np.dot(x.T, delta2)\n",
    "        db1 = np.sum(delta2, axis = 0)\n",
    "        \n",
    "        # add regularization terms\n",
    "        dw2 += reg_lambda * w2\n",
    "        dw1 += reg_lambda * w1\n",
    "        \n",
    "        # update gradient descent parameter\n",
    "        w1 += - epsilon * dw1\n",
    "        b1 += - epsilon * db1 \n",
    "        w2 += - epsilon * dw2\n",
    "        b2 += - epsilon * db2\n",
    "        \n",
    "        # assign updated parameters to the model\n",
    "        model = {'w1': w1, 'b1': b1, 'w2': w2, 'b2': b2}\n",
    "        \n",
    "        # print the loss optionally \n",
    "        if print_loss and i % 20000 == 0:\n",
    "            print('Loss after iteration %i: %f' %(i, calculate_loss(model, x, y)))\n",
    "            \n",
    "    \n",
    "    return model"
   ]
  },
  {
   "cell_type": "code",
   "execution_count": 37,
   "metadata": {
    "collapsed": true
   },
   "outputs": [],
   "source": [
    "# def plot_decision_boundary(pred_func):\n",
    "#     # Set min and max values and give it some padding\n",
    "#     x_min, x_max = x[:, 0].min() - .5, x[:, 0].max() + .5\n",
    "#     y_min, y_max = x[:, 1].min() - .5, x[:, 1].max() + .5\n",
    "#     h = 0.01\n",
    "    \n",
    "#     # Generate a grid of points with distance h between them\n",
    "#     xx, yy = np.meshgrid(np.arange(x_min, x_max, h), np.arange(y_min, y_max, h))\n",
    "    \n",
    "#     # Predict the function value for the whole gid\n",
    "#     Z = pred_func(np.c_[xx.ravel(), yy.ravel()])\n",
    "#     Z = Z.reshape(xx.shape)\n",
    "    \n",
    "#     # Plot the contour and training examples\n",
    "#     fig = plt.figure(figsize = (7, 5))\n",
    "#     plt.contourf(xx, yy, Z, cmap = plt.cm.Spectral)\n",
    "#     plt.scatter(x[:, 0], x[:, 1], c = y, cmap = plt.cm.Spectral, alpha = 0.7)"
   ]
  },
  {
   "cell_type": "code",
   "execution_count": 45,
   "metadata": {},
   "outputs": [
    {
     "name": "stdout",
     "output_type": "stream",
     "text": [
      "Loss after iteration 0: 1.022415\n",
      "Loss after iteration 20000: 1.103004\n",
      "Loss after iteration 40000: 0.586528\n",
      "Loss after iteration 60000: 1.105641\n",
      "Loss after iteration 80000: 1.101040\n",
      "Loss after iteration 100000: 1.100700\n",
      "Loss after iteration 120000: 1.100224\n",
      "Loss after iteration 140000: 1.106169\n",
      "Loss after iteration 160000: 1.101719\n",
      "Loss after iteration 180000: 1.105909\n"
     ]
    }
   ],
   "source": [
    "# use the network above to train 5 neuron a single hidden layer nn\n",
    "\n",
    "# model = build_model(x, y, 3, print_loss = True)\n",
    "\n",
    "model = build_model(np.array(seed_x), np.array(seed_y), 5, print_loss = True)\n"
   ]
  },
  {
   "cell_type": "code",
   "execution_count": 46,
   "metadata": {},
   "outputs": [
    {
     "ename": "TypeError",
     "evalue": "tuple indices must be integers or slices, not str",
     "output_type": "error",
     "traceback": [
      "\u001b[0;31m---------------------------------------------------------------------------\u001b[0m",
      "\u001b[0;31mTypeError\u001b[0m                                 Traceback (most recent call last)",
      "\u001b[0;32m<ipython-input-46-8494bc001a59>\u001b[0m in \u001b[0;36m<module>\u001b[0;34m()\u001b[0m\n\u001b[0;32m----> 1\u001b[0;31m \u001b[0mpred\u001b[0m \u001b[0;34m=\u001b[0m \u001b[0mpredict\u001b[0m\u001b[0;34m(\u001b[0m\u001b[0mmodel\u001b[0m\u001b[0;34m,\u001b[0m \u001b[0mnp\u001b[0m\u001b[0;34m.\u001b[0m\u001b[0marray\u001b[0m\u001b[0;34m(\u001b[0m\u001b[0mseed_x\u001b[0m\u001b[0;34m)\u001b[0m\u001b[0;34m)\u001b[0m\u001b[0;34m\u001b[0m\u001b[0m\n\u001b[0m\u001b[1;32m      2\u001b[0m \u001b[0mpred\u001b[0m\u001b[0;34m\u001b[0m\u001b[0m\n",
      "\u001b[0;32m<ipython-input-9-b28030307cdd>\u001b[0m in \u001b[0;36mpredict\u001b[0;34m(model, x)\u001b[0m\n\u001b[1;32m      1\u001b[0m \u001b[0;31m# output prediction - output layer dimension is determined by the number of classes, each neuron standing for a class\u001b[0m\u001b[0;34m\u001b[0m\u001b[0;34m\u001b[0m\u001b[0m\n\u001b[1;32m      2\u001b[0m \u001b[0;32mdef\u001b[0m \u001b[0mpredict\u001b[0m\u001b[0;34m(\u001b[0m\u001b[0mmodel\u001b[0m\u001b[0;34m,\u001b[0m \u001b[0mx\u001b[0m\u001b[0;34m)\u001b[0m\u001b[0;34m:\u001b[0m\u001b[0;34m\u001b[0m\u001b[0m\n\u001b[0;32m----> 3\u001b[0;31m     \u001b[0mw1\u001b[0m\u001b[0;34m,\u001b[0m \u001b[0mb1\u001b[0m\u001b[0;34m,\u001b[0m \u001b[0mw2\u001b[0m\u001b[0;34m,\u001b[0m \u001b[0mb2\u001b[0m \u001b[0;34m=\u001b[0m \u001b[0mmodel\u001b[0m\u001b[0;34m[\u001b[0m\u001b[0;34m'w1'\u001b[0m\u001b[0;34m]\u001b[0m\u001b[0;34m,\u001b[0m \u001b[0mmodel\u001b[0m\u001b[0;34m[\u001b[0m\u001b[0;34m'b1'\u001b[0m\u001b[0;34m]\u001b[0m\u001b[0;34m,\u001b[0m \u001b[0mmodel\u001b[0m\u001b[0;34m[\u001b[0m\u001b[0;34m'w2'\u001b[0m\u001b[0;34m]\u001b[0m\u001b[0;34m,\u001b[0m \u001b[0mmodel\u001b[0m\u001b[0;34m[\u001b[0m\u001b[0;34m'b2'\u001b[0m\u001b[0;34m]\u001b[0m\u001b[0;34m\u001b[0m\u001b[0m\n\u001b[0m\u001b[1;32m      4\u001b[0m \u001b[0;34m\u001b[0m\u001b[0m\n\u001b[1;32m      5\u001b[0m     \u001b[0;31m# forward propagation\u001b[0m\u001b[0;34m\u001b[0m\u001b[0;34m\u001b[0m\u001b[0m\n",
      "\u001b[0;31mTypeError\u001b[0m: tuple indices must be integers or slices, not str"
     ]
    }
   ],
   "source": [
    "pred = predict(model, np.array(seed_x))\n",
    "pred"
   ]
  },
  {
   "cell_type": "code",
   "execution_count": null,
   "metadata": {
    "collapsed": true
   },
   "outputs": [],
   "source": [
    "# accuracy \n",
    "\n",
    "def accuracy(model, x, y_true):\n",
    "    pred = predict(model, x)\n",
    "\n",
    "    return sum(pred == y_true)/ y_true.shape[0]"
   ]
  },
  {
   "cell_type": "code",
   "execution_count": null,
   "metadata": {},
   "outputs": [],
   "source": [
    "# accuracy\n",
    "\n",
    "accuracy(model, np.array(seed_x), np.array(seed_y))"
   ]
  },
  {
   "cell_type": "code",
   "execution_count": null,
   "metadata": {
    "collapsed": true
   },
   "outputs": [],
   "source": [
    "# plot_decision_boundary(lambda x: predict(model, x))"
   ]
  },
  {
   "cell_type": "markdown",
   "metadata": {},
   "source": [
    "### loss and number of hidden layers "
   ]
  },
  {
   "cell_type": "code",
   "execution_count": 47,
   "metadata": {},
   "outputs": [
    {
     "ename": "NameError",
     "evalue": "name 'loss' is not defined",
     "output_type": "error",
     "traceback": [
      "\u001b[0;31m---------------------------------------------------------------------------\u001b[0m",
      "\u001b[0;31mNameError\u001b[0m                                 Traceback (most recent call last)",
      "\u001b[0;32m<ipython-input-47-4eb681f84119>\u001b[0m in \u001b[0;36m<module>\u001b[0;34m()\u001b[0m\n\u001b[0;32m----> 1\u001b[0;31m \u001b[0mloss\u001b[0m\u001b[0;34m\u001b[0m\u001b[0m\n\u001b[0m",
      "\u001b[0;31mNameError\u001b[0m: name 'loss' is not defined"
     ]
    }
   ],
   "source": [
    "loss"
   ]
  },
  {
   "cell_type": "code",
   "execution_count": null,
   "metadata": {
    "collapsed": true
   },
   "outputs": [],
   "source": []
  }
 ],
 "metadata": {
  "kernelspec": {
   "display_name": "Python 3",
   "language": "python",
   "name": "python3"
  },
  "language_info": {
   "codemirror_mode": {
    "name": "ipython",
    "version": 3
   },
   "file_extension": ".py",
   "mimetype": "text/x-python",
   "name": "python",
   "nbconvert_exporter": "python",
   "pygments_lexer": "ipython3",
   "version": "3.5.2"
  }
 },
 "nbformat": 4,
 "nbformat_minor": 2
}
