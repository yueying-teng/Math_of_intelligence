{
 "cells": [
  {
   "cell_type": "code",
   "execution_count": 121,
   "metadata": {
    "collapsed": true
   },
   "outputs": [],
   "source": [
    "import numpy as np\n",
    "import pandas as pd\n",
    "\n",
    "import matplotlib.pyplot as plt\n",
    "import matplotlib.animation as animation \n",
    "% matplotlib inline"
   ]
  },
  {
   "cell_type": "code",
   "execution_count": 167,
   "metadata": {
    "collapsed": true
   },
   "outputs": [],
   "source": [
    "# load text file data\n",
    "# 2d text data - number of packages sent per second and the size of the package\n",
    "def load_dataset(name):\n",
    "    d = pd.read_csv(name)\n",
    "    x = d[d.columns[1: -1]]\n",
    "    x.columns = ['sepallen', 'sepalwid', 'petallen', 'petalwid']\n",
    "    mapping = {'Iris-setosa': 0, 'Iris-versicolor': 1, 'Iris-virginica': 2}\n",
    "    y = d[d.columns[-1]].replace(mapping)\n",
    "    \n",
    "    return x, y"
   ]
  },
  {
   "cell_type": "code",
   "execution_count": null,
   "metadata": {
    "collapsed": true
   },
   "outputs": [],
   "source": []
  },
  {
   "cell_type": "code",
   "execution_count": 168,
   "metadata": {
    "collapsed": true
   },
   "outputs": [],
   "source": [
    "# euclidean distance between two datapoints for as many data points as possible.\n",
    "def euclidean(a, b):\n",
    "    return np.linalg.norm(a - b)\n"
   ]
  },
  {
   "cell_type": "markdown",
   "metadata": {},
   "source": [
    "** K-means**\n",
    " \n",
    "- randomly choose K sample points as the initial centroids\n",
    "- assign each sample point to the closest centroid\n",
    "- update the centroids using the current cluster membership (mean with in membership group)\n",
    "- if convergence criterion (centroids stop changing) is still not met, go to step 2"
   ]
  },
  {
   "cell_type": "code",
   "execution_count": null,
   "metadata": {},
   "outputs": [],
   "source": []
  },
  {
   "cell_type": "code",
   "execution_count": null,
   "metadata": {
    "collapsed": true
   },
   "outputs": [],
   "source": []
  },
  {
   "cell_type": "code",
   "execution_count": 174,
   "metadata": {
    "collapsed": true
   },
   "outputs": [],
   "source": [
    "def kmeans(k, epsilon = 0, distance = 'euclidean'):\n",
    "    \n",
    "    # create list to store past centroids\n",
    "    history_centroids = []\n",
    "    \n",
    "    if distance == 'euclidean':\n",
    "        dist_method = euclidean\n",
    "    \n",
    "    # load the dataset\n",
    "    # only work on the petal pairs for now\n",
    "    x, y = load_dataset('Iris.csv')\n",
    "    dataset = x[['petallen', 'petalwid']]\n",
    "    \n",
    "    num_instances, num_features = dataset.shape\n",
    "    \n",
    "    # randomly initialize the first k centroids \n",
    "    prototypes = dataset.values[np.random.randint(0, num_instances - 1, size = k)]\n",
    "   \n",
    "    # save the initialization to track the path of of changing centroids\n",
    "    history_centroids.append(prototypes)\n",
    "    \n",
    "    # for stopping criterion\n",
    "    norm = dist_method(prototypes, np.zeros(prototypes.shape))\n",
    "    \n",
    "    # for update \n",
    "    tmp_prototypes = np.zeros((k, num_features))\n",
    "    \n",
    "    # to store instance membership\n",
    "    belongs_to = np.zeros((num_instances, 1))\n",
    "    \n",
    "    # centroids update process\n",
    "    iteration = 0\n",
    "    while norm > epsilon:\n",
    "        iteration += 1\n",
    "        \n",
    "        # for each instance in the dataset\n",
    "        for index_instance, instance in enumerate(dataset.values):\n",
    "            # create a distance vector of size k for the current instance \n",
    "            dist_vec = np.zeros((k,1))\n",
    "            # for each centroid\n",
    "            for index_prototype, prototype in enumerate(prototypes):\n",
    "                # compute the distance between teh curernt instance and each centroid\n",
    "                dist_vec[index_prototype] = dist_method(prototype, instance)\n",
    "            # find the shortest distance, assign the instance to that cluster\n",
    "            # argmin returns the index of the min along the given axis\n",
    "            belongs_to[index_instance, 0] = np.argmin(dist_vec)\n",
    "        \n",
    "        # cluster center update \n",
    "        for index in range(len(prototypes)):\n",
    "            # collect the indices of points assigned to the same cluster\n",
    "            instances_close = [i for i in range(len(belongs_to)) if belongs_to[i] == index]\n",
    "            # calcualte the mean of current index new centroid\n",
    "            prototype = np.mean(dataset.values[instances_close], axis=0)\n",
    "            # add the new centroid to the temporary list\n",
    "            tmp_prototypes[index, :] = prototype\n",
    "        \n",
    "        # set the new list to the current list\n",
    "        prototypes = tmp_prototypes           \n",
    "        \n",
    "        # add current centroids to the history for plotting\n",
    "        history_centroids.append(tmp_prototypes)\n",
    "         \n",
    "        norm = dist_method(prototypes, history_centroids[-2])\n",
    "        \n",
    "    # return calculated centroids, history of the centroids, and instance membership\n",
    "    return prototypes, history_centroids, belongs_to"
   ]
  },
  {
   "cell_type": "code",
   "execution_count": null,
   "metadata": {},
   "outputs": [],
   "source": []
  },
  {
   "cell_type": "code",
   "execution_count": null,
   "metadata": {
    "collapsed": true
   },
   "outputs": [],
   "source": []
  },
  {
   "cell_type": "code",
   "execution_count": null,
   "metadata": {},
   "outputs": [],
   "source": []
  },
  {
   "cell_type": "code",
   "execution_count": 249,
   "metadata": {
    "collapsed": true
   },
   "outputs": [],
   "source": [
    "def plot(dataset, history_centroids, belongs_to):\n",
    "    # choose a color for each cluster center \n",
    "    colors = ['r', 'y', 'm']\n",
    "\n",
    "    fig = plt.subplots()\n",
    "\n",
    "    # for each instance \n",
    "    for index in range(dataset.shape[0]):\n",
    "        # collect the points assigend to the same cluster\n",
    "        instances_close = [i for i in range(len(belongs_to)) if belongs_to[i] == index]\n",
    "\n",
    "        for instance_index in instances_close:\n",
    "            plt.scatter(dataset.values[instance_index][0], dataset.values[instance_index][1], c = (colors[index]), alpha = 0.6)\n",
    "\n",
    "    clusters = history_centroids[-1]\n",
    "\n",
    "    for i in range(k):\n",
    "        plt.scatter(clusters[i][0], clusters[i][1], color = 'g')\n",
    "\n",
    "    for index, centroids in enumerate(history_centroids):\n",
    "        # print them all out\n",
    "        for inner, item in enumerate(centroids):\n",
    "            print(\"centroids {} {}\".format(index, item))\n",
    "\n",
    "            plt.show()"
   ]
  },
  {
   "cell_type": "code",
   "execution_count": 250,
   "metadata": {
    "collapsed": true
   },
   "outputs": [],
   "source": [
    "# main \n",
    "def execute():\n",
    "    \n",
    "    # train \n",
    "    centroids, history_centroids, belongs_to = kmeans(3)\n",
    "    # plot \n",
    "    plot(dataset, history_centroids, belongs_to)"
   ]
  },
  {
   "cell_type": "code",
   "execution_count": 255,
   "metadata": {},
   "outputs": [
    {
     "name": "stdout",
     "output_type": "stream",
     "text": [
      "centroids 0 [ 5.1  1.9]\n"
     ]
    },
    {
     "data": {
      "image/png": "[encoded data removed]",
      "text/plain": [
       "<matplotlib.figure.Figure at 0xc3e6f28>"
      ]
     },
     "metadata": {},
     "output_type": "display_data"
    },
    {
     "name": "stdout",
     "output_type": "stream",
     "text": [
      "centroids 0 [ 1.4  0.2]\n",
      "centroids 0 [ 5.5  2.1]\n",
      "centroids 1 [ 4.4         1.42380952]\n",
      "centroids 1 [ 1.464  0.244]\n",
      "centroids 1 [ 5.76756757  2.10540541]\n",
      "centroids 2 [ 4.4         1.42380952]\n",
      "centroids 2 [ 1.464  0.244]\n",
      "centroids 2 [ 5.76756757  2.10540541]\n"
     ]
    }
   ],
   "source": [
    "# run\n",
    "# kmeans with different initialized cluster centers leads to different clustring results \n",
    "# average the results from several run with differnt centroids initialization \n",
    "execute()"
   ]
  },
  {
   "cell_type": "code",
   "execution_count": null,
   "metadata": {
    "collapsed": true
   },
   "outputs": [],
   "source": []
  },
  {
   "cell_type": "code",
   "execution_count": 185,
   "metadata": {},
   "outputs": [
    {
     "data": {
      "text/plain": [
       "<matplotlib.text.Text at 0xc2792e8>"
      ]
     },
     "execution_count": 185,
     "metadata": {},
     "output_type": "execute_result"
    },
    {
     "data": {
      "image/png": "[encoded data removed]",
      "text/plain": [
       "<matplotlib.figure.Figure at 0xd9e8438>"
      ]
     },
     "metadata": {},
     "output_type": "display_data"
    }
   ],
   "source": [
    "from sklearn.cluster import KMeans\n",
    "\n",
    "x, y = load_dataset('Iris.csv')\n",
    "\n",
    "model = KMeans(n_clusters = 3)\n",
    "model.fit(x)\n",
    "\n",
    "\n",
    "# visualization of real clustering and built in Kmean clustering \n",
    "# visualize through only the pair of petal features \n",
    "\n",
    "plt.figure(figsize = (10, 5))\n",
    "\n",
    "plt.subplot(1, 2, 1)\n",
    "plt.scatter(x.petallen, x.petalwid, c = y)\n",
    "plt.title('real clustering')\n",
    "\n",
    "plt.subplot(1, 2, 2)\n",
    "plt.scatter(x.petallen, x.petalwid, c = model.labels_)\n",
    "plt.title('kmean clustering')"
   ]
  },
  {
   "cell_type": "code",
   "execution_count": null,
   "metadata": {
    "collapsed": true
   },
   "outputs": [],
   "source": []
  }
 ],
 "metadata": {
  "kernelspec": {
   "display_name": "Python 3",
   "language": "python",
   "name": "python3"
  },
  "language_info": {
   "codemirror_mode": {
    "name": "ipython",
    "version": 3
   },
   "file_extension": ".py",
   "mimetype": "text/x-python",
   "name": "python",
   "nbconvert_exporter": "python",
   "pygments_lexer": "ipython3",
   "version": "3.6.1"
  }
 },
 "nbformat": 4,
 "nbformat_minor": 2
}
